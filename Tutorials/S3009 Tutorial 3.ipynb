{
  "nbformat": 4,
  "nbformat_minor": 0,
  "metadata": {
    "colab": {
      "provenance": []
    },
    "kernelspec": {
      "name": "python3",
      "display_name": "Python 3"
    },
    "language_info": {
      "name": "python"
    }
  },
  "cells": [
    {
      "cell_type": "markdown",
      "source": [
        "# Tutorial 3: Introduction to Pandas\n",
        "\n",
        "In this tutorial, our goal is to become familiar with pandas, a powerful data manipulation and analysis library in Python. We'll cover creating DataFrames, basic operations, data selection, filtering, and aggregation."
      ],
      "metadata": {
        "id": "8Dgr39ltS78c"
      }
    },
    {
      "cell_type": "markdown",
      "source": [
        "## 1. Installing and Importing Pandas\n",
        "\n",
        "Pandas is a powerful data manipulation library. First, we need to import it:\n",
        "\n",
        "- **Import pandas**: `import pandas as pd`\n",
        "- **Import numpy** (often used with pandas): `import numpy as np`"
      ],
      "metadata": {
        "id": "wvDzhzjKS-N8"
      }
    },
    {
      "cell_type": "code",
      "source": [
        "# Import pandas and numpy\n",
        "import pandas as pd\n",
        "import numpy as np\n",
        "\n",
        "# Check versions\n",
        "print(\"Pandas version:\", pd.__version__)\n",
        "print(\"Numpy version:\", np.__version__)"
      ],
      "metadata": {
        "id": "MS8c_lyDS9ZU",
        "colab": {
          "base_uri": "https://localhost:8080/"
        },
        "outputId": "5ae86aee-5c24-4089-a2fb-4f49a87a644e"
      },
      "execution_count": null,
      "outputs": [
        {
          "output_type": "stream",
          "name": "stdout",
          "text": [
            "Pandas version: 2.2.2\n",
            "Numpy version: 2.0.2\n"
          ]
        }
      ]
    },
    {
      "cell_type": "markdown",
      "source": [
        "## 2. Creating DataFrames\n",
        "\n",
        "DataFrames are the primary data structure in pandas. You can create them in several ways:\n",
        "\n",
        "1. **From a dictionary**: `pd.DataFrame(dict)`\n",
        "2. **From lists**: `pd.DataFrame(list_of_lists, columns=[...])`\n",
        "3. **From CSV files**: `pd.read_csv('filename.csv')`\n",
        "4. **From NumPy arrays**: `pd.DataFrame(np_array)`"
      ],
      "metadata": {
        "id": "4aO2HVYsTE5V"
      }
    },
    {
      "cell_type": "code",
      "source": [
        "# Example 1: Create DataFrame from dictionary\n",
        "data_dict = {\n",
        "    'Name': ['Alice', 'Bob', 'Charlie', 'Diana'],\n",
        "    'Age': [25, 30, 35, 28],\n",
        "    'City': ['New York', 'London', 'Tokyo', 'Paris'],\n",
        "    'Salary': [50000, 60000, 70000, 55000]\n",
        "}\n",
        "df_dict = pd.DataFrame(data_dict)\n",
        "print(\"DataFrame from dictionary:\")\n",
        "print(df_dict)"
      ],
      "metadata": {
        "id": "SPrSTpWlTDWG",
        "colab": {
          "base_uri": "https://localhost:8080/"
        },
        "outputId": "bac3bd2c-e88f-4e61-9d5c-bb75b4bfad09"
      },
      "execution_count": null,
      "outputs": [
        {
          "output_type": "stream",
          "name": "stdout",
          "text": [
            "DataFrame from dictionary:\n",
            "      Name  Age      City  Salary\n",
            "0    Alice   25  New York   50000\n",
            "1      Bob   30    London   60000\n",
            "2  Charlie   35     Tokyo   70000\n",
            "3    Diana   28     Paris   55000\n"
          ]
        }
      ]
    },
    {
      "cell_type": "code",
      "source": [
        "# Example 2: Create DataFrame from lists\n",
        "data_lists = [\n",
        "    ['Alice', 25, 'New York', 50000],\n",
        "    ['Bob', 30, 'London', 60000],\n",
        "    ['Charlie', 35, 'Tokyo', 70000],\n",
        "    ['Diana', 28, 'Paris', 55000]\n",
        "]\n",
        "columns = ['Name', 'Age', 'City', 'Salary']\n",
        "df_lists = pd.DataFrame(data_lists, columns=columns)\n",
        "print(\"\\nDataFrame from lists:\")\n",
        "print(df_lists)"
      ],
      "metadata": {
        "id": "3qAi_dC1TQ5S",
        "colab": {
          "base_uri": "https://localhost:8080/"
        },
        "outputId": "6511f972-ee78-4a5e-c49d-f940be824895"
      },
      "execution_count": null,
      "outputs": [
        {
          "output_type": "stream",
          "name": "stdout",
          "text": [
            "\n",
            "DataFrame from lists:\n",
            "      Name  Age      City  Salary\n",
            "0    Alice   25  New York   50000\n",
            "1      Bob   30    London   60000\n",
            "2  Charlie   35     Tokyo   70000\n",
            "3    Diana   28     Paris   55000\n"
          ]
        }
      ]
    },
    {
      "cell_type": "code",
      "source": [
        "# Example 3: Create DataFrame from NumPy array\n",
        "np_array = np.random.rand(3, 4)\n",
        "df_numpy = pd.DataFrame(np_array, columns=['A', 'B', 'C', 'D'])\n",
        "print(\"\\nDataFrame from NumPy array:\")\n",
        "print(df_numpy)"
      ],
      "metadata": {
        "id": "yx19nZvmTSl4",
        "colab": {
          "base_uri": "https://localhost:8080/"
        },
        "outputId": "caf2c524-07f7-4c60-867e-8e2f4fd4ebde"
      },
      "execution_count": null,
      "outputs": [
        {
          "output_type": "stream",
          "name": "stdout",
          "text": [
            "\n",
            "DataFrame from NumPy array:\n",
            "          A         B         C         D\n",
            "0  0.303378  0.748685  0.184179  0.484964\n",
            "1  0.760764  0.923855  0.338233  0.684831\n",
            "2  0.310486  0.416080  0.339841  0.180904\n"
          ]
        }
      ]
    },
    {
      "cell_type": "markdown",
      "source": [
        "## 3. Basic DataFrame Operations\n",
        "\n",
        "Once you have a DataFrame, you can perform various operations:\n",
        "\n",
        "- **View data**: `.head()`, `.tail()`, `.info()`, `.describe()`\n",
        "- **Shape**: `.shape` (rows, columns)\n",
        "- **Column names**: `.columns`\n",
        "- **Data types**: `.dtypes`"
      ],
      "metadata": {
        "id": "MaAa4hU4TVO2"
      }
    },
    {
      "cell_type": "code",
      "source": [
        "# Using the DataFrame from dictionary\n",
        "df = df_dict.copy()  # Make a copy to work with\n",
        "\n",
        "# View basic information\n",
        "print(\"First 3 rows:\")\n",
        "print(df.head(3))"
      ],
      "metadata": {
        "id": "HuvxedbJTVv7",
        "colab": {
          "base_uri": "https://localhost:8080/"
        },
        "outputId": "432d4e55-65a1-452b-9984-06890eaef5d1"
      },
      "execution_count": null,
      "outputs": [
        {
          "output_type": "stream",
          "name": "stdout",
          "text": [
            "First 3 rows:\n",
            "      Name  Age      City  Salary\n",
            "0    Alice   25  New York   50000\n",
            "1      Bob   30    London   60000\n",
            "2  Charlie   35     Tokyo   70000\n"
          ]
        }
      ]
    },
    {
      "cell_type": "code",
      "source": [
        "print(\"\\nLast 2 rows:\")\n",
        "print(df.tail(2))"
      ],
      "metadata": {
        "id": "VMNWsAwOTdnm",
        "colab": {
          "base_uri": "https://localhost:8080/"
        },
        "outputId": "5aa583d6-8588-4a9a-aa98-42c1f0813f2d"
      },
      "execution_count": null,
      "outputs": [
        {
          "output_type": "stream",
          "name": "stdout",
          "text": [
            "\n",
            "Last 2 rows:\n",
            "      Name  Age   City  Salary\n",
            "2  Charlie   35  Tokyo   70000\n",
            "3    Diana   28  Paris   55000\n"
          ]
        }
      ]
    },
    {
      "cell_type": "code",
      "source": [
        "print(\"\\nDataFrame info:\")\n",
        "df.info()"
      ],
      "metadata": {
        "id": "mjTpjA0wTgfn",
        "colab": {
          "base_uri": "https://localhost:8080/"
        },
        "outputId": "4d45f84f-d8de-4e90-971b-be2827dc5971"
      },
      "execution_count": null,
      "outputs": [
        {
          "output_type": "stream",
          "name": "stdout",
          "text": [
            "\n",
            "DataFrame info:\n",
            "<class 'pandas.core.frame.DataFrame'>\n",
            "RangeIndex: 4 entries, 0 to 3\n",
            "Data columns (total 4 columns):\n",
            " #   Column  Non-Null Count  Dtype \n",
            "---  ------  --------------  ----- \n",
            " 0   Name    4 non-null      object\n",
            " 1   Age     4 non-null      int64 \n",
            " 2   City    4 non-null      object\n",
            " 3   Salary  4 non-null      int64 \n",
            "dtypes: int64(2), object(2)\n",
            "memory usage: 260.0+ bytes\n"
          ]
        }
      ]
    },
    {
      "cell_type": "code",
      "source": [
        "print(\"\\nStatistical summary:\")\n",
        "print(df.describe())"
      ],
      "metadata": {
        "id": "mBgj_ye1Tics",
        "colab": {
          "base_uri": "https://localhost:8080/"
        },
        "outputId": "e7b1592e-c9d5-4dc2-e808-9dd93711710b"
      },
      "execution_count": null,
      "outputs": [
        {
          "output_type": "stream",
          "name": "stdout",
          "text": [
            "\n",
            "Statistical summary:\n",
            "             Age        Salary\n",
            "count   4.000000      4.000000\n",
            "mean   29.500000  58750.000000\n",
            "std     4.203173   8539.125638\n",
            "min    25.000000  50000.000000\n",
            "25%    27.250000  53750.000000\n",
            "50%    29.000000  57500.000000\n",
            "75%    31.250000  62500.000000\n",
            "max    35.000000  70000.000000\n"
          ]
        }
      ]
    },
    {
      "cell_type": "code",
      "source": [
        "print(\"\\nShape (rows, columns):\", df.shape)\n",
        "print(\"Column names:\", list(df.columns))\n",
        "print(\"Data types:\")\n",
        "print(df.dtypes)"
      ],
      "metadata": {
        "id": "XOOtusSnTjB6",
        "colab": {
          "base_uri": "https://localhost:8080/"
        },
        "outputId": "b08eb8c4-faf1-4e4f-b74a-af0311b1d79e"
      },
      "execution_count": null,
      "outputs": [
        {
          "output_type": "stream",
          "name": "stdout",
          "text": [
            "\n",
            "Shape (rows, columns): (4, 4)\n",
            "Column names: ['Name', 'Age', 'City', 'Salary']\n",
            "Data types:\n",
            "Name      object\n",
            "Age        int64\n",
            "City      object\n",
            "Salary     int64\n",
            "dtype: object\n"
          ]
        }
      ]
    },
    {
      "cell_type": "markdown",
      "source": [
        "## 4. Data Selection and Indexing\n",
        "\n",
        "You can select specific columns, rows, or individual values:\n",
        "\n",
        "- **Select column**: `df['column_name']` or `df.column_name`\n",
        "- **Select multiple columns**: `df[['col1', 'col2']]`\n",
        "- **Select rows by index**: `df.iloc[row_index, col_index]`\n",
        "- **Select rows by label**: `df.loc[row_label, col_label]`\n",
        "- **Select specific cell efficiently**: `df.at[row_label, col_label]`"
      ],
      "metadata": {
        "id": "om2JeazWTtjm"
      }
    },
    {
      "cell_type": "code",
      "source": [
        "# Select single column\n",
        "print(\"Select 'Name' column:\")\n",
        "df['Name']"
      ],
      "metadata": {
        "id": "wMOWUGGaTtDk",
        "colab": {
          "base_uri": "https://localhost:8080/",
          "height": 227
        },
        "outputId": "fb3185c3-acc2-490b-81c7-8cfa1bc45da4"
      },
      "execution_count": null,
      "outputs": [
        {
          "output_type": "stream",
          "name": "stdout",
          "text": [
            "Select 'Name' column:\n"
          ]
        },
        {
          "output_type": "execute_result",
          "data": {
            "text/plain": [
              "0      Alice\n",
              "1        Bob\n",
              "2    Charlie\n",
              "3      Diana\n",
              "Name: Name, dtype: object"
            ],
            "text/html": [
              "<div>\n",
              "<style scoped>\n",
              "    .dataframe tbody tr th:only-of-type {\n",
              "        vertical-align: middle;\n",
              "    }\n",
              "\n",
              "    .dataframe tbody tr th {\n",
              "        vertical-align: top;\n",
              "    }\n",
              "\n",
              "    .dataframe thead th {\n",
              "        text-align: right;\n",
              "    }\n",
              "</style>\n",
              "<table border=\"1\" class=\"dataframe\">\n",
              "  <thead>\n",
              "    <tr style=\"text-align: right;\">\n",
              "      <th></th>\n",
              "      <th>Name</th>\n",
              "    </tr>\n",
              "  </thead>\n",
              "  <tbody>\n",
              "    <tr>\n",
              "      <th>0</th>\n",
              "      <td>Alice</td>\n",
              "    </tr>\n",
              "    <tr>\n",
              "      <th>1</th>\n",
              "      <td>Bob</td>\n",
              "    </tr>\n",
              "    <tr>\n",
              "      <th>2</th>\n",
              "      <td>Charlie</td>\n",
              "    </tr>\n",
              "    <tr>\n",
              "      <th>3</th>\n",
              "      <td>Diana</td>\n",
              "    </tr>\n",
              "  </tbody>\n",
              "</table>\n",
              "</div><br><label><b>dtype:</b> object</label>"
            ]
          },
          "metadata": {},
          "execution_count": 10
        }
      ]
    },
    {
      "cell_type": "code",
      "source": [
        "# Select multiple columns\n",
        "print(\"\\nSelect 'Name' and 'Age' columns:\")\n",
        "df[['Name', 'Age']]"
      ],
      "metadata": {
        "id": "iDABjpYcTxU_",
        "colab": {
          "base_uri": "https://localhost:8080/",
          "height": 210
        },
        "outputId": "d877fcfd-baf5-498e-f975-01a7df4dd354"
      },
      "execution_count": null,
      "outputs": [
        {
          "output_type": "stream",
          "name": "stdout",
          "text": [
            "\n",
            "Select 'Name' and 'Age' columns:\n"
          ]
        },
        {
          "output_type": "execute_result",
          "data": {
            "text/plain": [
              "      Name  Age\n",
              "0    Alice   25\n",
              "1      Bob   30\n",
              "2  Charlie   35\n",
              "3    Diana   28"
            ],
            "text/html": [
              "\n",
              "  <div id=\"df-071e8f5d-90ae-420e-92c2-4d2ab028c6b4\" class=\"colab-df-container\">\n",
              "    <div>\n",
              "<style scoped>\n",
              "    .dataframe tbody tr th:only-of-type {\n",
              "        vertical-align: middle;\n",
              "    }\n",
              "\n",
              "    .dataframe tbody tr th {\n",
              "        vertical-align: top;\n",
              "    }\n",
              "\n",
              "    .dataframe thead th {\n",
              "        text-align: right;\n",
              "    }\n",
              "</style>\n",
              "<table border=\"1\" class=\"dataframe\">\n",
              "  <thead>\n",
              "    <tr style=\"text-align: right;\">\n",
              "      <th></th>\n",
              "      <th>Name</th>\n",
              "      <th>Age</th>\n",
              "    </tr>\n",
              "  </thead>\n",
              "  <tbody>\n",
              "    <tr>\n",
              "      <th>0</th>\n",
              "      <td>Alice</td>\n",
              "      <td>25</td>\n",
              "    </tr>\n",
              "    <tr>\n",
              "      <th>1</th>\n",
              "      <td>Bob</td>\n",
              "      <td>30</td>\n",
              "    </tr>\n",
              "    <tr>\n",
              "      <th>2</th>\n",
              "      <td>Charlie</td>\n",
              "      <td>35</td>\n",
              "    </tr>\n",
              "    <tr>\n",
              "      <th>3</th>\n",
              "      <td>Diana</td>\n",
              "      <td>28</td>\n",
              "    </tr>\n",
              "  </tbody>\n",
              "</table>\n",
              "</div>\n",
              "    <div class=\"colab-df-buttons\">\n",
              "\n",
              "  <div class=\"colab-df-container\">\n",
              "    <button class=\"colab-df-convert\" onclick=\"convertToInteractive('df-071e8f5d-90ae-420e-92c2-4d2ab028c6b4')\"\n",
              "            title=\"Convert this dataframe to an interactive table.\"\n",
              "            style=\"display:none;\">\n",
              "\n",
              "  <svg xmlns=\"http://www.w3.org/2000/svg\" height=\"24px\" viewBox=\"0 -960 960 960\">\n",
              "    <path d=\"M120-120v-720h720v720H120Zm60-500h600v-160H180v160Zm220 220h160v-160H400v160Zm0 220h160v-160H400v160ZM180-400h160v-160H180v160Zm440 0h160v-160H620v160ZM180-180h160v-160H180v160Zm440 0h160v-160H620v160Z\"/>\n",
              "  </svg>\n",
              "    </button>\n",
              "\n",
              "  <style>\n",
              "    .colab-df-container {\n",
              "      display:flex;\n",
              "      gap: 12px;\n",
              "    }\n",
              "\n",
              "    .colab-df-convert {\n",
              "      background-color: #E8F0FE;\n",
              "      border: none;\n",
              "      border-radius: 50%;\n",
              "      cursor: pointer;\n",
              "      display: none;\n",
              "      fill: #1967D2;\n",
              "      height: 32px;\n",
              "      padding: 0 0 0 0;\n",
              "      width: 32px;\n",
              "    }\n",
              "\n",
              "    .colab-df-convert:hover {\n",
              "      background-color: #E2EBFA;\n",
              "      box-shadow: 0px 1px 2px rgba(60, 64, 67, 0.3), 0px 1px 3px 1px rgba(60, 64, 67, 0.15);\n",
              "      fill: #174EA6;\n",
              "    }\n",
              "\n",
              "    .colab-df-buttons div {\n",
              "      margin-bottom: 4px;\n",
              "    }\n",
              "\n",
              "    [theme=dark] .colab-df-convert {\n",
              "      background-color: #3B4455;\n",
              "      fill: #D2E3FC;\n",
              "    }\n",
              "\n",
              "    [theme=dark] .colab-df-convert:hover {\n",
              "      background-color: #434B5C;\n",
              "      box-shadow: 0px 1px 3px 1px rgba(0, 0, 0, 0.15);\n",
              "      filter: drop-shadow(0px 1px 2px rgba(0, 0, 0, 0.3));\n",
              "      fill: #FFFFFF;\n",
              "    }\n",
              "  </style>\n",
              "\n",
              "    <script>\n",
              "      const buttonEl =\n",
              "        document.querySelector('#df-071e8f5d-90ae-420e-92c2-4d2ab028c6b4 button.colab-df-convert');\n",
              "      buttonEl.style.display =\n",
              "        google.colab.kernel.accessAllowed ? 'block' : 'none';\n",
              "\n",
              "      async function convertToInteractive(key) {\n",
              "        const element = document.querySelector('#df-071e8f5d-90ae-420e-92c2-4d2ab028c6b4');\n",
              "        const dataTable =\n",
              "          await google.colab.kernel.invokeFunction('convertToInteractive',\n",
              "                                                    [key], {});\n",
              "        if (!dataTable) return;\n",
              "\n",
              "        const docLinkHtml = 'Like what you see? Visit the ' +\n",
              "          '<a target=\"_blank\" href=https://colab.research.google.com/notebooks/data_table.ipynb>data table notebook</a>'\n",
              "          + ' to learn more about interactive tables.';\n",
              "        element.innerHTML = '';\n",
              "        dataTable['output_type'] = 'display_data';\n",
              "        await google.colab.output.renderOutput(dataTable, element);\n",
              "        const docLink = document.createElement('div');\n",
              "        docLink.innerHTML = docLinkHtml;\n",
              "        element.appendChild(docLink);\n",
              "      }\n",
              "    </script>\n",
              "  </div>\n",
              "\n",
              "\n",
              "    <div id=\"df-dc470ef7-55e8-4a0f-bfcf-62d8a2dde886\">\n",
              "      <button class=\"colab-df-quickchart\" onclick=\"quickchart('df-dc470ef7-55e8-4a0f-bfcf-62d8a2dde886')\"\n",
              "                title=\"Suggest charts\"\n",
              "                style=\"display:none;\">\n",
              "\n",
              "<svg xmlns=\"http://www.w3.org/2000/svg\" height=\"24px\"viewBox=\"0 0 24 24\"\n",
              "     width=\"24px\">\n",
              "    <g>\n",
              "        <path d=\"M19 3H5c-1.1 0-2 .9-2 2v14c0 1.1.9 2 2 2h14c1.1 0 2-.9 2-2V5c0-1.1-.9-2-2-2zM9 17H7v-7h2v7zm4 0h-2V7h2v10zm4 0h-2v-4h2v4z\"/>\n",
              "    </g>\n",
              "</svg>\n",
              "      </button>\n",
              "\n",
              "<style>\n",
              "  .colab-df-quickchart {\n",
              "      --bg-color: #E8F0FE;\n",
              "      --fill-color: #1967D2;\n",
              "      --hover-bg-color: #E2EBFA;\n",
              "      --hover-fill-color: #174EA6;\n",
              "      --disabled-fill-color: #AAA;\n",
              "      --disabled-bg-color: #DDD;\n",
              "  }\n",
              "\n",
              "  [theme=dark] .colab-df-quickchart {\n",
              "      --bg-color: #3B4455;\n",
              "      --fill-color: #D2E3FC;\n",
              "      --hover-bg-color: #434B5C;\n",
              "      --hover-fill-color: #FFFFFF;\n",
              "      --disabled-bg-color: #3B4455;\n",
              "      --disabled-fill-color: #666;\n",
              "  }\n",
              "\n",
              "  .colab-df-quickchart {\n",
              "    background-color: var(--bg-color);\n",
              "    border: none;\n",
              "    border-radius: 50%;\n",
              "    cursor: pointer;\n",
              "    display: none;\n",
              "    fill: var(--fill-color);\n",
              "    height: 32px;\n",
              "    padding: 0;\n",
              "    width: 32px;\n",
              "  }\n",
              "\n",
              "  .colab-df-quickchart:hover {\n",
              "    background-color: var(--hover-bg-color);\n",
              "    box-shadow: 0 1px 2px rgba(60, 64, 67, 0.3), 0 1px 3px 1px rgba(60, 64, 67, 0.15);\n",
              "    fill: var(--button-hover-fill-color);\n",
              "  }\n",
              "\n",
              "  .colab-df-quickchart-complete:disabled,\n",
              "  .colab-df-quickchart-complete:disabled:hover {\n",
              "    background-color: var(--disabled-bg-color);\n",
              "    fill: var(--disabled-fill-color);\n",
              "    box-shadow: none;\n",
              "  }\n",
              "\n",
              "  .colab-df-spinner {\n",
              "    border: 2px solid var(--fill-color);\n",
              "    border-color: transparent;\n",
              "    border-bottom-color: var(--fill-color);\n",
              "    animation:\n",
              "      spin 1s steps(1) infinite;\n",
              "  }\n",
              "\n",
              "  @keyframes spin {\n",
              "    0% {\n",
              "      border-color: transparent;\n",
              "      border-bottom-color: var(--fill-color);\n",
              "      border-left-color: var(--fill-color);\n",
              "    }\n",
              "    20% {\n",
              "      border-color: transparent;\n",
              "      border-left-color: var(--fill-color);\n",
              "      border-top-color: var(--fill-color);\n",
              "    }\n",
              "    30% {\n",
              "      border-color: transparent;\n",
              "      border-left-color: var(--fill-color);\n",
              "      border-top-color: var(--fill-color);\n",
              "      border-right-color: var(--fill-color);\n",
              "    }\n",
              "    40% {\n",
              "      border-color: transparent;\n",
              "      border-right-color: var(--fill-color);\n",
              "      border-top-color: var(--fill-color);\n",
              "    }\n",
              "    60% {\n",
              "      border-color: transparent;\n",
              "      border-right-color: var(--fill-color);\n",
              "    }\n",
              "    80% {\n",
              "      border-color: transparent;\n",
              "      border-right-color: var(--fill-color);\n",
              "      border-bottom-color: var(--fill-color);\n",
              "    }\n",
              "    90% {\n",
              "      border-color: transparent;\n",
              "      border-bottom-color: var(--fill-color);\n",
              "    }\n",
              "  }\n",
              "</style>\n",
              "\n",
              "      <script>\n",
              "        async function quickchart(key) {\n",
              "          const quickchartButtonEl =\n",
              "            document.querySelector('#' + key + ' button');\n",
              "          quickchartButtonEl.disabled = true;  // To prevent multiple clicks.\n",
              "          quickchartButtonEl.classList.add('colab-df-spinner');\n",
              "          try {\n",
              "            const charts = await google.colab.kernel.invokeFunction(\n",
              "                'suggestCharts', [key], {});\n",
              "          } catch (error) {\n",
              "            console.error('Error during call to suggestCharts:', error);\n",
              "          }\n",
              "          quickchartButtonEl.classList.remove('colab-df-spinner');\n",
              "          quickchartButtonEl.classList.add('colab-df-quickchart-complete');\n",
              "        }\n",
              "        (() => {\n",
              "          let quickchartButtonEl =\n",
              "            document.querySelector('#df-dc470ef7-55e8-4a0f-bfcf-62d8a2dde886 button');\n",
              "          quickchartButtonEl.style.display =\n",
              "            google.colab.kernel.accessAllowed ? 'block' : 'none';\n",
              "        })();\n",
              "      </script>\n",
              "    </div>\n",
              "    </div>\n",
              "  </div>\n"
            ],
            "application/vnd.google.colaboratory.intrinsic+json": {
              "type": "dataframe",
              "summary": "{\n  \"name\": \"df[['Name', 'Age']]\",\n  \"rows\": 4,\n  \"fields\": [\n    {\n      \"column\": \"Name\",\n      \"properties\": {\n        \"dtype\": \"string\",\n        \"num_unique_values\": 4,\n        \"samples\": [\n          \"Bob\",\n          \"Diana\",\n          \"Alice\"\n        ],\n        \"semantic_type\": \"\",\n        \"description\": \"\"\n      }\n    },\n    {\n      \"column\": \"Age\",\n      \"properties\": {\n        \"dtype\": \"number\",\n        \"std\": 4,\n        \"min\": 25,\n        \"max\": 35,\n        \"num_unique_values\": 4,\n        \"samples\": [\n          30,\n          28,\n          25\n        ],\n        \"semantic_type\": \"\",\n        \"description\": \"\"\n      }\n    }\n  ]\n}"
            }
          },
          "metadata": {},
          "execution_count": 11
        }
      ]
    },
    {
      "cell_type": "code",
      "source": [
        "# Select rows by index position\n",
        "print(\"\\nFirst row (index 0):\")\n",
        "print(df.iloc[0])\n",
        "\n",
        "print(\"\\nRows 1-2 (index 1-2):\")\n",
        "print(df.iloc[1:3])"
      ],
      "metadata": {
        "id": "HfTCvXIbTysO",
        "colab": {
          "base_uri": "https://localhost:8080/"
        },
        "outputId": "ca8c5473-cc0d-4ecf-9927-0ec310b0e9b3"
      },
      "execution_count": null,
      "outputs": [
        {
          "output_type": "stream",
          "name": "stdout",
          "text": [
            "\n",
            "First row (index 0):\n",
            "Name         Alice\n",
            "Age             25\n",
            "City      New York\n",
            "Salary       50000\n",
            "Name: 0, dtype: object\n",
            "\n",
            "Rows 1-2 (index 1-2):\n",
            "      Name  Age    City  Salary\n",
            "1      Bob   30  London   60000\n",
            "2  Charlie   35   Tokyo   70000\n"
          ]
        }
      ]
    },
    {
      "cell_type": "code",
      "source": [
        "# Select specific cell\n",
        "print(\"\\nAge of second person:\")\n",
        "print(df.iloc[1, 1])\n",
        "\n",
        "print(df.at[1, 'Age'])"
      ],
      "metadata": {
        "id": "rSrOTKvtT5JQ"
      },
      "execution_count": null,
      "outputs": []
    },
    {
      "cell_type": "markdown",
      "source": [
        "### 1. `iloc`\n",
        "- **Purpose**: Primarily used for integer-location based indexing.\n",
        "- **Indexing Type**: Uses integer-based indices (0-based).\n",
        "- **Syntax**: `DataFrame.iloc[row_index, column_index]`\n",
        "- **Row/Column Selection**:\n",
        "  - Rows and columns can be selected using integer positions.\n",
        "  - Supports slicing (e.g., `df.iloc[0:5, 0:3]` selects rows 0 to 4 and columns 0 to 2).\n",
        "- **Returns**: A DataFrame or Series depending on the selection.\n",
        "- **Use Case**: When you want to access data by its numerical index, regardless of the actual labels.\n",
        "\n",
        "### 2. `loc`\n",
        "- **Purpose**: Used for label-based indexing.\n",
        "- **Indexing Type**: Uses label-based indices (row and column names).\n",
        "- **Syntax**: `DataFrame.loc[row_label, column_label]`\n",
        "- **Row/Column Selection**:\n",
        "  - Rows and columns can be selected using labels.\n",
        "  - Supports slicing with labels (e.g., `df.loc[0:1, 'A']` selects rows with labels 0 and 1 for column 'A').\n",
        "- **Returns**: A DataFrame or Series depending on the selection.\n",
        "- **Use Case**: When you want to access data using the actual row and column labels.\n",
        "\n",
        "### 3. `at`\n",
        "- **Purpose**: Used for fast access to a single scalar value.\n",
        "- **Indexing Type**: Uses label-based indexing, similar to `loc`.\n",
        "- **Syntax**: `DataFrame.at[row_label, column_label]`\n",
        "- **Row/Column Selection**:\n",
        "  - Accesses a single value for a row/column label pair.\n",
        "- **Returns**: A scalar value.\n",
        "- **Use Case**: When you need to quickly access a single value in a DataFrame.\n",
        "\n",
        "### Summary Table\n",
        "\n",
        "| Feature        | `iloc`                        | `loc`                         | `at`                          |\n",
        "|----------------|-------------------------------|-------------------------------|-------------------------------|\n",
        "| Purpose        | Integer-location based indexing | Label-based indexing           | Fast access to a single value  |\n",
        "| Indexing Type  | Integer-based (0-based)      | Label-based                   | Label-based                   |\n",
        "| Syntax         | `df.iloc[row, col]`         | `df.loc[row, col]`           | `df.at[row, col]`            |\n",
        "| Return Type    | DataFrame/Series             | DataFrame/Series              | Scalar                        |\n",
        "| Use Case       | Access by numerical index     | Access by actual labels       | Quick access to a single value|\n",
        "\n",
        "### Performance Considerations\n",
        "- `at` is generally faster than `loc` because it is optimized for accessing single values.\n",
        "- `iloc` and `loc` are more versatile for selecting multiple rows/columns."
      ],
      "metadata": {
        "id": "yXREdZngQVsk"
      }
    },
    {
      "cell_type": "markdown",
      "source": [
        "## 5. Data Filtering and Boolean Indexing\n",
        "\n",
        "Filter data based on conditions:\n",
        "\n",
        "- **Single condition**: `df[df['column'] > value]`\n",
        "- **Multiple conditions**: `df[(df['col1'] > val1) & (df['col2'] == val2)]`\n",
        "- **String operations**: `df[df['column'].str.contains('text')]`\n",
        "- **Isin method**: `df[df['column'].isin(['value1', 'value2'])]`\n",
        "\n",
        "Note: Use `&` for AND, `|` for OR, and `~` for NOT in boolean operations."
      ],
      "metadata": {
        "id": "KxuDbN5ZUAiq"
      }
    },
    {
      "cell_type": "code",
      "source": [
        "# Single condition filtering\n",
        "print(\"People with salary > 55000:\")\n",
        "high_salary = df[df['Salary'] > 55000]\n",
        "\n",
        "print(high_salary)"
      ],
      "metadata": {
        "id": "G-SSLq-gUBN8",
        "colab": {
          "base_uri": "https://localhost:8080/"
        },
        "outputId": "0c545e79-b9e1-4c8e-f1ae-848c79367721"
      },
      "execution_count": null,
      "outputs": [
        {
          "output_type": "stream",
          "name": "stdout",
          "text": [
            "People with salary > 55000:\n",
            "      Name  Age    City  Salary\n",
            "1      Bob   30  London   60000\n",
            "2  Charlie   35   Tokyo   70000\n"
          ]
        }
      ]
    },
    {
      "cell_type": "code",
      "source": [
        "# Multiple conditions\n",
        "print(\"\\nPeople aged 25-30 with salary > 50000:\")\n",
        "filtered = df[(df['Age'] >= 25) & (df['Age'] <= 30) & (df['Salary'] > 50000)]\n",
        "\n",
        "print(filtered)"
      ],
      "metadata": {
        "id": "TT8nXc9ZUL6j",
        "colab": {
          "base_uri": "https://localhost:8080/"
        },
        "outputId": "29f09a88-1563-49f0-eef1-5869f726f835"
      },
      "execution_count": null,
      "outputs": [
        {
          "output_type": "stream",
          "name": "stdout",
          "text": [
            "\n",
            "People aged 25-30 with salary > 50000:\n",
            "    Name  Age    City  Salary\n",
            "1    Bob   30  London   60000\n",
            "3  Diana   28   Paris   55000\n"
          ]
        }
      ]
    },
    {
      "cell_type": "code",
      "source": [
        "# String operations\n",
        "print(\"\\nPeople whose names start with 'A':\")\n",
        "\n",
        "names_start_with_a = df[df['Name'].str.startswith('A')]\n",
        "\n",
        "names_start_with_a"
      ],
      "metadata": {
        "id": "A2_-dAgbUNqB",
        "colab": {
          "base_uri": "https://localhost:8080/",
          "height": 115
        },
        "outputId": "bcab5666-400c-4812-8afc-6b06c597f77c"
      },
      "execution_count": null,
      "outputs": [
        {
          "output_type": "stream",
          "name": "stdout",
          "text": [
            "\n",
            "People whose names start with 'A':\n"
          ]
        },
        {
          "output_type": "execute_result",
          "data": {
            "text/plain": [
              "    Name  Age      City  Salary\n",
              "0  Alice   25  New York   50000"
            ],
            "text/html": [
              "\n",
              "  <div id=\"df-0e1364b0-f5a7-4293-985f-7801ad0ad9f8\" class=\"colab-df-container\">\n",
              "    <div>\n",
              "<style scoped>\n",
              "    .dataframe tbody tr th:only-of-type {\n",
              "        vertical-align: middle;\n",
              "    }\n",
              "\n",
              "    .dataframe tbody tr th {\n",
              "        vertical-align: top;\n",
              "    }\n",
              "\n",
              "    .dataframe thead th {\n",
              "        text-align: right;\n",
              "    }\n",
              "</style>\n",
              "<table border=\"1\" class=\"dataframe\">\n",
              "  <thead>\n",
              "    <tr style=\"text-align: right;\">\n",
              "      <th></th>\n",
              "      <th>Name</th>\n",
              "      <th>Age</th>\n",
              "      <th>City</th>\n",
              "      <th>Salary</th>\n",
              "    </tr>\n",
              "  </thead>\n",
              "  <tbody>\n",
              "    <tr>\n",
              "      <th>0</th>\n",
              "      <td>Alice</td>\n",
              "      <td>25</td>\n",
              "      <td>New York</td>\n",
              "      <td>50000</td>\n",
              "    </tr>\n",
              "  </tbody>\n",
              "</table>\n",
              "</div>\n",
              "    <div class=\"colab-df-buttons\">\n",
              "\n",
              "  <div class=\"colab-df-container\">\n",
              "    <button class=\"colab-df-convert\" onclick=\"convertToInteractive('df-0e1364b0-f5a7-4293-985f-7801ad0ad9f8')\"\n",
              "            title=\"Convert this dataframe to an interactive table.\"\n",
              "            style=\"display:none;\">\n",
              "\n",
              "  <svg xmlns=\"http://www.w3.org/2000/svg\" height=\"24px\" viewBox=\"0 -960 960 960\">\n",
              "    <path d=\"M120-120v-720h720v720H120Zm60-500h600v-160H180v160Zm220 220h160v-160H400v160Zm0 220h160v-160H400v160ZM180-400h160v-160H180v160Zm440 0h160v-160H620v160ZM180-180h160v-160H180v160Zm440 0h160v-160H620v160Z\"/>\n",
              "  </svg>\n",
              "    </button>\n",
              "\n",
              "  <style>\n",
              "    .colab-df-container {\n",
              "      display:flex;\n",
              "      gap: 12px;\n",
              "    }\n",
              "\n",
              "    .colab-df-convert {\n",
              "      background-color: #E8F0FE;\n",
              "      border: none;\n",
              "      border-radius: 50%;\n",
              "      cursor: pointer;\n",
              "      display: none;\n",
              "      fill: #1967D2;\n",
              "      height: 32px;\n",
              "      padding: 0 0 0 0;\n",
              "      width: 32px;\n",
              "    }\n",
              "\n",
              "    .colab-df-convert:hover {\n",
              "      background-color: #E2EBFA;\n",
              "      box-shadow: 0px 1px 2px rgba(60, 64, 67, 0.3), 0px 1px 3px 1px rgba(60, 64, 67, 0.15);\n",
              "      fill: #174EA6;\n",
              "    }\n",
              "\n",
              "    .colab-df-buttons div {\n",
              "      margin-bottom: 4px;\n",
              "    }\n",
              "\n",
              "    [theme=dark] .colab-df-convert {\n",
              "      background-color: #3B4455;\n",
              "      fill: #D2E3FC;\n",
              "    }\n",
              "\n",
              "    [theme=dark] .colab-df-convert:hover {\n",
              "      background-color: #434B5C;\n",
              "      box-shadow: 0px 1px 3px 1px rgba(0, 0, 0, 0.15);\n",
              "      filter: drop-shadow(0px 1px 2px rgba(0, 0, 0, 0.3));\n",
              "      fill: #FFFFFF;\n",
              "    }\n",
              "  </style>\n",
              "\n",
              "    <script>\n",
              "      const buttonEl =\n",
              "        document.querySelector('#df-0e1364b0-f5a7-4293-985f-7801ad0ad9f8 button.colab-df-convert');\n",
              "      buttonEl.style.display =\n",
              "        google.colab.kernel.accessAllowed ? 'block' : 'none';\n",
              "\n",
              "      async function convertToInteractive(key) {\n",
              "        const element = document.querySelector('#df-0e1364b0-f5a7-4293-985f-7801ad0ad9f8');\n",
              "        const dataTable =\n",
              "          await google.colab.kernel.invokeFunction('convertToInteractive',\n",
              "                                                    [key], {});\n",
              "        if (!dataTable) return;\n",
              "\n",
              "        const docLinkHtml = 'Like what you see? Visit the ' +\n",
              "          '<a target=\"_blank\" href=https://colab.research.google.com/notebooks/data_table.ipynb>data table notebook</a>'\n",
              "          + ' to learn more about interactive tables.';\n",
              "        element.innerHTML = '';\n",
              "        dataTable['output_type'] = 'display_data';\n",
              "        await google.colab.output.renderOutput(dataTable, element);\n",
              "        const docLink = document.createElement('div');\n",
              "        docLink.innerHTML = docLinkHtml;\n",
              "        element.appendChild(docLink);\n",
              "      }\n",
              "    </script>\n",
              "  </div>\n",
              "\n",
              "    </div>\n",
              "  </div>\n"
            ],
            "application/vnd.google.colaboratory.intrinsic+json": {
              "type": "dataframe",
              "variable_name": "names_start_with_a",
              "summary": "{\n  \"name\": \"names_start_with_a\",\n  \"rows\": 1,\n  \"fields\": [\n    {\n      \"column\": \"Name\",\n      \"properties\": {\n        \"dtype\": \"string\",\n        \"num_unique_values\": 1,\n        \"samples\": [\n          \"Alice\"\n        ],\n        \"semantic_type\": \"\",\n        \"description\": \"\"\n      }\n    },\n    {\n      \"column\": \"Age\",\n      \"properties\": {\n        \"dtype\": \"number\",\n        \"std\": null,\n        \"min\": 25,\n        \"max\": 25,\n        \"num_unique_values\": 1,\n        \"samples\": [\n          25\n        ],\n        \"semantic_type\": \"\",\n        \"description\": \"\"\n      }\n    },\n    {\n      \"column\": \"City\",\n      \"properties\": {\n        \"dtype\": \"string\",\n        \"num_unique_values\": 1,\n        \"samples\": [\n          \"New York\"\n        ],\n        \"semantic_type\": \"\",\n        \"description\": \"\"\n      }\n    },\n    {\n      \"column\": \"Salary\",\n      \"properties\": {\n        \"dtype\": \"number\",\n        \"std\": null,\n        \"min\": 50000,\n        \"max\": 50000,\n        \"num_unique_values\": 1,\n        \"samples\": [\n          50000\n        ],\n        \"semantic_type\": \"\",\n        \"description\": \"\"\n      }\n    }\n  ]\n}"
            }
          },
          "metadata": {},
          "execution_count": 16
        }
      ]
    },
    {
      "cell_type": "code",
      "source": [
        "# Using isin method\n",
        "print(\"\\nPeople from New York or London:\")\n",
        "\n",
        "cities_filter = df[df['City'].isin(['New York', 'London'])]\n",
        "\n",
        "cities_filter"
      ],
      "metadata": {
        "id": "2QPckFJNUSzK",
        "colab": {
          "base_uri": "https://localhost:8080/",
          "height": 147
        },
        "outputId": "921d9fa3-9053-40f0-a060-d4dfdad28a49"
      },
      "execution_count": null,
      "outputs": [
        {
          "output_type": "stream",
          "name": "stdout",
          "text": [
            "\n",
            "People from New York or London:\n"
          ]
        },
        {
          "output_type": "execute_result",
          "data": {
            "text/plain": [
              "    Name  Age      City  Salary\n",
              "0  Alice   25  New York   50000\n",
              "1    Bob   30    London   60000"
            ],
            "text/html": [
              "\n",
              "  <div id=\"df-95970e82-c28d-49e4-a86f-71bc4b450b73\" class=\"colab-df-container\">\n",
              "    <div>\n",
              "<style scoped>\n",
              "    .dataframe tbody tr th:only-of-type {\n",
              "        vertical-align: middle;\n",
              "    }\n",
              "\n",
              "    .dataframe tbody tr th {\n",
              "        vertical-align: top;\n",
              "    }\n",
              "\n",
              "    .dataframe thead th {\n",
              "        text-align: right;\n",
              "    }\n",
              "</style>\n",
              "<table border=\"1\" class=\"dataframe\">\n",
              "  <thead>\n",
              "    <tr style=\"text-align: right;\">\n",
              "      <th></th>\n",
              "      <th>Name</th>\n",
              "      <th>Age</th>\n",
              "      <th>City</th>\n",
              "      <th>Salary</th>\n",
              "    </tr>\n",
              "  </thead>\n",
              "  <tbody>\n",
              "    <tr>\n",
              "      <th>0</th>\n",
              "      <td>Alice</td>\n",
              "      <td>25</td>\n",
              "      <td>New York</td>\n",
              "      <td>50000</td>\n",
              "    </tr>\n",
              "    <tr>\n",
              "      <th>1</th>\n",
              "      <td>Bob</td>\n",
              "      <td>30</td>\n",
              "      <td>London</td>\n",
              "      <td>60000</td>\n",
              "    </tr>\n",
              "  </tbody>\n",
              "</table>\n",
              "</div>\n",
              "    <div class=\"colab-df-buttons\">\n",
              "\n",
              "  <div class=\"colab-df-container\">\n",
              "    <button class=\"colab-df-convert\" onclick=\"convertToInteractive('df-95970e82-c28d-49e4-a86f-71bc4b450b73')\"\n",
              "            title=\"Convert this dataframe to an interactive table.\"\n",
              "            style=\"display:none;\">\n",
              "\n",
              "  <svg xmlns=\"http://www.w3.org/2000/svg\" height=\"24px\" viewBox=\"0 -960 960 960\">\n",
              "    <path d=\"M120-120v-720h720v720H120Zm60-500h600v-160H180v160Zm220 220h160v-160H400v160Zm0 220h160v-160H400v160ZM180-400h160v-160H180v160Zm440 0h160v-160H620v160ZM180-180h160v-160H180v160Zm440 0h160v-160H620v160Z\"/>\n",
              "  </svg>\n",
              "    </button>\n",
              "\n",
              "  <style>\n",
              "    .colab-df-container {\n",
              "      display:flex;\n",
              "      gap: 12px;\n",
              "    }\n",
              "\n",
              "    .colab-df-convert {\n",
              "      background-color: #E8F0FE;\n",
              "      border: none;\n",
              "      border-radius: 50%;\n",
              "      cursor: pointer;\n",
              "      display: none;\n",
              "      fill: #1967D2;\n",
              "      height: 32px;\n",
              "      padding: 0 0 0 0;\n",
              "      width: 32px;\n",
              "    }\n",
              "\n",
              "    .colab-df-convert:hover {\n",
              "      background-color: #E2EBFA;\n",
              "      box-shadow: 0px 1px 2px rgba(60, 64, 67, 0.3), 0px 1px 3px 1px rgba(60, 64, 67, 0.15);\n",
              "      fill: #174EA6;\n",
              "    }\n",
              "\n",
              "    .colab-df-buttons div {\n",
              "      margin-bottom: 4px;\n",
              "    }\n",
              "\n",
              "    [theme=dark] .colab-df-convert {\n",
              "      background-color: #3B4455;\n",
              "      fill: #D2E3FC;\n",
              "    }\n",
              "\n",
              "    [theme=dark] .colab-df-convert:hover {\n",
              "      background-color: #434B5C;\n",
              "      box-shadow: 0px 1px 3px 1px rgba(0, 0, 0, 0.15);\n",
              "      filter: drop-shadow(0px 1px 2px rgba(0, 0, 0, 0.3));\n",
              "      fill: #FFFFFF;\n",
              "    }\n",
              "  </style>\n",
              "\n",
              "    <script>\n",
              "      const buttonEl =\n",
              "        document.querySelector('#df-95970e82-c28d-49e4-a86f-71bc4b450b73 button.colab-df-convert');\n",
              "      buttonEl.style.display =\n",
              "        google.colab.kernel.accessAllowed ? 'block' : 'none';\n",
              "\n",
              "      async function convertToInteractive(key) {\n",
              "        const element = document.querySelector('#df-95970e82-c28d-49e4-a86f-71bc4b450b73');\n",
              "        const dataTable =\n",
              "          await google.colab.kernel.invokeFunction('convertToInteractive',\n",
              "                                                    [key], {});\n",
              "        if (!dataTable) return;\n",
              "\n",
              "        const docLinkHtml = 'Like what you see? Visit the ' +\n",
              "          '<a target=\"_blank\" href=https://colab.research.google.com/notebooks/data_table.ipynb>data table notebook</a>'\n",
              "          + ' to learn more about interactive tables.';\n",
              "        element.innerHTML = '';\n",
              "        dataTable['output_type'] = 'display_data';\n",
              "        await google.colab.output.renderOutput(dataTable, element);\n",
              "        const docLink = document.createElement('div');\n",
              "        docLink.innerHTML = docLinkHtml;\n",
              "        element.appendChild(docLink);\n",
              "      }\n",
              "    </script>\n",
              "  </div>\n",
              "\n",
              "\n",
              "    <div id=\"df-fd08a94c-2cf9-4b3d-a038-901a747436ba\">\n",
              "      <button class=\"colab-df-quickchart\" onclick=\"quickchart('df-fd08a94c-2cf9-4b3d-a038-901a747436ba')\"\n",
              "                title=\"Suggest charts\"\n",
              "                style=\"display:none;\">\n",
              "\n",
              "<svg xmlns=\"http://www.w3.org/2000/svg\" height=\"24px\"viewBox=\"0 0 24 24\"\n",
              "     width=\"24px\">\n",
              "    <g>\n",
              "        <path d=\"M19 3H5c-1.1 0-2 .9-2 2v14c0 1.1.9 2 2 2h14c1.1 0 2-.9 2-2V5c0-1.1-.9-2-2-2zM9 17H7v-7h2v7zm4 0h-2V7h2v10zm4 0h-2v-4h2v4z\"/>\n",
              "    </g>\n",
              "</svg>\n",
              "      </button>\n",
              "\n",
              "<style>\n",
              "  .colab-df-quickchart {\n",
              "      --bg-color: #E8F0FE;\n",
              "      --fill-color: #1967D2;\n",
              "      --hover-bg-color: #E2EBFA;\n",
              "      --hover-fill-color: #174EA6;\n",
              "      --disabled-fill-color: #AAA;\n",
              "      --disabled-bg-color: #DDD;\n",
              "  }\n",
              "\n",
              "  [theme=dark] .colab-df-quickchart {\n",
              "      --bg-color: #3B4455;\n",
              "      --fill-color: #D2E3FC;\n",
              "      --hover-bg-color: #434B5C;\n",
              "      --hover-fill-color: #FFFFFF;\n",
              "      --disabled-bg-color: #3B4455;\n",
              "      --disabled-fill-color: #666;\n",
              "  }\n",
              "\n",
              "  .colab-df-quickchart {\n",
              "    background-color: var(--bg-color);\n",
              "    border: none;\n",
              "    border-radius: 50%;\n",
              "    cursor: pointer;\n",
              "    display: none;\n",
              "    fill: var(--fill-color);\n",
              "    height: 32px;\n",
              "    padding: 0;\n",
              "    width: 32px;\n",
              "  }\n",
              "\n",
              "  .colab-df-quickchart:hover {\n",
              "    background-color: var(--hover-bg-color);\n",
              "    box-shadow: 0 1px 2px rgba(60, 64, 67, 0.3), 0 1px 3px 1px rgba(60, 64, 67, 0.15);\n",
              "    fill: var(--button-hover-fill-color);\n",
              "  }\n",
              "\n",
              "  .colab-df-quickchart-complete:disabled,\n",
              "  .colab-df-quickchart-complete:disabled:hover {\n",
              "    background-color: var(--disabled-bg-color);\n",
              "    fill: var(--disabled-fill-color);\n",
              "    box-shadow: none;\n",
              "  }\n",
              "\n",
              "  .colab-df-spinner {\n",
              "    border: 2px solid var(--fill-color);\n",
              "    border-color: transparent;\n",
              "    border-bottom-color: var(--fill-color);\n",
              "    animation:\n",
              "      spin 1s steps(1) infinite;\n",
              "  }\n",
              "\n",
              "  @keyframes spin {\n",
              "    0% {\n",
              "      border-color: transparent;\n",
              "      border-bottom-color: var(--fill-color);\n",
              "      border-left-color: var(--fill-color);\n",
              "    }\n",
              "    20% {\n",
              "      border-color: transparent;\n",
              "      border-left-color: var(--fill-color);\n",
              "      border-top-color: var(--fill-color);\n",
              "    }\n",
              "    30% {\n",
              "      border-color: transparent;\n",
              "      border-left-color: var(--fill-color);\n",
              "      border-top-color: var(--fill-color);\n",
              "      border-right-color: var(--fill-color);\n",
              "    }\n",
              "    40% {\n",
              "      border-color: transparent;\n",
              "      border-right-color: var(--fill-color);\n",
              "      border-top-color: var(--fill-color);\n",
              "    }\n",
              "    60% {\n",
              "      border-color: transparent;\n",
              "      border-right-color: var(--fill-color);\n",
              "    }\n",
              "    80% {\n",
              "      border-color: transparent;\n",
              "      border-right-color: var(--fill-color);\n",
              "      border-bottom-color: var(--fill-color);\n",
              "    }\n",
              "    90% {\n",
              "      border-color: transparent;\n",
              "      border-bottom-color: var(--fill-color);\n",
              "    }\n",
              "  }\n",
              "</style>\n",
              "\n",
              "      <script>\n",
              "        async function quickchart(key) {\n",
              "          const quickchartButtonEl =\n",
              "            document.querySelector('#' + key + ' button');\n",
              "          quickchartButtonEl.disabled = true;  // To prevent multiple clicks.\n",
              "          quickchartButtonEl.classList.add('colab-df-spinner');\n",
              "          try {\n",
              "            const charts = await google.colab.kernel.invokeFunction(\n",
              "                'suggestCharts', [key], {});\n",
              "          } catch (error) {\n",
              "            console.error('Error during call to suggestCharts:', error);\n",
              "          }\n",
              "          quickchartButtonEl.classList.remove('colab-df-spinner');\n",
              "          quickchartButtonEl.classList.add('colab-df-quickchart-complete');\n",
              "        }\n",
              "        (() => {\n",
              "          let quickchartButtonEl =\n",
              "            document.querySelector('#df-fd08a94c-2cf9-4b3d-a038-901a747436ba button');\n",
              "          quickchartButtonEl.style.display =\n",
              "            google.colab.kernel.accessAllowed ? 'block' : 'none';\n",
              "        })();\n",
              "      </script>\n",
              "    </div>\n",
              "    </div>\n",
              "  </div>\n"
            ],
            "application/vnd.google.colaboratory.intrinsic+json": {
              "type": "dataframe",
              "variable_name": "cities_filter",
              "summary": "{\n  \"name\": \"cities_filter\",\n  \"rows\": 2,\n  \"fields\": [\n    {\n      \"column\": \"Name\",\n      \"properties\": {\n        \"dtype\": \"string\",\n        \"num_unique_values\": 2,\n        \"samples\": [\n          \"Bob\",\n          \"Alice\"\n        ],\n        \"semantic_type\": \"\",\n        \"description\": \"\"\n      }\n    },\n    {\n      \"column\": \"Age\",\n      \"properties\": {\n        \"dtype\": \"number\",\n        \"std\": 3,\n        \"min\": 25,\n        \"max\": 30,\n        \"num_unique_values\": 2,\n        \"samples\": [\n          30,\n          25\n        ],\n        \"semantic_type\": \"\",\n        \"description\": \"\"\n      }\n    },\n    {\n      \"column\": \"City\",\n      \"properties\": {\n        \"dtype\": \"string\",\n        \"num_unique_values\": 2,\n        \"samples\": [\n          \"London\",\n          \"New York\"\n        ],\n        \"semantic_type\": \"\",\n        \"description\": \"\"\n      }\n    },\n    {\n      \"column\": \"Salary\",\n      \"properties\": {\n        \"dtype\": \"number\",\n        \"std\": 7071,\n        \"min\": 50000,\n        \"max\": 60000,\n        \"num_unique_values\": 2,\n        \"samples\": [\n          60000,\n          50000\n        ],\n        \"semantic_type\": \"\",\n        \"description\": \"\"\n      }\n    }\n  ]\n}"
            }
          },
          "metadata": {},
          "execution_count": 17
        }
      ]
    },
    {
      "cell_type": "code",
      "source": [
        "# Negation (NOT)\n",
        "print(\"\\nPeople NOT from Tokyo:\")\n",
        "\n",
        "not_tokyo = df[~(df['City'] == 'Tokyo')]\n",
        "not_tokyo"
      ],
      "metadata": {
        "id": "Dr0M_KRJUVAm",
        "colab": {
          "base_uri": "https://localhost:8080/",
          "height": 178
        },
        "outputId": "554493dc-4371-495d-a1fc-382c6b8a0326"
      },
      "execution_count": null,
      "outputs": [
        {
          "output_type": "stream",
          "name": "stdout",
          "text": [
            "\n",
            "People NOT from Tokyo:\n"
          ]
        },
        {
          "output_type": "execute_result",
          "data": {
            "text/plain": [
              "    Name  Age      City  Salary\n",
              "0  Alice   25  New York   50000\n",
              "1    Bob   30    London   60000\n",
              "3  Diana   28     Paris   55000"
            ],
            "text/html": [
              "\n",
              "  <div id=\"df-649ea21f-9b07-4c4c-b05b-b14327450cf3\" class=\"colab-df-container\">\n",
              "    <div>\n",
              "<style scoped>\n",
              "    .dataframe tbody tr th:only-of-type {\n",
              "        vertical-align: middle;\n",
              "    }\n",
              "\n",
              "    .dataframe tbody tr th {\n",
              "        vertical-align: top;\n",
              "    }\n",
              "\n",
              "    .dataframe thead th {\n",
              "        text-align: right;\n",
              "    }\n",
              "</style>\n",
              "<table border=\"1\" class=\"dataframe\">\n",
              "  <thead>\n",
              "    <tr style=\"text-align: right;\">\n",
              "      <th></th>\n",
              "      <th>Name</th>\n",
              "      <th>Age</th>\n",
              "      <th>City</th>\n",
              "      <th>Salary</th>\n",
              "    </tr>\n",
              "  </thead>\n",
              "  <tbody>\n",
              "    <tr>\n",
              "      <th>0</th>\n",
              "      <td>Alice</td>\n",
              "      <td>25</td>\n",
              "      <td>New York</td>\n",
              "      <td>50000</td>\n",
              "    </tr>\n",
              "    <tr>\n",
              "      <th>1</th>\n",
              "      <td>Bob</td>\n",
              "      <td>30</td>\n",
              "      <td>London</td>\n",
              "      <td>60000</td>\n",
              "    </tr>\n",
              "    <tr>\n",
              "      <th>3</th>\n",
              "      <td>Diana</td>\n",
              "      <td>28</td>\n",
              "      <td>Paris</td>\n",
              "      <td>55000</td>\n",
              "    </tr>\n",
              "  </tbody>\n",
              "</table>\n",
              "</div>\n",
              "    <div class=\"colab-df-buttons\">\n",
              "\n",
              "  <div class=\"colab-df-container\">\n",
              "    <button class=\"colab-df-convert\" onclick=\"convertToInteractive('df-649ea21f-9b07-4c4c-b05b-b14327450cf3')\"\n",
              "            title=\"Convert this dataframe to an interactive table.\"\n",
              "            style=\"display:none;\">\n",
              "\n",
              "  <svg xmlns=\"http://www.w3.org/2000/svg\" height=\"24px\" viewBox=\"0 -960 960 960\">\n",
              "    <path d=\"M120-120v-720h720v720H120Zm60-500h600v-160H180v160Zm220 220h160v-160H400v160Zm0 220h160v-160H400v160ZM180-400h160v-160H180v160Zm440 0h160v-160H620v160ZM180-180h160v-160H180v160Zm440 0h160v-160H620v160Z\"/>\n",
              "  </svg>\n",
              "    </button>\n",
              "\n",
              "  <style>\n",
              "    .colab-df-container {\n",
              "      display:flex;\n",
              "      gap: 12px;\n",
              "    }\n",
              "\n",
              "    .colab-df-convert {\n",
              "      background-color: #E8F0FE;\n",
              "      border: none;\n",
              "      border-radius: 50%;\n",
              "      cursor: pointer;\n",
              "      display: none;\n",
              "      fill: #1967D2;\n",
              "      height: 32px;\n",
              "      padding: 0 0 0 0;\n",
              "      width: 32px;\n",
              "    }\n",
              "\n",
              "    .colab-df-convert:hover {\n",
              "      background-color: #E2EBFA;\n",
              "      box-shadow: 0px 1px 2px rgba(60, 64, 67, 0.3), 0px 1px 3px 1px rgba(60, 64, 67, 0.15);\n",
              "      fill: #174EA6;\n",
              "    }\n",
              "\n",
              "    .colab-df-buttons div {\n",
              "      margin-bottom: 4px;\n",
              "    }\n",
              "\n",
              "    [theme=dark] .colab-df-convert {\n",
              "      background-color: #3B4455;\n",
              "      fill: #D2E3FC;\n",
              "    }\n",
              "\n",
              "    [theme=dark] .colab-df-convert:hover {\n",
              "      background-color: #434B5C;\n",
              "      box-shadow: 0px 1px 3px 1px rgba(0, 0, 0, 0.15);\n",
              "      filter: drop-shadow(0px 1px 2px rgba(0, 0, 0, 0.3));\n",
              "      fill: #FFFFFF;\n",
              "    }\n",
              "  </style>\n",
              "\n",
              "    <script>\n",
              "      const buttonEl =\n",
              "        document.querySelector('#df-649ea21f-9b07-4c4c-b05b-b14327450cf3 button.colab-df-convert');\n",
              "      buttonEl.style.display =\n",
              "        google.colab.kernel.accessAllowed ? 'block' : 'none';\n",
              "\n",
              "      async function convertToInteractive(key) {\n",
              "        const element = document.querySelector('#df-649ea21f-9b07-4c4c-b05b-b14327450cf3');\n",
              "        const dataTable =\n",
              "          await google.colab.kernel.invokeFunction('convertToInteractive',\n",
              "                                                    [key], {});\n",
              "        if (!dataTable) return;\n",
              "\n",
              "        const docLinkHtml = 'Like what you see? Visit the ' +\n",
              "          '<a target=\"_blank\" href=https://colab.research.google.com/notebooks/data_table.ipynb>data table notebook</a>'\n",
              "          + ' to learn more about interactive tables.';\n",
              "        element.innerHTML = '';\n",
              "        dataTable['output_type'] = 'display_data';\n",
              "        await google.colab.output.renderOutput(dataTable, element);\n",
              "        const docLink = document.createElement('div');\n",
              "        docLink.innerHTML = docLinkHtml;\n",
              "        element.appendChild(docLink);\n",
              "      }\n",
              "    </script>\n",
              "  </div>\n",
              "\n",
              "\n",
              "    <div id=\"df-4ab93c6a-4e82-4b2a-b92a-2a691fca22ac\">\n",
              "      <button class=\"colab-df-quickchart\" onclick=\"quickchart('df-4ab93c6a-4e82-4b2a-b92a-2a691fca22ac')\"\n",
              "                title=\"Suggest charts\"\n",
              "                style=\"display:none;\">\n",
              "\n",
              "<svg xmlns=\"http://www.w3.org/2000/svg\" height=\"24px\"viewBox=\"0 0 24 24\"\n",
              "     width=\"24px\">\n",
              "    <g>\n",
              "        <path d=\"M19 3H5c-1.1 0-2 .9-2 2v14c0 1.1.9 2 2 2h14c1.1 0 2-.9 2-2V5c0-1.1-.9-2-2-2zM9 17H7v-7h2v7zm4 0h-2V7h2v10zm4 0h-2v-4h2v4z\"/>\n",
              "    </g>\n",
              "</svg>\n",
              "      </button>\n",
              "\n",
              "<style>\n",
              "  .colab-df-quickchart {\n",
              "      --bg-color: #E8F0FE;\n",
              "      --fill-color: #1967D2;\n",
              "      --hover-bg-color: #E2EBFA;\n",
              "      --hover-fill-color: #174EA6;\n",
              "      --disabled-fill-color: #AAA;\n",
              "      --disabled-bg-color: #DDD;\n",
              "  }\n",
              "\n",
              "  [theme=dark] .colab-df-quickchart {\n",
              "      --bg-color: #3B4455;\n",
              "      --fill-color: #D2E3FC;\n",
              "      --hover-bg-color: #434B5C;\n",
              "      --hover-fill-color: #FFFFFF;\n",
              "      --disabled-bg-color: #3B4455;\n",
              "      --disabled-fill-color: #666;\n",
              "  }\n",
              "\n",
              "  .colab-df-quickchart {\n",
              "    background-color: var(--bg-color);\n",
              "    border: none;\n",
              "    border-radius: 50%;\n",
              "    cursor: pointer;\n",
              "    display: none;\n",
              "    fill: var(--fill-color);\n",
              "    height: 32px;\n",
              "    padding: 0;\n",
              "    width: 32px;\n",
              "  }\n",
              "\n",
              "  .colab-df-quickchart:hover {\n",
              "    background-color: var(--hover-bg-color);\n",
              "    box-shadow: 0 1px 2px rgba(60, 64, 67, 0.3), 0 1px 3px 1px rgba(60, 64, 67, 0.15);\n",
              "    fill: var(--button-hover-fill-color);\n",
              "  }\n",
              "\n",
              "  .colab-df-quickchart-complete:disabled,\n",
              "  .colab-df-quickchart-complete:disabled:hover {\n",
              "    background-color: var(--disabled-bg-color);\n",
              "    fill: var(--disabled-fill-color);\n",
              "    box-shadow: none;\n",
              "  }\n",
              "\n",
              "  .colab-df-spinner {\n",
              "    border: 2px solid var(--fill-color);\n",
              "    border-color: transparent;\n",
              "    border-bottom-color: var(--fill-color);\n",
              "    animation:\n",
              "      spin 1s steps(1) infinite;\n",
              "  }\n",
              "\n",
              "  @keyframes spin {\n",
              "    0% {\n",
              "      border-color: transparent;\n",
              "      border-bottom-color: var(--fill-color);\n",
              "      border-left-color: var(--fill-color);\n",
              "    }\n",
              "    20% {\n",
              "      border-color: transparent;\n",
              "      border-left-color: var(--fill-color);\n",
              "      border-top-color: var(--fill-color);\n",
              "    }\n",
              "    30% {\n",
              "      border-color: transparent;\n",
              "      border-left-color: var(--fill-color);\n",
              "      border-top-color: var(--fill-color);\n",
              "      border-right-color: var(--fill-color);\n",
              "    }\n",
              "    40% {\n",
              "      border-color: transparent;\n",
              "      border-right-color: var(--fill-color);\n",
              "      border-top-color: var(--fill-color);\n",
              "    }\n",
              "    60% {\n",
              "      border-color: transparent;\n",
              "      border-right-color: var(--fill-color);\n",
              "    }\n",
              "    80% {\n",
              "      border-color: transparent;\n",
              "      border-right-color: var(--fill-color);\n",
              "      border-bottom-color: var(--fill-color);\n",
              "    }\n",
              "    90% {\n",
              "      border-color: transparent;\n",
              "      border-bottom-color: var(--fill-color);\n",
              "    }\n",
              "  }\n",
              "</style>\n",
              "\n",
              "      <script>\n",
              "        async function quickchart(key) {\n",
              "          const quickchartButtonEl =\n",
              "            document.querySelector('#' + key + ' button');\n",
              "          quickchartButtonEl.disabled = true;  // To prevent multiple clicks.\n",
              "          quickchartButtonEl.classList.add('colab-df-spinner');\n",
              "          try {\n",
              "            const charts = await google.colab.kernel.invokeFunction(\n",
              "                'suggestCharts', [key], {});\n",
              "          } catch (error) {\n",
              "            console.error('Error during call to suggestCharts:', error);\n",
              "          }\n",
              "          quickchartButtonEl.classList.remove('colab-df-spinner');\n",
              "          quickchartButtonEl.classList.add('colab-df-quickchart-complete');\n",
              "        }\n",
              "        (() => {\n",
              "          let quickchartButtonEl =\n",
              "            document.querySelector('#df-4ab93c6a-4e82-4b2a-b92a-2a691fca22ac button');\n",
              "          quickchartButtonEl.style.display =\n",
              "            google.colab.kernel.accessAllowed ? 'block' : 'none';\n",
              "        })();\n",
              "      </script>\n",
              "    </div>\n",
              "    </div>\n",
              "  </div>\n"
            ],
            "application/vnd.google.colaboratory.intrinsic+json": {
              "type": "dataframe",
              "variable_name": "not_tokyo",
              "summary": "{\n  \"name\": \"not_tokyo\",\n  \"rows\": 3,\n  \"fields\": [\n    {\n      \"column\": \"Name\",\n      \"properties\": {\n        \"dtype\": \"string\",\n        \"num_unique_values\": 3,\n        \"samples\": [\n          \"Alice\",\n          \"Bob\",\n          \"Diana\"\n        ],\n        \"semantic_type\": \"\",\n        \"description\": \"\"\n      }\n    },\n    {\n      \"column\": \"Age\",\n      \"properties\": {\n        \"dtype\": \"number\",\n        \"std\": 2,\n        \"min\": 25,\n        \"max\": 30,\n        \"num_unique_values\": 3,\n        \"samples\": [\n          25,\n          30,\n          28\n        ],\n        \"semantic_type\": \"\",\n        \"description\": \"\"\n      }\n    },\n    {\n      \"column\": \"City\",\n      \"properties\": {\n        \"dtype\": \"string\",\n        \"num_unique_values\": 3,\n        \"samples\": [\n          \"New York\",\n          \"London\",\n          \"Paris\"\n        ],\n        \"semantic_type\": \"\",\n        \"description\": \"\"\n      }\n    },\n    {\n      \"column\": \"Salary\",\n      \"properties\": {\n        \"dtype\": \"number\",\n        \"std\": 5000,\n        \"min\": 50000,\n        \"max\": 60000,\n        \"num_unique_values\": 3,\n        \"samples\": [\n          50000,\n          60000,\n          55000\n        ],\n        \"semantic_type\": \"\",\n        \"description\": \"\"\n      }\n    }\n  ]\n}"
            }
          },
          "metadata": {},
          "execution_count": 18
        }
      ]
    },
    {
      "cell_type": "markdown",
      "source": [
        "## 6. Adding and Modifying Data\n",
        "\n",
        "You can add new columns, modify existing ones, or add new rows:\n",
        "\n",
        "- **Add new column**: `df['new_column'] = values`\n",
        "- **Modify existing column**: `df['column'] = new_values`\n",
        "- **Add calculated column**: `df['new_col'] = df['col1'] + df['col2']`\n",
        "- **Add new row**: `df.loc[new_row] = [values]`\n",
        "- **Drop columns**: `df.drop(['col1', 'col2'], axis=1)`\n",
        "- **Drop rows**: `df.drop([index1, index2], axis=0)`"
      ],
      "metadata": {
        "id": "HAyMM6ioUW5K"
      }
    },
    {
      "cell_type": "code",
      "source": [
        "# Create a copy to modify\n",
        "df_modified = df.copy()\n",
        "print(\"Original DataFrame:\")\n",
        "print(df_modified)\n",
        "\n",
        "# Add new column\n",
        "df_modified['Experience'] = [3, 5, 10, 2]\n",
        "print(\"\\nAfter adding 'Experience' column:\")\n",
        "print(df_modified)"
      ],
      "metadata": {
        "id": "rt1pQx9XUXS8",
        "colab": {
          "base_uri": "https://localhost:8080/"
        },
        "outputId": "a2bc7407-2ba4-4dbd-bd7f-620d80cb842e"
      },
      "execution_count": null,
      "outputs": [
        {
          "output_type": "stream",
          "name": "stdout",
          "text": [
            "Original DataFrame:\n",
            "      Name  Age      City  Salary\n",
            "0    Alice   25  New York   50000\n",
            "1      Bob   30    London   60000\n",
            "2  Charlie   35     Tokyo   70000\n",
            "3    Diana   28     Paris   55000\n",
            "\n",
            "After adding 'Experience' column:\n",
            "      Name  Age      City  Salary  Experience\n",
            "0    Alice   25  New York   50000           3\n",
            "1      Bob   30    London   60000           5\n",
            "2  Charlie   35     Tokyo   70000          10\n",
            "3    Diana   28     Paris   55000           2\n"
          ]
        }
      ]
    },
    {
      "cell_type": "code",
      "source": [
        "# Add calculated column\n",
        "df_modified['Salary_per_Year_Experience'] = df_modified['Salary'] / df_modified['Experience']\n",
        "print(\"\\nAfter adding calculated column:\")\n",
        "print(df_modified)"
      ],
      "metadata": {
        "id": "PFJZ060lUdmF",
        "colab": {
          "base_uri": "https://localhost:8080/"
        },
        "outputId": "1dbc78d5-431f-4606-aa4f-276dbabae7e8"
      },
      "execution_count": null,
      "outputs": [
        {
          "output_type": "stream",
          "name": "stdout",
          "text": [
            "\n",
            "After adding calculated column:\n",
            "      Name  Age      City  Salary  Experience  Salary_per_Year_Experience\n",
            "0    Alice   25  New York   50000           3                16666.666667\n",
            "1      Bob   30    London   60000           5                12000.000000\n",
            "2  Charlie   35     Tokyo   70000          10                 7000.000000\n",
            "3    Diana   28     Paris   55000           2                27500.000000\n"
          ]
        }
      ]
    },
    {
      "cell_type": "code",
      "source": [
        "# Modify existing column\n",
        "df_modified['Age'] = df_modified['Age'] + 1  # Everyone gets one year older\n",
        "print(\"\\nAfter aging everyone by 1 year:\")\n",
        "print(df_modified)"
      ],
      "metadata": {
        "id": "FUz73SFcUfEW",
        "colab": {
          "base_uri": "https://localhost:8080/"
        },
        "outputId": "54eb3d03-4e4d-44e6-c3fa-f3ce41b800d6"
      },
      "execution_count": null,
      "outputs": [
        {
          "output_type": "stream",
          "name": "stdout",
          "text": [
            "\n",
            "After aging everyone by 1 year:\n",
            "      Name  Age      City  Salary  Experience  Salary_per_Year_Experience\n",
            "0    Alice   26  New York   50000           3                16666.666667\n",
            "1      Bob   31    London   60000           5                12000.000000\n",
            "2  Charlie   36     Tokyo   70000          10                 7000.000000\n",
            "3    Diana   29     Paris   55000           2                27500.000000\n"
          ]
        }
      ]
    },
    {
      "cell_type": "code",
      "source": [
        "# Add new row\n",
        "df_modified.loc[4] = ['Eve', 26, 'Berlin', 52000, 4, 13000.0]\n",
        "print(\"\\nAfter adding new person:\")\n",
        "print(df_modified)"
      ],
      "metadata": {
        "id": "_WckH4EmUg7n",
        "colab": {
          "base_uri": "https://localhost:8080/"
        },
        "outputId": "7296883e-8450-404d-84ff-1ca2edb10a60"
      },
      "execution_count": null,
      "outputs": [
        {
          "output_type": "stream",
          "name": "stdout",
          "text": [
            "\n",
            "After adding new person:\n",
            "      Name  Age      City  Salary  Experience  Salary_per_Year_Experience\n",
            "0    Alice   26  New York   50000           3                16666.666667\n",
            "1      Bob   31    London   60000           5                12000.000000\n",
            "2  Charlie   36     Tokyo   70000          10                 7000.000000\n",
            "3    Diana   29     Paris   55000           2                27500.000000\n",
            "4      Eve   26    Berlin   52000           4                13000.000000\n"
          ]
        }
      ]
    },
    {
      "cell_type": "code",
      "source": [
        "# Drop a column\n",
        "df_no_exp = df_modified.drop(['Experience'], axis=1)\n",
        "print(\"\\nAfter dropping 'Experience' column:\")\n",
        "print(df_no_exp)"
      ],
      "metadata": {
        "id": "GjLyIXRyUlYd",
        "colab": {
          "base_uri": "https://localhost:8080/"
        },
        "outputId": "0e3ba94b-2a81-41cf-f874-a95541045161"
      },
      "execution_count": null,
      "outputs": [
        {
          "output_type": "stream",
          "name": "stdout",
          "text": [
            "\n",
            "After dropping 'Experience' column:\n",
            "      Name  Age      City  Salary  Salary_per_Year_Experience\n",
            "0    Alice   26  New York   50000                16666.666667\n",
            "1      Bob   31    London   60000                12000.000000\n",
            "2  Charlie   36     Tokyo   70000                 7000.000000\n",
            "3    Diana   29     Paris   55000                27500.000000\n",
            "4      Eve   26    Berlin   52000                13000.000000\n"
          ]
        }
      ]
    },
    {
      "cell_type": "code",
      "source": [
        "# Apply: complex transformation\n",
        "def is_adult(age):\n",
        "    if age >= 18:\n",
        "        return True\n",
        "    return False\n",
        "\n",
        "df_modified['is_adult'] = df_modified['Age'].apply(is_adult)"
      ],
      "metadata": {
        "id": "-Aiq2G3uPd1A"
      },
      "execution_count": null,
      "outputs": []
    },
    {
      "cell_type": "markdown",
      "source": [
        "## 7. Grouping and Aggregation\n",
        "\n",
        "Group data and perform aggregate operations:\n",
        "\n",
        "- **Group by single column**: `df.groupby('column')`\n",
        "- **Group by multiple columns**: `df.groupby(['col1', 'col2'])`\n",
        "- **Aggregate functions**: `.sum()`, `.mean()`, `.count()`, `.min()`, `.max()`\n",
        "- **Multiple aggregations**: `.agg(['sum', 'mean', 'count'])`\n",
        "- **Custom aggregation**: `.agg({'col1': 'sum', 'col2': 'mean'})`"
      ],
      "metadata": {
        "id": "vhVCLsleUm9f"
      }
    },
    {
      "cell_type": "code",
      "source": [
        "# Create sample data with more entries for grouping\n",
        "sales_data = {\n",
        "    'Product': ['A', 'B', 'A', 'C', 'B', 'A', 'C', 'B'],\n",
        "    'Region': ['North', 'South', 'North', 'East', 'South', 'East', 'North', 'North'],\n",
        "    'Sales': [100, 150, 120, 200, 180, 90, 160, 140],\n",
        "    'Quantity': [10, 15, 12, 20, 18, 9, 16, 14]\n",
        "}\n",
        "sales_df = pd.DataFrame(sales_data)\n",
        "print(\"Sales data:\")\n",
        "print(sales_df)"
      ],
      "metadata": {
        "id": "WBMITr_lUoAd",
        "colab": {
          "base_uri": "https://localhost:8080/"
        },
        "outputId": "f3d435cc-cd43-424f-f1d8-c24d1937f386"
      },
      "execution_count": null,
      "outputs": [
        {
          "output_type": "stream",
          "name": "stdout",
          "text": [
            "Sales data:\n",
            "  Product Region  Sales  Quantity\n",
            "0       A  North    100        10\n",
            "1       B  South    150        15\n",
            "2       A  North    120        12\n",
            "3       C   East    200        20\n",
            "4       B  South    180        18\n",
            "5       A   East     90         9\n",
            "6       C  North    160        16\n",
            "7       B  North    140        14\n"
          ]
        }
      ]
    },
    {
      "cell_type": "code",
      "source": [
        "# Group by single column\n",
        "print(\"\\nTotal sales by product:\")\n",
        "product_sales = sales_df.groupby('Product')['Sales'].sum()\n",
        "print(product_sales)"
      ],
      "metadata": {
        "id": "A6mXWA7uUqQd",
        "colab": {
          "base_uri": "https://localhost:8080/"
        },
        "outputId": "eb2882dd-58b5-40ef-f3e8-bc149498a766"
      },
      "execution_count": null,
      "outputs": [
        {
          "output_type": "stream",
          "name": "stdout",
          "text": [
            "\n",
            "Total sales by product:\n",
            "Product\n",
            "A    310\n",
            "B    470\n",
            "C    360\n",
            "Name: Sales, dtype: int64\n"
          ]
        }
      ]
    },
    {
      "cell_type": "code",
      "source": [
        "# Group by multiple columns\n",
        "print(\"\\nAverage sales by product and region:\")\n",
        "product_region_avg = sales_df.groupby(['Product', 'Region'])['Sales'].mean()\n",
        "print(product_region_avg)"
      ],
      "metadata": {
        "id": "A7QRoHpnUt00",
        "colab": {
          "base_uri": "https://localhost:8080/"
        },
        "outputId": "449e6e85-99d8-4ef0-ebed-c01f94fa3e6d"
      },
      "execution_count": null,
      "outputs": [
        {
          "output_type": "stream",
          "name": "stdout",
          "text": [
            "\n",
            "Average sales by product and region:\n",
            "Product  Region\n",
            "A        East       90.0\n",
            "         North     110.0\n",
            "B        North     140.0\n",
            "         South     165.0\n",
            "C        East      200.0\n",
            "         North     160.0\n",
            "Name: Sales, dtype: float64\n"
          ]
        }
      ]
    },
    {
      "cell_type": "code",
      "source": [
        "# Multiple aggregations\n",
        "print(\"\\nMultiple aggregations by product:\")\n",
        "multi_agg = sales_df.groupby('Product').agg({\n",
        "    'Sales': ['sum', 'mean', 'count'],\n",
        "    'Quantity': ['sum', 'max']\n",
        "})\n",
        "print(multi_agg)"
      ],
      "metadata": {
        "id": "RrgvFBrfUv1_",
        "colab": {
          "base_uri": "https://localhost:8080/"
        },
        "outputId": "637b10ca-e1df-4d2c-a85e-7aada9c833f5"
      },
      "execution_count": null,
      "outputs": [
        {
          "output_type": "stream",
          "name": "stdout",
          "text": [
            "\n",
            "Multiple aggregations by product:\n",
            "        Sales                   Quantity    \n",
            "          sum        mean count      sum max\n",
            "Product                                     \n",
            "A         310  103.333333     3       31  12\n",
            "B         470  156.666667     3       47  18\n",
            "C         360  180.000000     2       36  20\n"
          ]
        }
      ]
    },
    {
      "cell_type": "markdown",
      "source": [
        "## 8. Sorting and Ranking\n",
        "\n",
        "Sort DataFrames by values or index:\n",
        "\n",
        "- **Sort by single column**: `df.sort_values('column')`\n",
        "- **Sort by multiple columns**: `df.sort_values(['col1', 'col2'])`\n",
        "- **Sort descending**: `df.sort_values('column', ascending=False)`\n",
        "- **Sort by index**: `df.sort_index()`\n",
        "- **Ranking**: `df['column'].rank()`"
      ],
      "metadata": {
        "id": "XfQ20G9BUxf_"
      }
    },
    {
      "cell_type": "code",
      "source": [
        "# Using our original employee data\n",
        "print(\"Original data:\")\n",
        "print(df)\n",
        "\n",
        "# Sort by age (ascending)\n",
        "print(\"\\nSorted by age (ascending):\")\n",
        "sorted_by_age = df.sort_values('Age')\n",
        "print(sorted_by_age)\n",
        "\n",
        "# Sort by salary (descending)\n",
        "print(\"\\nSorted by salary (descending):\")\n",
        "sorted_by_salary = df.sort_values('Salary', ascending=False)\n",
        "print(sorted_by_salary)"
      ],
      "metadata": {
        "id": "nOGdepxQUx5v",
        "colab": {
          "base_uri": "https://localhost:8080/"
        },
        "outputId": "aee32e37-0473-45c5-b1c6-345d9347d8f1"
      },
      "execution_count": null,
      "outputs": [
        {
          "output_type": "stream",
          "name": "stdout",
          "text": [
            "Original data:\n",
            "      Name  Age      City  Salary\n",
            "0    Alice   25  New York   50000\n",
            "1      Bob   30    London   60000\n",
            "2  Charlie   35     Tokyo   70000\n",
            "3    Diana   28     Paris   55000\n",
            "\n",
            "Sorted by age (ascending):\n",
            "      Name  Age      City  Salary\n",
            "0    Alice   25  New York   50000\n",
            "3    Diana   28     Paris   55000\n",
            "1      Bob   30    London   60000\n",
            "2  Charlie   35     Tokyo   70000\n",
            "\n",
            "Sorted by salary (descending):\n",
            "      Name  Age      City  Salary\n",
            "2  Charlie   35     Tokyo   70000\n",
            "1      Bob   30    London   60000\n",
            "3    Diana   28     Paris   55000\n",
            "0    Alice   25  New York   50000\n"
          ]
        }
      ]
    },
    {
      "cell_type": "code",
      "source": [
        "# Sort by multiple columns\n",
        "print(\"\\nSorted by city, then by age:\")\n",
        "sorted_multi = df.sort_values(['City', 'Age'])\n",
        "print(sorted_multi)"
      ],
      "metadata": {
        "id": "6NFij0DdU5Tx",
        "colab": {
          "base_uri": "https://localhost:8080/"
        },
        "outputId": "0d4529be-ca8c-48a2-c5a8-be86e08c7506"
      },
      "execution_count": null,
      "outputs": [
        {
          "output_type": "stream",
          "name": "stdout",
          "text": [
            "\n",
            "Sorted by city, then by age:\n",
            "      Name  Age      City  Salary\n",
            "1      Bob   30    London   60000\n",
            "0    Alice   25  New York   50000\n",
            "3    Diana   28     Paris   55000\n",
            "2  Charlie   35     Tokyo   70000\n"
          ]
        }
      ]
    },
    {
      "cell_type": "code",
      "source": [
        "# Add salary ranking\n",
        "df_with_rank = df.copy()\n",
        "df_with_rank['Salary_Rank'] = df['Salary'].rank(ascending=False)\n",
        "print(\"\\nWith salary ranking (1 = highest salary):\")\n",
        "print(df_with_rank)"
      ],
      "metadata": {
        "id": "LuManezIU6yx",
        "colab": {
          "base_uri": "https://localhost:8080/"
        },
        "outputId": "77acc91d-9158-4aaf-a9f2-47d685b7fa26"
      },
      "execution_count": null,
      "outputs": [
        {
          "output_type": "stream",
          "name": "stdout",
          "text": [
            "\n",
            "With salary ranking (1 = highest salary):\n",
            "      Name  Age      City  Salary  Salary_Rank\n",
            "0    Alice   25  New York   50000          4.0\n",
            "1      Bob   30    London   60000          2.0\n",
            "2  Charlie   35     Tokyo   70000          1.0\n",
            "3    Diana   28     Paris   55000          3.0\n"
          ]
        }
      ]
    },
    {
      "cell_type": "markdown",
      "source": [
        "## 9. Short Practices\n",
        "Try these exercises to reinforce your understanding of pandas:\n",
        "\n",
        "1. **Create and analyze a student dataset**\n",
        "   - Create a DataFrame with columns: 'Name', 'Math_Score', 'English_Score', 'Science_Score'\n",
        "   - Add at least 5 students with different scores\n",
        "   - Calculate the average score for each student\n",
        "   - Find students with Math score > 85\n",
        "\n",
        "2. **Sales analysis**\n",
        "   - Use the provided sales data or create your own\n",
        "   - Find the total sales by region\n",
        "   - Identify the best-selling product\n",
        "   - Calculate the average quantity sold per product\n",
        "\n",
        "3. **Data manipulation challenge**\n",
        "   - Filter employees with salary between 50000 and 65000\n",
        "   - Add a new column 'Salary_Category' (High: >60000, Medium: 50000-60000, Low: <50000)\n",
        "   - Sort the data by salary in descending order"
      ],
      "metadata": {
        "id": "re9rb8tmU8Z4"
      }
    },
    {
      "cell_type": "code",
      "source": [
        "# Exercise 1: Student dataset\n",
        "student_data = {\n",
        "    'Name': ['John', 'Emma', 'Michael', 'Sophia', 'James'],\n",
        "    'Math_Score': [88, 92, 78, 95, 85],\n",
        "    'English_Score': [85, 88, 90, 87, 82],\n",
        "    'Science_Score': [90, 85, 88, 92, 89]\n",
        "}\n",
        "students_df = pd.DataFrame(student_data)\n",
        "print(\"Student dataset:\")\n",
        "print(students_df)\n",
        "\n",
        "\n",
        "## Calculate the average score for each student\n",
        "students_df['Avg_score'] = students_df[['Math_Score', 'English_Score', 'Science_Score']].mean(axis=1)\n",
        "print('\\n With avg scores')\n",
        "print(students_df)\n",
        "\n",
        "## Find students with Math score > 85\n",
        "high_math = students_df[students_df['Math_Score'] > 85]\n",
        "print(high_math)"
      ],
      "metadata": {
        "id": "NqFKOWBZU86r",
        "colab": {
          "base_uri": "https://localhost:8080/"
        },
        "outputId": "e45d05e1-b9ef-4714-b1cf-d1f81f01c585"
      },
      "execution_count": null,
      "outputs": [
        {
          "output_type": "stream",
          "name": "stdout",
          "text": [
            "Student dataset:\n",
            "      Name  Math_Score  English_Score  Science_Score\n",
            "0     John          88             85             90\n",
            "1     Emma          92             88             85\n",
            "2  Michael          78             90             88\n",
            "3   Sophia          95             87             92\n",
            "4    James          85             82             89\n",
            "\n",
            " With avg scores\n",
            "      Name  Math_Score  English_Score  Science_Score  Avg_score\n",
            "0     John          88             85             90  87.666667\n",
            "1     Emma          92             88             85  88.333333\n",
            "2  Michael          78             90             88  85.333333\n",
            "3   Sophia          95             87             92  91.333333\n",
            "4    James          85             82             89  85.333333\n",
            "     Name  Math_Score  English_Score  Science_Score  Avg_score\n",
            "0    John          88             85             90  87.666667\n",
            "1    Emma          92             88             85  88.333333\n",
            "3  Sophia          95             87             92  91.333333\n"
          ]
        }
      ]
    },
    {
      "cell_type": "code",
      "source": [
        "# Solution 2: Sales analysis (using existing sales_df)\n",
        "print(sales_df)\n",
        "\n",
        "## Find the total sales by region\n",
        "sales_by_region = sales_df.groupby('Region')['Sales'].sum()\n",
        "print('\\n Total sales by region:')\n",
        "print(sales_by_region)\n",
        "\n",
        "## Identify the best-selling product\n",
        "sales_by_product = sales_df.groupby('Product')['Sales'].sum()\n",
        "best_product = sales_by_product.idxmax()\n",
        "print('\\n Best-selling produce:', best_product)\n",
        "\n",
        "## Calculate the average quantity sold per product\n",
        "avg_quantity = sales_df.groupby('Product')['Quantity'].mean()\n",
        "print(avg_quantity)"
      ],
      "metadata": {
        "id": "Nvof0V4JVGea",
        "colab": {
          "base_uri": "https://localhost:8080/"
        },
        "outputId": "35392906-c609-465f-e8ef-e1510c3c3013"
      },
      "execution_count": null,
      "outputs": [
        {
          "output_type": "stream",
          "name": "stdout",
          "text": [
            "  Product Region  Sales  Quantity\n",
            "0       A  North    100        10\n",
            "1       B  South    150        15\n",
            "2       A  North    120        12\n",
            "3       C   East    200        20\n",
            "4       B  South    180        18\n",
            "5       A   East     90         9\n",
            "6       C  North    160        16\n",
            "7       B  North    140        14\n",
            "\n",
            " Total sales by region:\n",
            "Region\n",
            "East     290\n",
            "North    520\n",
            "South    330\n",
            "Name: Sales, dtype: int64\n",
            "\n",
            " Best-selling produce: B\n",
            "Product\n",
            "A    10.333333\n",
            "B    15.666667\n",
            "C    18.000000\n",
            "Name: Quantity, dtype: float64\n"
          ]
        }
      ]
    },
    {
      "cell_type": "code",
      "source": [
        "# Solution 3: Data manipulation challenge\n",
        "df\n",
        "\n",
        "# Filter employees with salary between 50000 and 65000\n",
        "salary_filter = df[(df['Salary'] >= 50000) & (df['Salary'] <= 65000)]\n",
        "print(\"\\nEmployess with salary between 50000 and 65000\")\n",
        "print(salary_filter)\n",
        "\n",
        "# Add salary category column\n",
        "def categorize_salary(salary):\n",
        "    if salary > 60000:\n",
        "        return 'High'\n",
        "    elif salary >= 50000:\n",
        "        return 'Mediuim'\n",
        "    else:\n",
        "        return 'Low'\n",
        "df['Salary_Category'] = df['Salary'].apply(categorize_salary)\n",
        "print(df)\n",
        "\n",
        "# Sort by salary descending\n",
        "sorted_by_salary_desc = df.sort_values('Salary', ascending=False)\n",
        "print(sorted_by_salary)"
      ],
      "metadata": {
        "colab": {
          "base_uri": "https://localhost:8080/"
        },
        "id": "ia8-TB9GOEoZ",
        "outputId": "6b7824d8-05bb-4604-c059-1149d80823d3"
      },
      "execution_count": null,
      "outputs": [
        {
          "output_type": "stream",
          "name": "stdout",
          "text": [
            "\n",
            "Employess with salary between 50000 and 65000\n",
            "    Name  Age      City  Salary Salary_Category\n",
            "0  Alice   25  New York   50000         Mediuim\n",
            "1    Bob   30    London   60000         Mediuim\n",
            "3  Diana   28     Paris   55000         Mediuim\n",
            "      Name  Age      City  Salary Salary_Category\n",
            "0    Alice   25  New York   50000         Mediuim\n",
            "1      Bob   30    London   60000         Mediuim\n",
            "2  Charlie   35     Tokyo   70000            High\n",
            "3    Diana   28     Paris   55000         Mediuim\n",
            "      Name  Age      City  Salary\n",
            "2  Charlie   35     Tokyo   70000\n",
            "1      Bob   30    London   60000\n",
            "3    Diana   28     Paris   55000\n",
            "0    Alice   25  New York   50000\n"
          ]
        }
      ]
    },
    {
      "cell_type": "code",
      "source": [],
      "metadata": {
        "id": "2Wt8FVqzi0aO"
      },
      "execution_count": null,
      "outputs": []
    }
  ]
}