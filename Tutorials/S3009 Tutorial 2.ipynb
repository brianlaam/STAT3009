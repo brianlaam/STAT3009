{
  "cells": [
    {
      "cell_type": "markdown",
      "id": "62ee360b",
      "metadata": {
        "id": "62ee360b"
      },
      "source": [
        "# Tutorial 2: Introduction to NumPy\n",
        "\n",
        "In this tutorial, our goal is to become familiar with NumPy, a fundamental library for scientific computing in Python. We'll cover array creation, basic operations, indexing, reshaping, and mathematical functions."
      ]
    },
    {
      "cell_type": "markdown",
      "id": "31592fad",
      "metadata": {
        "id": "31592fad"
      },
      "source": [
        "## 1. Installing and Importing NumPy\n",
        "\n",
        "NumPy is the foundation of scientific computing in Python. First, we need to import it:\n",
        "\n",
        "- **Import NumPy**: `import numpy as np`\n",
        "- NumPy is typically abbreviated as `np` for convenience\n",
        "- If not installed, use: `pip install numpy`"
      ]
    },
    {
      "cell_type": "code",
      "execution_count": null,
      "id": "922a01e1",
      "metadata": {
        "id": "922a01e1",
        "outputId": "0794f88a-15a1-489e-8c8b-2bb758376612",
        "colab": {
          "base_uri": "https://localhost:8080/"
        }
      },
      "outputs": [
        {
          "output_type": "stream",
          "name": "stdout",
          "text": [
            "NumPy version: 2.0.2\n"
          ]
        }
      ],
      "source": [
        "# Import NumPy\n",
        "import numpy as np\n",
        "\n",
        "# Check NumPy version\n",
        "print(\"NumPy version:\", np.__version__)"
      ]
    },
    {
      "cell_type": "code",
      "source": [
        "# !pip install numpy"
      ],
      "metadata": {
        "id": "uW5V-QU1U3ZJ"
      },
      "id": "uW5V-QU1U3ZJ",
      "execution_count": null,
      "outputs": []
    },
    {
      "cell_type": "markdown",
      "id": "40697ac8",
      "metadata": {
        "id": "40697ac8"
      },
      "source": [
        "## 2. Creating NumPy Arrays\n",
        "\n",
        "NumPy arrays are the core data structure. You can create them in several ways:\n",
        "\n",
        "1. **From lists**: `np.array([1, 2, 3])`\n",
        "2. **Zeros**: `np.zeros(shape)`\n",
        "3. **Ones**: `np.ones(shape)`\n",
        "4. **Range**: `np.arange(start, stop, step)`\n",
        "5. **Linspace**: `np.linspace(start, stop, num)`\n",
        "6. **Random**: `np.random.random(shape)`"
      ]
    },
    {
      "cell_type": "code",
      "source": [
        "# Create array from list\n",
        "arr_from_list = np.array([1, 2, 3])\n",
        "print(\"Array from list:\", arr_from_list, type(arr_from_list))"
      ],
      "metadata": {
        "id": "qHzJ7-cZ7-7a",
        "colab": {
          "base_uri": "https://localhost:8080/"
        },
        "outputId": "545fb24b-3c41-4c61-8ec9-fbe9168d7cbb"
      },
      "id": "qHzJ7-cZ7-7a",
      "execution_count": null,
      "outputs": [
        {
          "output_type": "stream",
          "name": "stdout",
          "text": [
            "Array from list: [1 2 3] <class 'numpy.ndarray'>\n"
          ]
        }
      ]
    },
    {
      "cell_type": "code",
      "source": [
        "# Create 2D array from nested lists\n",
        "arr_2d = np.array([[1, 2, 3], [4, 5, 6]])\n",
        "print(\"\\n2D array:\")\n",
        "print(arr_2d)"
      ],
      "metadata": {
        "id": "BXkaLLgv8AXh",
        "colab": {
          "base_uri": "https://localhost:8080/"
        },
        "outputId": "38f69fef-af1f-42ea-8d78-097d5a29a5e0"
      },
      "id": "BXkaLLgv8AXh",
      "execution_count": null,
      "outputs": [
        {
          "output_type": "stream",
          "name": "stdout",
          "text": [
            "\n",
            "2D array:\n",
            "[[1 2 3]\n",
            " [4 5 6]]\n"
          ]
        }
      ]
    },
    {
      "cell_type": "code",
      "source": [
        "# Create array of zeros\n",
        "zeros_arr = np.zeros(5)\n",
        "print(\"\\nZeros array:\", zeros_arr)\n",
        "\n",
        "# Create array of ones\n",
        "ones_arr = np.ones((2, 3))\n",
        "print(\"\\nOnes array (2x3):\")\n",
        "print(ones_arr)"
      ],
      "metadata": {
        "id": "LnJB4P5m8D7T",
        "colab": {
          "base_uri": "https://localhost:8080/"
        },
        "outputId": "63ce294c-23a1-47a3-c9de-26bccdeb5765"
      },
      "id": "LnJB4P5m8D7T",
      "execution_count": null,
      "outputs": [
        {
          "output_type": "stream",
          "name": "stdout",
          "text": [
            "\n",
            "Zeros array: [0. 0. 0. 0. 0.]\n",
            "\n",
            "Ones array (2x3):\n",
            "[[1. 1. 1.]\n",
            " [1. 1. 1.]]\n"
          ]
        }
      ]
    },
    {
      "cell_type": "code",
      "source": [
        "# Create array using arange\n",
        "range_arr = np.arange(0, 10, 2)\n",
        "print(\"\\nRange array (0 to 10, step 2):\", range_arr)"
      ],
      "metadata": {
        "id": "dNUiy-F-8JiD",
        "colab": {
          "base_uri": "https://localhost:8080/"
        },
        "outputId": "57723438-4c21-49d0-8fc0-db5e0873f7ac"
      },
      "id": "dNUiy-F-8JiD",
      "execution_count": null,
      "outputs": [
        {
          "output_type": "stream",
          "name": "stdout",
          "text": [
            "\n",
            "Range array (0 to 10, step 2): [0 2 4 6 8]\n"
          ]
        }
      ]
    },
    {
      "cell_type": "code",
      "source": [
        "# Create array using linspace\n",
        "# linear\n",
        "linspace_arr = np.linspace(0, 1, 5)\n",
        "print(\"\\nLinspace array (0 to 1, 5 points):\", linspace_arr)"
      ],
      "metadata": {
        "id": "XZxfF46N8QdV",
        "colab": {
          "base_uri": "https://localhost:8080/"
        },
        "outputId": "66f7d7ef-1a38-4dc1-c1eb-eeb59255f518"
      },
      "id": "XZxfF46N8QdV",
      "execution_count": null,
      "outputs": [
        {
          "output_type": "stream",
          "name": "stdout",
          "text": [
            "\n",
            "Linspace array (0 to 1, 5 points): [0.   0.25 0.5  0.75 1.  ]\n"
          ]
        }
      ]
    },
    {
      "cell_type": "markdown",
      "id": "cf974fde",
      "metadata": {
        "id": "cf974fde"
      },
      "source": [
        "## 3. Array Properties and Basic Operations\n",
        "\n",
        "Arrays have important properties and support basic operations:\n",
        "\n",
        "- **Shape**: `.shape` (dimensions)\n",
        "- **Size**: `.size` (total number of elements)\n",
        "- **Data type**: `.dtype` (type of elements)\n",
        "- **Dimensions**: `.ndim` (number of dimensions)\n",
        "- **Element operations**: `+`, `-`, `*`, `/`, `**` (applied element-wise)"
      ]
    },
    {
      "cell_type": "code",
      "source": [
        "# Using the 2D array from previous example\n",
        "arr = arr_2d\n",
        "print(\"Array:\")\n",
        "print(arr)\n",
        "\n",
        "# Array properties\n",
        "print(\"\\n Array properties:\")\n",
        "print(\"Shape: \", arr.shape)\n",
        "print(\"Size: \", arr.size)\n",
        "print(\"Data type: \", arr.dtype)\n",
        "print(\"Dimensions:\", arr.ndim)"
      ],
      "metadata": {
        "id": "V9Qo1cVR8fRo",
        "colab": {
          "base_uri": "https://localhost:8080/"
        },
        "outputId": "1610e7cb-a2bf-43c2-b19a-c07f0fa5d6f5"
      },
      "id": "V9Qo1cVR8fRo",
      "execution_count": null,
      "outputs": [
        {
          "output_type": "stream",
          "name": "stdout",
          "text": [
            "Array:\n",
            "[[1 2 3]\n",
            " [4 5 6]]\n",
            "\n",
            " Array properties:\n",
            "Shape:  (2, 3)\n",
            "Size:  6\n",
            "Data type:  int64\n",
            "Dimensions: 2\n"
          ]
        }
      ]
    },
    {
      "cell_type": "code",
      "source": [
        "# Element-wise operations\n",
        "arr1 = np.array([1, 2, 3])\n",
        "arr2 = np.array([4, 5, 6])\n",
        "\n",
        "print(\"\\nElement-wise operations:\")\n",
        "print(\"arr1:\", arr1)\n",
        "print(\"arr2:\", arr2)\n",
        "\n",
        "print(\"Addition:\", arr1 + arr2)\n",
        "print(\"Subtraction:\", arr1 - arr2)\n",
        "print(\"Multiplication:\", arr1 * arr2)\n",
        "print(\"Division:\", arr1 / arr2)"
      ],
      "metadata": {
        "id": "kxT-bQ928n8K",
        "colab": {
          "base_uri": "https://localhost:8080/"
        },
        "outputId": "d02905d1-9339-41e1-a16b-b667bcc7e792"
      },
      "id": "kxT-bQ928n8K",
      "execution_count": null,
      "outputs": [
        {
          "output_type": "stream",
          "name": "stdout",
          "text": [
            "\n",
            "Element-wise operations:\n",
            "arr1: [1 2 3]\n",
            "arr2: [4 5 6]\n",
            "Addition: [5 7 9]\n",
            "Subtraction: [-3 -3 -3]\n",
            "Multiplication: [ 4 10 18]\n",
            "Division: [0.25 0.4  0.5 ]\n"
          ]
        }
      ]
    },
    {
      "cell_type": "code",
      "source": [
        "# Scalar operations\n",
        "print(\"\\nScalar operations:\")\n",
        "print(\"Power:\", arr1 ** 2)\n",
        "print(\"arr1 + 5:\", arr1 + 5)\n",
        "print(\"arr1 * 3:\", arr1 * 3)"
      ],
      "metadata": {
        "id": "wiO0XTFi82jl",
        "colab": {
          "base_uri": "https://localhost:8080/"
        },
        "outputId": "810a83de-48f3-436a-e44e-ffa636ec0ac9"
      },
      "id": "wiO0XTFi82jl",
      "execution_count": null,
      "outputs": [
        {
          "output_type": "stream",
          "name": "stdout",
          "text": [
            "\n",
            "Scalar operations:\n",
            "Power: [1 4 9]\n",
            "arr1 + 5: [6 7 8]\n",
            "arr1 * 3: [3 6 9]\n"
          ]
        }
      ]
    },
    {
      "cell_type": "markdown",
      "id": "110a9045",
      "metadata": {
        "id": "110a9045"
      },
      "source": [
        "## 4. Array Indexing and Slicing\n",
        "\n",
        "Access specific elements, rows, or columns from arrays:\n",
        "\n",
        "- **1D indexing**: `arr[index]`\n",
        "- **2D indexing**: `arr[row, col]` or `arr[row][col]`\n",
        "- **Slicing**: `arr[start:end:step]`\n",
        "- **2D slicing**: `arr[row_start:row_end, col_start:col_end]`\n",
        "- **Boolean indexing**: `arr[arr > value]`"
      ]
    },
    {
      "cell_type": "code",
      "source": [
        "# Create sample arrays\n",
        "arr_1d = np.array([10, 20, 30, 40, 50])\n",
        "arr_2d = np.array([[1, 2, 3, 4], [5, 6, 7, 8], [9, 10, 11, 12]])\n",
        "\n",
        "print(\"1D array:\", arr_1d)\n",
        "print(\"2D array:\")\n",
        "print(arr_2d)"
      ],
      "metadata": {
        "id": "P86vo8Zf9Ok2",
        "colab": {
          "base_uri": "https://localhost:8080/"
        },
        "outputId": "ee5f7b35-7fa6-4d8a-aa9d-09d11c3dda60"
      },
      "id": "P86vo8Zf9Ok2",
      "execution_count": null,
      "outputs": [
        {
          "output_type": "stream",
          "name": "stdout",
          "text": [
            "1D array: [10 20 30 40 50]\n",
            "2D array:\n",
            "[[ 1  2  3  4]\n",
            " [ 5  6  7  8]\n",
            " [ 9 10 11 12]]\n"
          ]
        }
      ]
    },
    {
      "cell_type": "code",
      "source": [
        "# 1D indexing\n",
        "print(\"\\n1D indexing:\")\n",
        "print(\"First element:\", arr_1d[0])\n",
        "print(\"Last element:\", arr_1d[-1])\n",
        "print(\"Elements 1-3:\", arr_1d[1:4])"
      ],
      "metadata": {
        "id": "_OGlBXzq9Q49",
        "colab": {
          "base_uri": "https://localhost:8080/"
        },
        "outputId": "cb708bf1-8a9e-4716-8d38-4026516c2b21"
      },
      "id": "_OGlBXzq9Q49",
      "execution_count": null,
      "outputs": [
        {
          "output_type": "stream",
          "name": "stdout",
          "text": [
            "\n",
            "1D indexing:\n",
            "First element: 10\n",
            "Last element: 50\n",
            "Elements 1-3: [20 30 40]\n"
          ]
        }
      ]
    },
    {
      "cell_type": "code",
      "source": [
        "# 2D indexing\n",
        "print(\"\\n2D indexing:\")\n",
        "print(\"Element at (0, 2):\", arr_2d[0, 2])  # compared to list indexing: ls[0][2]\n",
        "print(\"Element at (1, 1):\", arr_2d[1, 1])"
      ],
      "metadata": {
        "id": "R-y-tm7W9VR2"
      },
      "id": "R-y-tm7W9VR2",
      "execution_count": null,
      "outputs": []
    },
    {
      "cell_type": "code",
      "source": [
        "# Slicing rows and columns\n",
        "print(\"\\nSlicing:\")\n",
        "print(\"First row:\", arr_2d[0, :])\n",
        "print(\"Second column:\", arr_2d[:, 1])\n",
        "\n",
        "print(\"First 2 rows, first 3 columns:\")"
      ],
      "metadata": {
        "id": "YVFVTiFx9gOx",
        "colab": {
          "base_uri": "https://localhost:8080/"
        },
        "outputId": "b4d66058-c3e7-4e68-b328-b0f39513a561"
      },
      "id": "YVFVTiFx9gOx",
      "execution_count": null,
      "outputs": [
        {
          "output_type": "stream",
          "name": "stdout",
          "text": [
            "\n",
            "Slicing:\n",
            "First row: [1 2 3 4]\n",
            "Second column: [ 2  6 10]\n",
            "First 2 rows, first 3 columns:\n"
          ]
        }
      ]
    },
    {
      "cell_type": "code",
      "source": [
        "# Boolean indexing\n",
        "print(\"\\nBoolean indexing:\")\n",
        "print(\"Elements > 30 in 1D array:\", arr_1d[arr_1d > 30])\n",
        "print(\"Elements > 6 in 2D array:\", arr_2d[arr_2d > 6])"
      ],
      "metadata": {
        "id": "yi27kVbo9ouY",
        "colab": {
          "base_uri": "https://localhost:8080/"
        },
        "outputId": "1c2f8dac-10e8-427a-d5a0-eeeca91ad957"
      },
      "id": "yi27kVbo9ouY",
      "execution_count": null,
      "outputs": [
        {
          "output_type": "stream",
          "name": "stdout",
          "text": [
            "\n",
            "Boolean indexing:\n",
            "Elements > 30 in 1D array: [40 50]\n",
            "Elements > 6 in 2D array: [ 7  8  9 10 11 12]\n"
          ]
        }
      ]
    },
    {
      "cell_type": "code",
      "source": [
        "arr_1d > 30"
      ],
      "metadata": {
        "colab": {
          "base_uri": "https://localhost:8080/"
        },
        "id": "IH7OXUevXkJq",
        "outputId": "39b4fd51-6a0c-49e5-b870-d2d68201134f"
      },
      "id": "IH7OXUevXkJq",
      "execution_count": null,
      "outputs": [
        {
          "output_type": "execute_result",
          "data": {
            "text/plain": [
              "array([False, False, False,  True,  True])"
            ]
          },
          "metadata": {},
          "execution_count": 17
        }
      ]
    },
    {
      "cell_type": "markdown",
      "id": "ed1bf61d",
      "metadata": {
        "id": "ed1bf61d"
      },
      "source": [
        "## 5. Reshaping and Manipulating Arrays\n",
        "\n",
        "Change the shape and structure of arrays:\n",
        "\n",
        "- **Reshape**: `arr.reshape(new_shape)`\n",
        "- **Flatten**: `arr.flatten()` or `arr.ravel()`\n",
        "- **Transpose**: `arr.T` or `arr.transpose()`\n",
        "- **Concatenate**: `np.concatenate([arr1, arr2])`\n",
        "- **Stack**: `np.vstack([arr1, arr2])`, `np.hstack([arr1, arr2])`\n",
        "- **Split**: `np.split(arr, sections)`"
      ]
    },
    {
      "cell_type": "code",
      "source": [
        "# Create sample array\n",
        "arr = np.arange(12)\n",
        "print(\"Original array:\", arr)\n",
        "print(\"Shape:\", arr.shape)\n",
        "\n",
        "# Reshape\n",
        "reshaped = arr.reshape(3, 4)\n",
        "print(\"\\nReshaped (3x4):\")\n",
        "print(reshaped)"
      ],
      "metadata": {
        "id": "tgL-IOOf9uJB",
        "colab": {
          "base_uri": "https://localhost:8080/"
        },
        "outputId": "f3b745a3-4bd5-4b9f-acc2-42fc38bb3c00"
      },
      "id": "tgL-IOOf9uJB",
      "execution_count": null,
      "outputs": [
        {
          "output_type": "stream",
          "name": "stdout",
          "text": [
            "Original array: [ 0  1  2  3  4  5  6  7  8  9 10 11]\n",
            "Shape: (12,)\n",
            "\n",
            "Reshaped (3x4):\n",
            "[[ 0  1  2  3]\n",
            " [ 4  5  6  7]\n",
            " [ 8  9 10 11]]\n"
          ]
        }
      ]
    },
    {
      "cell_type": "code",
      "source": [
        "# Reshape to different dimensions\n",
        "reshaped_2 = arr.reshape(2, 6)\n",
        "print(\"\\nReshaped (2x6):\")\n",
        "print(reshaped_2)\n"
      ],
      "metadata": {
        "id": "qDxKwb7a9z_W",
        "colab": {
          "base_uri": "https://localhost:8080/"
        },
        "outputId": "67ed1605-44b8-421e-fea1-824b6a59adb5"
      },
      "id": "qDxKwb7a9z_W",
      "execution_count": null,
      "outputs": [
        {
          "output_type": "stream",
          "name": "stdout",
          "text": [
            "\n",
            "Reshaped (2x6):\n",
            "[[ 0  1  2  3  4  5]\n",
            " [ 6  7  8  9 10 11]]\n"
          ]
        }
      ]
    },
    {
      "cell_type": "code",
      "source": [
        "# Flatten\n",
        "flattened = reshaped_2.flatten()\n",
        "print(\"\\nFlattened:\", flattened)\n",
        "\n",
        "# Transpose\n",
        "transposed = reshaped_2.T\n",
        "transposed = reshaped_2.transpose()\n",
        "print(\"\\nTranspose of reshaped:\")\n",
        "print(transposed)"
      ],
      "metadata": {
        "id": "YUN5v8p8919F",
        "colab": {
          "base_uri": "https://localhost:8080/"
        },
        "outputId": "d1aad31a-3bbb-4c38-acb6-ab3ce6bd4bcf"
      },
      "id": "YUN5v8p8919F",
      "execution_count": null,
      "outputs": [
        {
          "output_type": "stream",
          "name": "stdout",
          "text": [
            "\n",
            "Flattened: [ 0  1  2  3  4  5  6  7  8  9 10 11]\n",
            "\n",
            "Transpose of reshaped:\n",
            "[[ 0  6]\n",
            " [ 1  7]\n",
            " [ 2  8]\n",
            " [ 3  9]\n",
            " [ 4 10]\n",
            " [ 5 11]]\n"
          ]
        }
      ]
    },
    {
      "cell_type": "code",
      "source": [
        "# Concatenate arrays\n",
        "arr1 = np.array([1, 2, 3])\n",
        "arr2 = np.array([4, 5, 6])\n",
        "concatenated = np.concatenate([arr1, arr2])\n",
        "print(\"\\nConcatenated:\", concatenated)"
      ],
      "metadata": {
        "id": "wQHale3Y-Cgh",
        "colab": {
          "base_uri": "https://localhost:8080/"
        },
        "outputId": "fca636dc-cc63-4bd4-d007-c05d5c5b5a1c"
      },
      "id": "wQHale3Y-Cgh",
      "execution_count": null,
      "outputs": [
        {
          "output_type": "stream",
          "name": "stdout",
          "text": [
            "\n",
            "Concatenated: [1 2 3 4 5 6]\n"
          ]
        }
      ]
    },
    {
      "cell_type": "code",
      "source": [
        "# Vertical and horizontal stacking\n",
        "matrix1 = np.array([[1, 2], [3, 4]])\n",
        "matrix2 = np.array([[5, 6], [7, 8]])\n",
        "\n",
        "vstack_result = np.vstack([matrix1, matrix2])  # np.concatenate(a, b, axis=0)\n",
        "hstack_result = np.hstack([matrix1, matrix2])  # np.concatenate(a, b, axis=1)\n",
        "\n",
        "print(\"\\nVertical stack:\")\n",
        "print(vstack_result)\n",
        "print(\"\\nHorizontal stack:\")\n",
        "print(hstack_result)"
      ],
      "metadata": {
        "id": "6su_DJIJ-Hx5",
        "colab": {
          "base_uri": "https://localhost:8080/"
        },
        "outputId": "5f793c6e-38e3-4a24-b536-1370416a9f14"
      },
      "id": "6su_DJIJ-Hx5",
      "execution_count": null,
      "outputs": [
        {
          "output_type": "stream",
          "name": "stdout",
          "text": [
            "\n",
            "Vertical stack:\n",
            "[[1 2]\n",
            " [3 4]\n",
            " [5 6]\n",
            " [7 8]]\n",
            "\n",
            "Horizontal stack:\n",
            "[[1 2 5 6]\n",
            " [3 4 7 8]]\n"
          ]
        }
      ]
    },
    {
      "cell_type": "markdown",
      "id": "82e6c2f3",
      "metadata": {
        "id": "82e6c2f3"
      },
      "source": [
        "## 6. Mathematical Functions and Operations\n",
        "\n",
        "NumPy provides many mathematical functions:\n",
        "\n",
        "- **Basic math**: `np.sqrt()`, `np.exp()`, `np.log()`, `np.sin()`, `np.cos()`\n",
        "- **Statistics**: `np.mean()`, `np.median()`, `np.std()`, `np.var()`\n",
        "- **Aggregation**: `np.sum()`, `np.min()`, `np.max()`, `np.argmin()`, `np.argmax()`\n",
        "- **Linear algebra**: `np.dot()`, `np.linalg.norm()`, `np.linalg.eig()`"
      ]
    },
    {
      "cell_type": "code",
      "source": [
        "# Create sample data\n",
        "data = np.array([1, 4, 9, 16, 25])\n",
        "angles = np.array([0, np.pi/6, np.pi/4, np.pi/3, np.pi/2])\n",
        "\n",
        "print(\"Data:\", data)\n",
        "print(\"Angles:\", angles)"
      ],
      "metadata": {
        "id": "N98d2qhb-U6I",
        "colab": {
          "base_uri": "https://localhost:8080/"
        },
        "outputId": "30cb816b-7198-453c-cbf4-b5f528c14ce1"
      },
      "id": "N98d2qhb-U6I",
      "execution_count": null,
      "outputs": [
        {
          "output_type": "stream",
          "name": "stdout",
          "text": [
            "Data: [ 1  4  9 16 25]\n",
            "Angles: [0.         0.52359878 0.78539816 1.04719755 1.57079633]\n"
          ]
        }
      ]
    },
    {
      "cell_type": "code",
      "source": [
        "# Basic mathematical functions\n",
        "print(\"\\nBasic math functions:\")\n",
        "print(\"Square root:\", np.sqrt(data))\n",
        "print(\"Exponential:\", np.exp([1, 2, 3]))\n",
        "print(\"Natural log:\", np.log([1, 2.718, 7.389]))\n",
        "print(\"Sine:\", np.sin(angles))\n",
        "print(\"Cosine:\", np.cos(angles))"
      ],
      "metadata": {
        "id": "k66YNdtX-W8k",
        "colab": {
          "base_uri": "https://localhost:8080/"
        },
        "outputId": "88f2f81d-beb5-41f6-e86c-b64b04f023a9"
      },
      "id": "k66YNdtX-W8k",
      "execution_count": null,
      "outputs": [
        {
          "output_type": "stream",
          "name": "stdout",
          "text": [
            "\n",
            "Basic math functions:\n",
            "Square root: [1. 2. 3. 4. 5.]\n",
            "Exponential: [ 2.71828183  7.3890561  20.08553692]\n",
            "Natural log: [0.         0.99989632 1.99999241]\n",
            "Sine: [0.         0.5        0.70710678 0.8660254  1.        ]\n",
            "Cosine: [1.00000000e+00 8.66025404e-01 7.07106781e-01 5.00000000e-01\n",
            " 6.12323400e-17]\n"
          ]
        }
      ]
    },
    {
      "cell_type": "code",
      "source": [
        "# Statistical functions\n",
        "random_data = np.random.normal(10, 2, 20)  # mean=10, std=2, 20 samples\n",
        "print(\"\\nRandom data (first 10):\", random_data[:10])\n",
        "print(\"\\nStatistical functions:\")\n",
        "print(\"Mean: \", np.mean(random_data))\n",
        "print(\"STD: \", np.std(random_data))\n",
        "print(\"Median:\", np.median(random_data))\n",
        "print(\"VAR:\", np.var(random_data))"
      ],
      "metadata": {
        "id": "vnMSfj7P-b3G",
        "colab": {
          "base_uri": "https://localhost:8080/"
        },
        "outputId": "3ee082db-c839-4d3c-b6be-b7316c819ee9"
      },
      "id": "vnMSfj7P-b3G",
      "execution_count": null,
      "outputs": [
        {
          "output_type": "stream",
          "name": "stdout",
          "text": [
            "\n",
            "Random data (first 10): [ 8.36359577  9.71583977  4.71551953  7.89967783  9.80112962 13.53460424\n",
            " 11.08607545  8.92166162 11.39296753  9.51248042]\n",
            "\n",
            "Statistical functions:\n",
            "Mean:  9.863788260992006\n",
            "STD:  1.9610426943803467\n",
            "Median: 9.805908132019873\n",
            "VAR: 3.84568844918253\n"
          ]
        }
      ]
    },
    {
      "cell_type": "code",
      "source": [
        "# Aggregation functions\n",
        "matrix = np.array([[1, 2, 3], [4, 5, 6], [7, 8, 9]])\n",
        "print(\"\\nMatrix:\")\n",
        "print(matrix)\n",
        "print(\"\\nAggregation functions:\")\n",
        "print(\"Sum:\", np.sum(matrix))\n",
        "print(\"Sum along axis 0 (columns):\", np.sum(matrix, axis=0))\n",
        "print(\"Sum along axis 1 (rows):\", np.sum(matrix, axis=1))\n",
        "print(\"Max:\", np.max(matrix))\n",
        "print(\"Min:\", np.min(matrix))\n",
        "print(\"Min:\", np.min(matrix, axis=0))"
      ],
      "metadata": {
        "id": "WaTOtfCz-i1I",
        "colab": {
          "base_uri": "https://localhost:8080/"
        },
        "outputId": "cea9fba4-2efc-4552-ccba-9853f2f5a914"
      },
      "id": "WaTOtfCz-i1I",
      "execution_count": null,
      "outputs": [
        {
          "output_type": "stream",
          "name": "stdout",
          "text": [
            "\n",
            "Matrix:\n",
            "[[1 2 3]\n",
            " [4 5 6]\n",
            " [7 8 9]]\n",
            "\n",
            "Aggregation functions:\n",
            "Sum: 45\n",
            "Sum along axis 0 (columns): [12 15 18]\n",
            "Sum along axis 1 (rows): [ 6 15 24]\n",
            "Max: 9\n",
            "Min: 1\n",
            "Min: [1 2 3]\n"
          ]
        }
      ]
    },
    {
      "cell_type": "code",
      "source": [
        "# Linear algebra\n",
        "a = np.array([[1, 2], [3, 4]])\n",
        "b = np.array([[5, 6], [7, 8]])\n",
        "print(\"\\nMatrix multiplication:\")\n",
        "print(\"A:\"), print(a)\n",
        "print(\"B:\"), print(b)\n",
        "print(\"A @ B:\"), print(a @ b)  # or np.dot(a, b)"
      ],
      "metadata": {
        "id": "Wi4EP1Xb-sSu",
        "colab": {
          "base_uri": "https://localhost:8080/"
        },
        "outputId": "e994e766-c0d0-4b49-c4b1-2a7fc51127ba"
      },
      "id": "Wi4EP1Xb-sSu",
      "execution_count": null,
      "outputs": [
        {
          "output_type": "stream",
          "name": "stdout",
          "text": [
            "\n",
            "Matrix multiplication:\n",
            "A:\n",
            "[[1 2]\n",
            " [3 4]]\n",
            "B:\n",
            "[[5 6]\n",
            " [7 8]]\n",
            "A @ B:\n",
            "[[19 22]\n",
            " [43 50]]\n"
          ]
        },
        {
          "output_type": "execute_result",
          "data": {
            "text/plain": [
              "(None, None)"
            ]
          },
          "metadata": {},
          "execution_count": 31
        }
      ]
    },
    {
      "cell_type": "markdown",
      "id": "ed36fc18",
      "metadata": {
        "id": "ed36fc18"
      },
      "source": [
        "## 7. Broadcasting and Vectorization\n",
        "\n",
        "NumPy can operate on arrays of different shapes through broadcasting:\n",
        "\n",
        "- **Broadcasting**: Automatic expansion of smaller arrays to match larger ones\n",
        "- **Vectorization**: Applying operations to entire arrays without explicit loops\n",
        "- **Performance**: Much faster than Python loops\n",
        "\n",
        "Broadcasting rules:\n",
        "1. Arrays are aligned from the rightmost dimension\n",
        "2. Dimensions of size 1 can be stretched\n",
        "3. Missing dimensions are assumed to be size 1"
      ]
    },
    {
      "cell_type": "code",
      "source": [
        "arr = np.array([[1, 2, 3], [4, 5, 6]])\n",
        "\n",
        "print(\"Original array:\")\n",
        "print(arr)"
      ],
      "metadata": {
        "id": "uBh100WV-3rh",
        "colab": {
          "base_uri": "https://localhost:8080/"
        },
        "outputId": "0256f8cc-d173-465e-d488-6a07cc19743a"
      },
      "id": "uBh100WV-3rh",
      "execution_count": null,
      "outputs": [
        {
          "output_type": "stream",
          "name": "stdout",
          "text": [
            "Original array:\n",
            "[[1 2 3]\n",
            " [4 5 6]]\n"
          ]
        }
      ]
    },
    {
      "cell_type": "code",
      "source": [
        "# Broadcasting with 1D array\n",
        "row_vector = np.array([10, 20, 30])\n",
        "print(\"\\nAdding row vector [10, 20, 30]:\")\n",
        "print(arr + row_vector)"
      ],
      "metadata": {
        "id": "BN2fVmMu_GgD",
        "colab": {
          "base_uri": "https://localhost:8080/"
        },
        "outputId": "f18fe0a2-e8ed-48e8-d941-c601c8b2f44d"
      },
      "id": "BN2fVmMu_GgD",
      "execution_count": null,
      "outputs": [
        {
          "output_type": "stream",
          "name": "stdout",
          "text": [
            "\n",
            "Adding row vector [10, 20, 30]:\n",
            "[[11 22 33]\n",
            " [14 25 36]]\n"
          ]
        }
      ]
    },
    {
      "cell_type": "code",
      "source": [
        "# Broadcasting with column vector\n",
        "col_vector = np.array([[100], [200]])\n",
        "print(\"\\nAdding column vector [[100], [200]]:\")\n",
        "print(arr + col_vector)"
      ],
      "metadata": {
        "id": "dn0Ar13F_JeX",
        "colab": {
          "base_uri": "https://localhost:8080/"
        },
        "outputId": "8e617432-8f00-4fbb-cb22-9b8f4cac603d"
      },
      "id": "dn0Ar13F_JeX",
      "execution_count": null,
      "outputs": [
        {
          "output_type": "stream",
          "name": "stdout",
          "text": [
            "\n",
            "Adding column vector [[100], [200]]:\n",
            "[[101 102 103]\n",
            " [204 205 206]]\n"
          ]
        }
      ]
    },
    {
      "cell_type": "markdown",
      "source": [
        "### **Broadcasting Examples**\n",
        "\n",
        "| Shape 1   | Shape 2   | Resulting Shape | Broadcasting? | Example                 |\n",
        "|-----------|-----------|-----------------|---------------|-------------------------|\n",
        "| (3, 1)    | (1, 4)    | (3, 4)          | Yes           | Matrix + Row Vector     |\n",
        "| (5, 4, 3) | (1, 3)    | (5, 4, 3)       | Yes           | 3D + 2D (last axes)     |\n",
        "| (2, 3)    | (3,)      | (2, 3)          | Yes           | 2D + 1D (row vector)    |\n",
        "| (2, 3)    | (2, 1)    | (2, 3)          | Yes           | 2D + 2D (col vector)    |\n",
        "| (2, 3)    | (2, 2)    | Error           | No            | Incompatible shapes     |"
      ],
      "metadata": {
        "id": "l3jxsNm0B6l1"
      },
      "id": "l3jxsNm0B6l1"
    },
    {
      "cell_type": "code",
      "source": [
        "# (3, 1) and (1, 4) → (3, 4)\n",
        "\n",
        "# Step 1. Align shapes to the right\n",
        "## A: (3, 1)\n",
        "## B: (1, 4)\n",
        "\n",
        "# Step 2. Compare dimensions\n",
        "## Last dimension: 1 (A) vs 4 (B) → 1 can be broadcast to 4.\n",
        "## Second-to-last: 3 (A) vs 1 (B) → 1 can be broadcast to 3.\n",
        "## Resulting shape: (3, 4)\n",
        "\n",
        "# Step 3. Broadcasting\n",
        "\n",
        "A = np.array([[1], [2], [3]])       # Shape (3,1)\n",
        "B = np.array([[10, 20, 30, 40]])    # Shape (1,4)\n",
        "C = A + B                           # Shape (3,4)\n",
        "print(C)"
      ],
      "metadata": {
        "id": "ht1eYA68CFuU",
        "colab": {
          "base_uri": "https://localhost:8080/"
        },
        "outputId": "54f99993-fecb-45a5-d20c-4ed6fb7e3ca4"
      },
      "id": "ht1eYA68CFuU",
      "execution_count": null,
      "outputs": [
        {
          "output_type": "stream",
          "name": "stdout",
          "text": [
            "[[11 21 31 41]\n",
            " [12 22 32 42]\n",
            " [13 23 33 43]]\n"
          ]
        }
      ]
    },
    {
      "cell_type": "code",
      "source": [
        "# (5, 4, 3) and (1, 3) → (5, 4, 3)\n",
        "\n",
        "# Step 1. Align shapes to the right\n",
        "## A: (5, 4, 3)\n",
        "## B:    (1, 3) → (1, 1, 3)\n",
        "\n",
        "# Step 2. Compare dimensions\n",
        "## Last: 3 vs 3 → match.\n",
        "## Middle: 4 vs 1 → 1 can be broadcast to 4.\n",
        "## First: 5 vs 1 → 1 can be broadcast to 5.\n",
        "## Resulting shape: (5, 4, 3)\n",
        "\n",
        "# Step 3. Broadcasting\n",
        "\n",
        "A = np.zeros((5,4,3))\n",
        "B = np.arange(3).reshape(1,3)\n",
        "C = A + B  # Shape (5,4,3)"
      ],
      "metadata": {
        "id": "FqOsj7u-Cgo_"
      },
      "id": "FqOsj7u-Cgo_",
      "execution_count": null,
      "outputs": []
    },
    {
      "cell_type": "code",
      "source": [
        "# Vectorization example - compare with loops\n",
        "import time\n",
        "\n",
        "# Large array for performance comparison\n",
        "large_arr = np.random.random(1000000)\n",
        "\n",
        "# Using vectorization\n",
        "start_time = time.time()\n",
        "result_vectorized = large_arr ** 2 + 2 * large_arr + 1\n",
        "vectorized_time = time.time() - start_time\n",
        "\n",
        "# Using Python loop (much slower)\n",
        "start_time = time.time()\n",
        "result_loop = []\n",
        "for x in large_arr:\n",
        "    result_loop.append(x**2 + 2*x + 1)\n",
        "loop_time = time.time() - start_time\n",
        "\n",
        "print(f\"\\nPerformance comparison:\")\n",
        "print(f\"Vectorized time: {vectorized_time:.6f} seconds\")\n",
        "print(f\"Loop time: {loop_time:.6f} seconds\")\n",
        "print(f\"Speedup: {loop_time/vectorized_time:.1f}x faster\")"
      ],
      "metadata": {
        "id": "-D4CsgnG_MvE",
        "colab": {
          "base_uri": "https://localhost:8080/"
        },
        "outputId": "7307487c-4836-4bf5-fe9d-e4021ea5f6e2"
      },
      "id": "-D4CsgnG_MvE",
      "execution_count": null,
      "outputs": [
        {
          "output_type": "stream",
          "name": "stdout",
          "text": [
            "\n",
            "Performance comparison:\n",
            "Vectorized time: 0.016078 seconds\n",
            "Loop time: 0.983266 seconds\n",
            "Speedup: 61.2x faster\n"
          ]
        }
      ]
    },
    {
      "cell_type": "markdown",
      "id": "5b597f7d",
      "metadata": {
        "id": "5b597f7d"
      },
      "source": [
        "## 8. Short Practices\n",
        "Try these exercises to reinforce your understanding of NumPy:\n",
        "\n",
        "1. **Matrix operations**\n",
        "   - Create a 4x4 matrix with values from 1 to 16\n",
        "   - Calculate the sum of each row and each column\n",
        "   - Find elements greater than 10\n",
        "   - Replace all even numbers with 0\n",
        "\n",
        "2. **Statistical analysis**\n",
        "   - Generate 1000 random numbers from a normal distribution (mean=50, std=15)\n",
        "   - Calculate mean, median, standard deviation\n",
        "   - Count how many values are above the mean\n",
        "   - Create a boolean mask for values between 40 and 60\n",
        "\n",
        "3. **Array manipulation challenge**\n",
        "   - Create two 3x3 matrices with random values\n",
        "   - Perform matrix multiplication\n",
        "   - Reshape the result to a 1D array\n",
        "   - Sort the array in descending order"
      ]
    },
    {
      "cell_type": "code",
      "source": [
        "# Exercise 1: Matrix operations\n",
        "#   Create a 4x4 matrix with values from 1 to 16\n",
        "#   Calculate the sum of each row and each column\n",
        "#   Find elements greater than 10\n",
        "#   Replace all even numbers with 0\n",
        "\n",
        "#   Create a 4x4 matrix with values from 1 to 16\n",
        "matrix = np.arange(1, 17).reshape(4, 4)\n",
        "\n",
        "#   Calculate the sum of each row and each column\n",
        "row_sums = np.sum(matrix, axis = 1)\n",
        "col_sums = np.sum(matrix, axis = 0)\n",
        "print(row_sums)\n",
        "print(col_sums)\n",
        "\n",
        "#   Find elements greater than 10\n",
        "greater_than_10 = matrix[matrix > 10]\n",
        "\n",
        "#   Replace all even numbers with 0\n",
        "matrix_copy = matrix.copy()\n",
        "matrix_copy[matrix_copy % 2 == 0] = 0"
      ],
      "metadata": {
        "id": "_OYUXvLZ_Us-"
      },
      "id": "_OYUXvLZ_Us-",
      "execution_count": null,
      "outputs": []
    },
    {
      "cell_type": "code",
      "source": [
        "# Exercise 2: Statistical analysis\n",
        "#   Generate 1000 random numbers from a normal distribution (mean=50, std=15)\n",
        "#   Calculate mean, median, standard deviation\n",
        "#   Count how many values are above the mean\n",
        "#   Create a boolean mask for values between 40 and 60\n",
        "\n",
        "#   Generate 1000 random numbers from a normal distribution (mean=50, std=15)\n",
        "random_data = np.random.normal(50, 15, 1000)\n",
        "\n",
        "#   Calculate mean, median, standard deviation\n",
        "print(random_data.mean(), random_data.median(), random_data.std())\n",
        "\n",
        "#   Count how many values are above the mean\n",
        "above_mean = random_data > random_data.mean()\n",
        "num_above_mean = above_mean.sum()\n",
        "\n",
        "#   Create a boolean mask for values between 40 and 60\n",
        "mask = (random_data > 40) & (random_data < 60)  # & -> AND"
      ],
      "metadata": {
        "id": "g82fYNqi_VCw"
      },
      "id": "g82fYNqi_VCw",
      "execution_count": null,
      "outputs": []
    },
    {
      "cell_type": "code",
      "source": [
        "# Exercise 3: Array manipulation challenge\n",
        "#   Create two 3x3 matrices with random values\n",
        "#   Perform matrix multiplication\n",
        "#   Reshape the result to a 1D array\n",
        "#   Sort the array in descending order\n",
        "\n",
        "#   Create two 3x3 matrices with random values\n",
        "A = np.random.random(3, 3)\n",
        "B = np.random.random(3, 3)\n",
        "\n",
        "#   Perform matrix multiplication\n",
        "result = A.dot(B)  # A @ B\n",
        "\n",
        "#   Reshape the result to a 1D array\n",
        "result_reshaped = result.reshape(-1)  # flatten\n",
        "\n",
        "\n",
        "#   Sort the array in descending order\n",
        "sorted_desc = np.sort(result_reshaped)[::-1]"
      ],
      "metadata": {
        "id": "dWPhp6BU_Vpc"
      },
      "id": "dWPhp6BU_Vpc",
      "execution_count": null,
      "outputs": []
    },
    {
      "cell_type": "code",
      "execution_count": null,
      "id": "802a47ec",
      "metadata": {
        "id": "802a47ec"
      },
      "outputs": [],
      "source": [
        "A = np.random.random(16)\n",
        "\n",
        "A_reshape = A.reshape(2, -1)"
      ]
    }
  ],
  "metadata": {
    "language_info": {
      "name": "python"
    },
    "colab": {
      "provenance": []
    },
    "kernelspec": {
      "name": "python3",
      "display_name": "Python 3"
    }
  },
  "nbformat": 4,
  "nbformat_minor": 5
}