{
  "nbformat": 4,
  "nbformat_minor": 0,
  "metadata": {
    "colab": {
      "provenance": []
    },
    "kernelspec": {
      "name": "python3",
      "display_name": "Python 3"
    },
    "language_info": {
      "name": "python"
    }
  },
  "cells": [
    {
      "cell_type": "markdown",
      "source": [
        "# Tutorial 1: Introduction to Python Fundamentals\n",
        "\n",
        "In the first tutorial, our goal is to become familiar with basic data types, functions, and control structures in Python. We'll cover fundamental concepts including variables, data structures, conditional statements, loops, and practice exercises to reinforce your understanding."
      ],
      "metadata": {
        "id": "y7Q2qT1iHzN3"
      }
    },
    {
      "cell_type": "markdown",
      "source": [
        "## 1. Basic data types\n",
        "\n",
        "Python has several built-in data types that are essential for programming:\n",
        "\n",
        "1. **int** (Integer): Whole numbers\n",
        "   - Example: `x = 1`\n",
        "2. **float** (Floating-point): Decimal numbers\n",
        "   - Example: `x = 1.5`\n",
        "3. **bool** (Boolean): True or False values\n",
        "   - Example: `x = True`, `x = False`\n",
        "4. **str** (String): Text data\n",
        "   - Example: `x = \"hello world\"`\n",
        "5. **list**: Ordered, mutable collection\n",
        "   - Example: `x = [1, 1.5, True, \"hello world\"]`\n",
        "6. **dict** (Dictionary): Key-value pairs\n",
        "   - Example: `x = {\"name\": \"Tom\", \"age\": 20, \"height\": 170}`"
      ],
      "metadata": {
        "id": "61rV5-4_H0Qv"
      }
    },
    {
      "cell_type": "code",
      "source": [
        "# =============================================================================\n",
        "# BASIC DATA TYPES DEMONSTRATION\n",
        "# =============================================================================\n",
        "\n",
        "# 1. INTEGER (int) - Represents whole numbers\n",
        "x_int = 1\n",
        "print(f\"Integer: {x_int}, Type: {type(x_int)}\")\n",
        "\n",
        "# 2. FLOAT (float) - Represents decimal numbers\n",
        "x_float = 1.5\n",
        "print(f\"Float: {x_float}, Type: {type(x_float)}\")\n",
        "\n",
        "# 3. BOOLEAN (bool) - Represents True/False values\n",
        "# Booleans are crucial for conditional logic\n",
        "x_bool_true = True\n",
        "x_bool_false = False\n",
        "print(f\"Boolean True: {x_bool_true}, Type: {type(x_bool_true)}\")\n",
        "print(f\"Boolean False: {x_bool_false}, Type: {type(x_bool_false)}\")"
      ],
      "metadata": {
        "colab": {
          "base_uri": "https://localhost:8080/"
        },
        "id": "EvgFW56iILsN",
        "outputId": "1578a893-3c04-4848-dda8-18db376ea2d6"
      },
      "execution_count": null,
      "outputs": [
        {
          "output_type": "stream",
          "name": "stdout",
          "text": [
            "Integer: 1, Type: <class 'int'>\n",
            "Float: 1.5, Type: <class 'float'>\n",
            "Boolean True: True, Type: <class 'bool'>\n",
            "Boolean False: False, Type: <class 'bool'>\n"
          ]
        }
      ]
    },
    {
      "cell_type": "code",
      "source": [
        "# 4. STRING (str) - Represents text data\n",
        "# Strings can be created with single or double quotes\n",
        "x_str = \"hello world\"\n",
        "print(f\"String: '{x_str}', Type: {type(x_str)}\")\n",
        "print(f\"String length: {len(x_str)} characters\")\n",
        "\n",
        "# 5. LIST - Ordered, mutable collection that can hold different data types\n",
        "x_list = [1, 1.5, True, \"hello world\"]\n",
        "print(f\"List: {x_list}\")\n",
        "print(f\"List type: {type(x_list)}, Length: {len(x_list)}\")\n",
        "print(f\"First element: {x_list[0]}, Last element: {x_list[-1]}\")\n",
        "\n",
        "# 6. DICTIONARY (dict) - Stores key-value pairs\n",
        "# Keys must be immutable (strings, numbers, tuples)\n",
        "x_dict = {\"name\": \"Tom\", \"age\": 20, \"height\": 170}\n",
        "print(f\"Dictionary: {x_dict}\")\n",
        "print(f\"Dictionary type: {type(x_dict)}\")\n",
        "print(f\"Name: {x_dict['name']}, Age: {x_dict['age']}\")"
      ],
      "metadata": {
        "colab": {
          "base_uri": "https://localhost:8080/"
        },
        "id": "B1ySOh52JXDy",
        "outputId": "50d8819e-ac88-4b78-a940-8520b5641b36"
      },
      "execution_count": null,
      "outputs": [
        {
          "output_type": "stream",
          "name": "stdout",
          "text": [
            "String: 'hello world', Type: <class 'str'>\n",
            "String length: 11 characters\n",
            "List: [1, 1.5, True, 'hello world']\n",
            "List type: <class 'list'>, Length: 4\n",
            "First element: 1, Last element: hello world\n",
            "Dictionary: {'name': 'Tom', 'age': 20, 'height': 170}\n",
            "Dictionary type: <class 'dict'>\n",
            "Name: Tom, Age: 20\n"
          ]
        }
      ]
    },
    {
      "cell_type": "code",
      "source": [],
      "metadata": {
        "id": "qdIjEgwbNe0I"
      },
      "execution_count": null,
      "outputs": []
    },
    {
      "cell_type": "markdown",
      "source": [
        "## 2. Lists and Operations\n",
        "\n",
        "Lists are mutable sequences that can store different data types. Common operations include:\n",
        "\n",
        "- **append()**: Add a single element to the end\n",
        "- **extend()**: Add multiple elements to the end\n",
        "- **insert()**: Add element at specific position\n",
        "- **remove()**: Remove first occurrence of value\n",
        "- **pop()**: Remove and return element at index\n",
        "- **sort()**: Sort list in-place\n",
        "- **sorted()**: Return new sorted list\n",
        "\n",
        "Note: `append()` adds a single element, `extend()` adds multiple elements."
      ],
      "metadata": {
        "id": "XlP8ueIBH2oS"
      }
    },
    {
      "cell_type": "code",
      "source": [
        "# =============================================================================\n",
        "# LIST OPERATIONS DEMONSTRATION\n",
        "# =============================================================================\n",
        "\n",
        "# Start with a simple list\n",
        "nums = [3, 1, 2]\n",
        "print(f\"Initial list: {nums}\")\n",
        "\n",
        "# ADDING ELEMENTS TO LIST\n",
        "# append() - adds a single element to the end\n",
        "nums.append(5)\n",
        "print(f\"After append(5): {nums}\")\n",
        "\n",
        "# extend() - adds multiple elements to the end\n",
        "# Note: extend() takes an iterable (list, tuple, etc.)\n",
        "nums.extend([8, 13])\n",
        "print(f\"After extend([8, 13]): {nums}\")\n",
        "\n",
        "# insert() - adds element at specific position\n",
        "# Syntax: list.insert(index, value)\n",
        "nums.insert(1, 99)  # Insert 99 at index 1\n",
        "print(f\"After insert(1, 99): {nums}\")"
      ],
      "metadata": {
        "colab": {
          "base_uri": "https://localhost:8080/"
        },
        "id": "0oyD3OtRIM0Q",
        "outputId": "e6058b9e-91c7-4a5f-aae3-86870af03cb4"
      },
      "execution_count": null,
      "outputs": [
        {
          "output_type": "stream",
          "name": "stdout",
          "text": [
            "Initial list: [3, 1, 2]\n",
            "After append(5): [3, 1, 2, 5]\n",
            "After extend([8, 13]): [3, 1, 2, 5, 8, 13]\n",
            "After insert(1, 99): [3, 99, 1, 2, 5, 8, 13]\n"
          ]
        }
      ]
    },
    {
      "cell_type": "code",
      "source": [
        "# REMOVING ELEMENTS FROM LIST\n",
        "# pop() - removes and returns element at index (default: last element)\n",
        "last = nums.pop()  # Removes last element\n",
        "print(f\"Popped element: {last}\")\n",
        "print(f\"List after pop(): {nums}\")\n",
        "\n",
        "# remove() - removes first occurrence of specified value\n",
        "nums.remove(99)  # Removes the value 99\n",
        "print(f\"After remove(99): {nums}\")"
      ],
      "metadata": {
        "colab": {
          "base_uri": "https://localhost:8080/"
        },
        "id": "6DKJzrffJbJq",
        "outputId": "fe157992-90c6-4203-8219-f89dd65c119c"
      },
      "execution_count": null,
      "outputs": [
        {
          "output_type": "stream",
          "name": "stdout",
          "text": [
            "Popped element: 13\n",
            "List after pop(): [3, 99, 1, 2, 5, 8]\n",
            "After remove(99): [3, 1, 2, 5, 8]\n"
          ]
        }
      ]
    },
    {
      "cell_type": "code",
      "source": [
        "# MODIFYING LIST ELEMENTS\n",
        "# Assignment\n",
        "nums[0] = 100\n",
        "print(f\"After assignment nums[0] = 100: {nums}\")\n",
        "\n",
        "# Slice assignment - replace multiple elements at once\n",
        "nums[0:2] = [7, 7]  # Replace first two elements with [7, 7]\n",
        "print(f\"After slice assignment nums[:2] = [7, 7]: {nums}\")"
      ],
      "metadata": {
        "colab": {
          "base_uri": "https://localhost:8080/"
        },
        "id": "2UkVRwKAJdi6",
        "outputId": "b7d7f746-cf27-42bc-c8ba-ac9758714b66"
      },
      "execution_count": null,
      "outputs": [
        {
          "output_type": "stream",
          "name": "stdout",
          "text": [
            "After assignment nums[0] = 100: [100, 1, 2, 5, 8]\n",
            "After slice assignment nums[:2] = [7, 7]: [7, 7, 2, 5, 8]\n"
          ]
        }
      ]
    },
    {
      "cell_type": "code",
      "source": [
        "# SORTING LISTS\n",
        "# sort() - sorts the list in-place (modifies original list)\n",
        "nums.sort()\n",
        "print(f\"After in-place sort(): {nums}\")\n",
        "\n",
        "# sorted() - returns a new sorted list (original unchanged)\n",
        "print(f\"Sorted descending: {sorted(nums, reverse=True)}\")\n",
        "print(f\"Original list unchanged: {nums}\")\n",
        "\n",
        "# ADVANCED SORTING\n",
        "# Sort by absolute value using key parameter\n",
        "vals = [-3, 10, -1, 2]\n",
        "print(f\"\\nOriginal values: {vals}\")\n",
        "print(f\"Sorted by absolute value: {sorted(vals, key=abs)}\")\n",
        "print(f\"Sorted by absolute value (desc): {sorted(vals, key=abs, reverse=True)}\")"
      ],
      "metadata": {
        "colab": {
          "base_uri": "https://localhost:8080/"
        },
        "id": "aGShOmjvJr5k",
        "outputId": "8a69e60b-66eb-43ae-cf7c-eff8026aa59e"
      },
      "execution_count": null,
      "outputs": [
        {
          "output_type": "stream",
          "name": "stdout",
          "text": [
            "After in-place sort(): [2, 5, 7, 7, 8]\n",
            "Sorted descending: [8, 7, 7, 5, 2]\n",
            "Original list unchanged: [2, 5, 7, 7, 8]\n",
            "\n",
            "Original values: [-3, 10, -1, 2]\n",
            "Sorted by absolute value: [-1, 2, -3, 10]\n",
            "Sorted by absolute value (desc): [10, -3, 2, -1]\n"
          ]
        }
      ]
    },
    {
      "cell_type": "code",
      "source": [
        "# LIST COMPREHENSION\n",
        "\n",
        "my_list = [2, 4, 6, 8, 10]\n",
        "\n",
        "# create a list containing even numbers in [1, 10]\n",
        "even_nums = [i for i in range(1, 11) if i % 2 == 0]\n",
        "print(even_nums)\n",
        "\n",
        "# create a list containing length of names\n",
        "names = [\"alice\", \"bob\", 'cat']\n",
        "name_length = [len(name) for name in names]\n",
        "print(names)\n",
        "print(name_length)"
      ],
      "metadata": {
        "colab": {
          "base_uri": "https://localhost:8080/"
        },
        "id": "_M_j4XPdKATW",
        "outputId": "cacca444-586f-4129-dd84-b9affaa109dc"
      },
      "execution_count": null,
      "outputs": [
        {
          "output_type": "stream",
          "name": "stdout",
          "text": [
            "[2, 4, 6, 8, 10]\n",
            "['alice', 'bob', 'cat']\n",
            "[5, 3, 3]\n"
          ]
        }
      ]
    },
    {
      "cell_type": "markdown",
      "source": [
        "## 3. Dictionaries\n",
        "\n",
        "Dictionaries store data as key-value pairs. Since Python 3.7, dictionaries preserve insertion order.\n",
        "\n",
        "**Key characteristics:**\n",
        "- Keys must be unique and immutable (strings, numbers, tuples)\n",
        "- Values can be any data type\n",
        "- Fast lookup by key\n",
        "\n",
        "**Useful methods:**\n",
        "- **get()**: Safe access with default value\n",
        "- **update()**: Add/update multiple key-value pairs\n",
        "- **pop()**: Remove and return value for key\n",
        "- **keys()**: Get all keys\n",
        "- **values()**: Get all values\n",
        "- **items()**: Get key-value pairs"
      ],
      "metadata": {
        "id": "63aGNb3qH5TG"
      }
    },
    {
      "cell_type": "code",
      "source": [
        "# =============================================================================\n",
        "# DICTIONARY OPERATIONS DEMONSTRATION\n",
        "# =============================================================================\n",
        "\n",
        "# Create a dictionary with user information\n",
        "user = {\"id\": 1001, \"name\": \"Alice\"}\n",
        "print(f\"Initial user dictionary: {user}\")\n",
        "\n",
        "# Direct access would raise KeyError if key doesn't exist\n",
        "# print(user[\"email\"])  # This would cause an error!\n",
        "\n",
        "# SAFE ACCESS TO DICTIONARY VALUES\n",
        "# get() method prevents KeyError if key doesn't exist\n",
        "# Syntax: dict.get(key, default_value)\n",
        "email = user.get(\"email\", \"<missing>\")  # Returns default if key not found\n",
        "print(f\"Email (safe access): {email}\")"
      ],
      "metadata": {
        "colab": {
          "base_uri": "https://localhost:8080/"
        },
        "id": "i3d9NPR2INM3",
        "outputId": "7efcb714-0d4b-4bfe-8190-80d35f238afd"
      },
      "execution_count": null,
      "outputs": [
        {
          "output_type": "stream",
          "name": "stdout",
          "text": [
            "Initial user dictionary: {'id': 1001, 'name': 'Alice'}\n",
            "Email (safe access): <missing>\n"
          ]
        }
      ]
    },
    {
      "cell_type": "code",
      "source": [
        "# UPDATING DICTIONARIES\n",
        "# Directly add/modify values\n",
        "user[\"city\"] = \"New York\"  # Direct assignment\n",
        "print(f\"After adding city: {user}\")\n",
        "\n",
        "# Alternative ways: update() method adds/modifies multiple key-value pairs\n",
        "user.update({\"email\": \"alice@example.com\", \"age\": 25})\n",
        "print(f\"After update: {user}\")\n",
        "\n",
        "# REMOVING ITEMS FROM DICTIONARY\n",
        "# pop() removes key and returns its value\n",
        "removed_age = user.pop(\"age\", None)  # None as default if key not found\n",
        "print(f\"\\nRemoved age: {removed_age}\")\n",
        "print(f\"Dictionary after removing age: {user}\")"
      ],
      "metadata": {
        "colab": {
          "base_uri": "https://localhost:8080/"
        },
        "id": "m3VxJxu7JyPU",
        "outputId": "dd7f4a5c-63a3-42ee-9aed-c2265047939e"
      },
      "execution_count": null,
      "outputs": [
        {
          "output_type": "stream",
          "name": "stdout",
          "text": [
            "After adding city: {'id': 1001, 'name': 'Alice', 'city': 'New York'}\n",
            "After update: {'id': 1001, 'name': 'Alice', 'city': 'New York', 'email': 'alice@example.com', 'age': 25}\n",
            "\n",
            "Removed age: 25\n",
            "Dictionary after removing age: {'id': 1001, 'name': 'Alice', 'city': 'New York', 'email': 'alice@example.com'}\n"
          ]
        }
      ]
    },
    {
      "cell_type": "code",
      "source": [
        "# ITERATING THROUGH DICTIONARIES\n",
        "print(\"\\nIterating through dictionary:\")\n",
        "# items() returns key-value pairs as tuples\n",
        "for key, value in user.items():\n",
        "    print(f\"  {key}: {value}\")\n",
        "\n",
        "# Other iteration methods:\n",
        "print(f\"Keys only: {list(user.keys())}\")\n",
        "print(f\"Values only: {list(user.values())}\")"
      ],
      "metadata": {
        "colab": {
          "base_uri": "https://localhost:8080/"
        },
        "id": "BsFw7qgwJzps",
        "outputId": "fcfab045-51ea-4790-ed8b-d94d75f3771b"
      },
      "execution_count": null,
      "outputs": [
        {
          "output_type": "stream",
          "name": "stdout",
          "text": [
            "\n",
            "Iterating through dictionary:\n",
            "  id: 1001\n",
            "  name: Alice\n",
            "  city: New York\n",
            "  email: alice@example.com\n",
            "Keys only: ['id', 'name', 'city', 'email']\n",
            "Values only: [1001, 'Alice', 'New York', 'alice@example.com']\n"
          ]
        }
      ]
    },
    {
      "cell_type": "code",
      "source": [
        "# DICTIONARY COMPREHENSION\n",
        "# Create a dictionary using comprehension syntax\n",
        "names = [\"alice\", \"bob\", \"charlie\"]\n",
        "\n",
        "# Create index mapping: name -> position (starting from 1)\n",
        "name_index = {name: i for i, name in enumerate(names, start=1)}\n",
        "print(f\"\\nName index dictionary: {name_index}\")\n",
        "\n",
        "# Zip names and addresses into a dictionary\n",
        "addresses = [\"Hong Kong\", \"New York\", \"London\"]\n",
        "name_address_dict = {name: addr for name, addr in zip(names, addresses)}\n",
        "print(f\"\\nName-Address dictionary: {name_address_dict}\")\n",
        "\n",
        "# Create a dictionary of names and their lengths\n",
        "name_lengths = {name: len(name) for name in names}\n",
        "print(f\"Name lengths: {name_lengths}\")"
      ],
      "metadata": {
        "colab": {
          "base_uri": "https://localhost:8080/"
        },
        "id": "8JPhPOX_J7AL",
        "outputId": "f9e23c40-c8a1-4a86-ef0d-5a9b51e55d9e"
      },
      "execution_count": null,
      "outputs": [
        {
          "output_type": "stream",
          "name": "stdout",
          "text": [
            "\n",
            "Name index dictionary: {'alice': 1, 'bob': 2, 'charlie': 3}\n",
            "\n",
            "Name-Address dictionary: {'alice': 'Hong Kong', 'bob': 'New York', 'charlie': 'London'}\n",
            "Name lengths: {'alice': 5, 'bob': 3, 'charlie': 7}\n"
          ]
        }
      ]
    },
    {
      "cell_type": "markdown",
      "source": [
        "## 4. Sets\n",
        "\n",
        "Sets are unordered collections of unique elements. They're useful for removing duplicates and set operations.\n",
        "\n",
        "**Key characteristics:**\n",
        "- No duplicate elements\n",
        "- Unordered (no indexing)\n",
        "- Mutable (can add/remove elements)\n",
        "\n",
        "**Set operations:**\n",
        "- **Union** (`|` or `.union()`): All elements from both sets\n",
        "- **Intersection** (`&` or `.intersection()`): Common elements\n",
        "- **Difference** (`-` or `.difference()`): Elements in first set only\n",
        "- **Symmetric difference** (`^`): Elements in either set, but not both"
      ],
      "metadata": {
        "id": "BV2NUvTpH9MU"
      }
    },
    {
      "cell_type": "code",
      "source": [
        "# =============================================================================\n",
        "# SET OPERATIONS DEMONSTRATION\n",
        "# =============================================================================\n",
        "\n",
        "# Create sets - notice how duplicates are automatically removed\n",
        "a = set([1, 2, 2, 3])  # Convert list to set\n",
        "b = {3, 4}              # Direct set creation\n",
        "print(f\"Set a: {a} (notice duplicate 2 was removed)\")\n",
        "print(f\"Set b: {b}\")\n",
        "\n",
        "# SET OPERATIONS\n",
        "# Union (|) - all unique elements from both sets\n",
        "union_result = a | b\n",
        "print(f\"\\nUnion a | b: {union_result}\")\n",
        "print(f\"Union using method: {a.union(b)}\")\n",
        "\n",
        "# Intersection (&) - elements present in both sets\n",
        "intersection_result = a & b\n",
        "print(f\"Intersection a & b: {intersection_result}\")\n",
        "print(f\"Intersection using method: {a.intersection(b)}\")\n",
        "\n",
        "# Difference (-) - elements in first set but not in second\n",
        "difference_result = a - b\n",
        "print(f\"Difference a - b: {difference_result}\")\n",
        "print(f\"Difference b - a: {b - a}\")"
      ],
      "metadata": {
        "colab": {
          "base_uri": "https://localhost:8080/"
        },
        "id": "p5FB19BYINqo",
        "outputId": "794d956e-13ee-459d-9ca3-dec2cfd51e30"
      },
      "execution_count": null,
      "outputs": [
        {
          "output_type": "stream",
          "name": "stdout",
          "text": [
            "Set a: {1, 2, 3} (notice duplicate 2 was removed)\n",
            "Set b: {3, 4}\n",
            "\n",
            "Union a | b: {1, 2, 3, 4}\n",
            "Union using method: {1, 2, 3, 4}\n",
            "Intersection a & b: {3}\n",
            "Intersection using method: {3}\n",
            "Difference a - b: {1, 2}\n",
            "Difference b - a: {4}\n"
          ]
        }
      ]
    },
    {
      "cell_type": "code",
      "source": [
        "# PRACTICAL EXAMPLE: Working with unique elements\n",
        "print(\"\\n\" + \"=\"*50)\n",
        "print(\"PRACTICAL EXAMPLE: Removing duplicates from lists\")\n",
        "print(\"=\"*50)\n",
        "\n",
        "# Remove duplicates from a list using set\n",
        "numbers_with_duplicates = [1, 2, 2, 3, 3, 3, 4, 5, 5]\n",
        "unique_numbers = list(set(numbers_with_duplicates))\n",
        "print(f\"Original list: {numbers_with_duplicates}\")\n",
        "print(f\"Unique elements: {sorted(unique_numbers)}\")"
      ],
      "metadata": {
        "colab": {
          "base_uri": "https://localhost:8080/"
        },
        "id": "MT7OQhAaKoNz",
        "outputId": "72bdb55c-57ff-4c21-97ee-b458306ef20f"
      },
      "execution_count": null,
      "outputs": [
        {
          "output_type": "stream",
          "name": "stdout",
          "text": [
            "\n",
            "==================================================\n",
            "PRACTICAL EXAMPLE: Removing duplicates from lists\n",
            "==================================================\n",
            "Original list: [1, 2, 2, 3, 3, 3, 4, 5, 5]\n",
            "Unique elements: [1, 2, 3, 4, 5]\n"
          ]
        }
      ]
    },
    {
      "cell_type": "code",
      "source": [
        "# SET MEMBERSHIP AND METHODS\n",
        "test_set = {1, 2, 3, 4, 5}\n",
        "print(f\"\\nTest set: {test_set}\")\n",
        "print(f\"Is 3 in set? {3 in test_set}\")\n",
        "print(f\"Is 6 in set? {6 in test_set}\")\n",
        "\n",
        "# Adding and removing elements\n",
        "test_set.add(6)\n",
        "print(f\"After adding 6: {test_set}\")\n",
        "\n",
        "test_set.discard(2)  # Remove element (no error if not present)\n",
        "print(f\"After discarding 2: {test_set}\")\n",
        "\n",
        "# Check subset and superset relationships\n",
        "small_set = {1, 3}\n",
        "print(f\"\\nIs {small_set} a subset of {test_set}? {small_set.issubset(test_set)}\")\n",
        "print(f\"Is {test_set} a superset of {small_set}? {test_set.issuperset(small_set)}\")"
      ],
      "metadata": {
        "colab": {
          "base_uri": "https://localhost:8080/"
        },
        "id": "nqRN3ZXBKtCm",
        "outputId": "ec525ae0-c759-4469-d419-4eb29409277c"
      },
      "execution_count": null,
      "outputs": [
        {
          "output_type": "stream",
          "name": "stdout",
          "text": [
            "\n",
            "Test set: {1, 2, 3, 4, 5}\n",
            "Is 3 in set? True\n",
            "Is 6 in set? False\n",
            "After adding 6: {1, 2, 3, 4, 5, 6}\n",
            "After discarding 2: {1, 3, 4, 5, 6}\n",
            "\n",
            "Is {1, 3} a subset of {1, 3, 4, 5, 6}? True\n",
            "Is {1, 3, 4, 5, 6} a superset of {1, 3}? True\n"
          ]
        }
      ]
    },
    {
      "cell_type": "markdown",
      "source": [
        "## 5. Conditional Statements\n",
        "\n",
        "Conditional statements allow your program to make decisions based on conditions:\n",
        "\n",
        "**Structure:**\n",
        "- **if**: Execute code if condition is True\n",
        "- **elif**: Check additional conditions\n",
        "- **else**: Execute code if all conditions are False\n",
        "\n",
        "**Comparison operators:**\n",
        "- `==` (equal), `!=` (not equal)\n",
        "- `<`, `>`, `<=`, `>=` (comparisons)\n",
        "- `in`, `not in` (membership)\n",
        "\n",
        "**Logical operators:**\n",
        "- `and`, `or`, `not`"
      ],
      "metadata": {
        "id": "9yBbaDvEH_Rr"
      }
    },
    {
      "cell_type": "code",
      "source": [
        "# =============================================================================\n",
        "# CONDITIONAL STATEMENTS DEMONSTRATION\n",
        "# =============================================================================\n",
        "\n",
        "# BASIC IF-ELIF-ELSE STRUCTURE\n",
        "print(\"1. Basic conditional structure:\")\n",
        "x = 7\n",
        "print(f\"Testing value x = {x}\")\n",
        "\n",
        "if x > 10:\n",
        "    print(\"  → x is greater than 10\")\n",
        "elif x == 10:\n",
        "    print(\"  → x is equal to 10\")\n",
        "else:\n",
        "    print(\"  → x is less than 10\")"
      ],
      "metadata": {
        "colab": {
          "base_uri": "https://localhost:8080/"
        },
        "id": "0KOxOkYIIOEJ",
        "outputId": "9454b75c-870e-4eed-fb84-6e00027ab349"
      },
      "execution_count": null,
      "outputs": [
        {
          "output_type": "stream",
          "name": "stdout",
          "text": [
            "1. Basic conditional structure:\n",
            "Testing value x = 7\n",
            "  → x is less than 10\n"
          ]
        }
      ]
    },
    {
      "cell_type": "code",
      "source": [
        "# LOGICAL OPERATORS AND MULTIPLE CONDITIONS\n",
        "print(\"\\n2. Multiple conditions with logical operators:\")\n",
        "age = 25\n",
        "has_license = True\n",
        "print(f\"Age: {age}, Has license: {has_license}\")\n",
        "\n",
        "if age >= 18 and has_license:\n",
        "    print(\"  → Can drive a car\")\n",
        "elif age >= 18 and not has_license:\n",
        "    print(\"  → Old enough but needs license\")\n",
        "else:\n",
        "    print(\"  → Too young to drive\")"
      ],
      "metadata": {
        "colab": {
          "base_uri": "https://localhost:8080/"
        },
        "id": "cg2kWTFfKx7F",
        "outputId": "a1a58861-ec10-42a2-9eba-3a75f982196d"
      },
      "execution_count": null,
      "outputs": [
        {
          "output_type": "stream",
          "name": "stdout",
          "text": [
            "\n",
            "2. Multiple conditions with logical operators:\n",
            "Age: 25, Has license: True\n",
            "  → Can drive a car\n"
          ]
        }
      ]
    },
    {
      "cell_type": "code",
      "source": [
        "# MEMBERSHIP TESTING\n",
        "print(\"\\n3. Membership testing with 'in' operator:\")\n",
        "fruits = ['apple', 'banana', 'cherry', 'orange']\n",
        "search_fruit = 'apple'\n",
        "print(f\"Available fruits: {fruits}\")\n",
        "print(f\"Looking for: {search_fruit}\")\n",
        "\n",
        "if search_fruit in fruits:\n",
        "    print(f\"  → {search_fruit} is available!\")\n",
        "else:\n",
        "    print(f\"  → {search_fruit} is not available\")"
      ],
      "metadata": {
        "colab": {
          "base_uri": "https://localhost:8080/"
        },
        "id": "z-90vcMKKzg8",
        "outputId": "785cfc89-2ded-4bb9-a9c7-f9b869b925d0"
      },
      "execution_count": null,
      "outputs": [
        {
          "output_type": "stream",
          "name": "stdout",
          "text": [
            "\n",
            "3. Membership testing with 'in' operator:\n",
            "Available fruits: ['apple', 'banana', 'cherry', 'orange']\n",
            "Looking for: apple\n",
            "  → apple is available!\n"
          ]
        }
      ]
    },
    {
      "cell_type": "code",
      "source": [
        "# NESTED CONDITIONS AND GRADE CALCULATION\n",
        "print(\"\\n4. Nested conditions (Grade calculator):\")\n",
        "score = 85\n",
        "attendance = 90  # percentage\n",
        "print(f\"Score: {score}, Attendance: {attendance}%\")\n",
        "\n",
        "if score >= 60:  # Passing threshold\n",
        "    if attendance >= 75:  # Good attendance\n",
        "        if score >= 90:\n",
        "            grade = 'A'\n",
        "        elif score >= 80:\n",
        "            grade = 'B'\n",
        "        else:\n",
        "            grade = 'C'\n",
        "        print(f\"  → Final grade: {grade} (Good attendance bonus)\")\n",
        "    else:\n",
        "        grade = 'D'  # Poor attendance penalty\n",
        "        print(f\"  → Final grade: {grade} (Poor attendance penalty)\")\n",
        "else:\n",
        "    print(\"  → Failed (Score below 60)\")"
      ],
      "metadata": {
        "colab": {
          "base_uri": "https://localhost:8080/"
        },
        "id": "UMzKb7I1K1Z1",
        "outputId": "d4c2f7b0-3339-4fad-a857-a99b9a5dd739"
      },
      "execution_count": null,
      "outputs": [
        {
          "output_type": "stream",
          "name": "stdout",
          "text": [
            "\n",
            "4. Nested conditions (Grade calculator):\n",
            "Score: 85, Attendance: 90%\n",
            "  → Final grade: B (Good attendance bonus)\n"
          ]
        }
      ]
    },
    {
      "cell_type": "code",
      "source": [
        "# COMPARISON OPERATORS DEMONSTRATION\n",
        "print(\"\\n5. Comparison operators:\")\n",
        "a, b = 10, 20\n",
        "print(f\"a = {a}, b = {b}\")\n",
        "print(f\"  a == b: {a == b}\")\n",
        "print(f\"  a != b: {a != b}\")\n",
        "print(f\"  a < b:  {a < b}\")\n",
        "print(f\"  a <= b: {a <= b}\")\n",
        "print(f\"  a > b:  {a > b}\")\n",
        "print(f\"  a >= b: {a >= b}\")"
      ],
      "metadata": {
        "colab": {
          "base_uri": "https://localhost:8080/"
        },
        "id": "PaCv45uIK_bE",
        "outputId": "704ba420-0bdb-4b1b-f80a-02b519663009"
      },
      "execution_count": null,
      "outputs": [
        {
          "output_type": "stream",
          "name": "stdout",
          "text": [
            "\n",
            "5. Comparison operators:\n",
            "a = 10, b = 20\n",
            "  a == b: False\n",
            "  a != b: True\n",
            "  a < b:  True\n",
            "  a <= b: True\n",
            "  a > b:  False\n",
            "  a >= b: False\n"
          ]
        }
      ]
    },
    {
      "cell_type": "markdown",
      "source": [
        "## 6. Loops\n",
        "1. for\n",
        "   - Used to iterate over a sequence (such as a list, tuple, dictionary, set, or string).\n",
        "   - Example: `for x in [1, 2, 3]: print(x)`\n",
        "2. while\n",
        "   - Repeats as long as a condition is True.\n",
        "   - Example: `while x < 5: x += 1`\n",
        "\n",
        "Loops are useful for automating repetitive tasks and processing collections of data."
      ],
      "metadata": {
        "id": "PIl2JT5VICS2"
      }
    },
    {
      "cell_type": "code",
      "source": [
        "# =============================================================================\n",
        "# LOOPS DEMONSTRATION\n",
        "# =============================================================================\n",
        "\n",
        "# FOR LOOP BASICS\n",
        "print(\"1. Basic for loop with range():\")\n",
        "# range(5) generates numbers 0, 1, 2, 3, 4\n",
        "for i in range(5):\n",
        "    print(f\"  i = {i}\")\n",
        "\n",
        "# WHILE LOOP BASICS\n",
        "print(\"\\n2. Basic while loop:\")\n",
        "count = 0\n",
        "while count < 5:\n",
        "    print(f\"  count = {count}\")\n",
        "    count += 1  # Increment counter (important to avoid infinite loop!)"
      ],
      "metadata": {
        "colab": {
          "base_uri": "https://localhost:8080/"
        },
        "id": "CSz1FignIOek",
        "outputId": "d36e4b65-74fa-4b86-b94b-5ddeef5d9249"
      },
      "execution_count": null,
      "outputs": [
        {
          "output_type": "stream",
          "name": "stdout",
          "text": [
            "1. Basic for loop with range():\n",
            "  i = 0\n",
            "  i = 1\n",
            "  i = 2\n",
            "  i = 3\n",
            "  i = 4\n",
            "\n",
            "2. Basic while loop:\n",
            "  count = 0\n",
            "  count = 1\n",
            "  count = 2\n",
            "  count = 3\n",
            "  count = 4\n"
          ]
        }
      ]
    },
    {
      "cell_type": "code",
      "source": [
        "# FOR LOOP WITH LISTS\n",
        "print(\"\\n3. Iterating over a list:\")\n",
        "fruits = [\"apple\", \"banana\", \"cherry\"]\n",
        "print(f\"Fruits list: {fruits}\")\n",
        "\n",
        "# Method 1: Direct iteration (most Pythonic)\n",
        "for fruit in fruits:\n",
        "    print(f\"  I like {fruit}\")\n",
        "\n",
        "# Method 2: Using enumerate\n",
        "print(\"\\nUsing index with enumerate():\")\n",
        "for index, fruit in enumerate(fruits):\n",
        "    print(f\"  Fruit {index}: {fruit}\")"
      ],
      "metadata": {
        "colab": {
          "base_uri": "https://localhost:8080/"
        },
        "id": "snKDxGXmLFmj",
        "outputId": "941a2c82-6797-46ab-86c1-28e5bf0c0f71"
      },
      "execution_count": null,
      "outputs": [
        {
          "output_type": "stream",
          "name": "stdout",
          "text": [
            "\n",
            "3. Iterating over a list:\n",
            "Fruits list: ['apple', 'banana', 'cherry']\n",
            "  I like apple\n",
            "  I like banana\n",
            "  I like cherry\n",
            "\n",
            "Using index with enumerate():\n",
            "  Fruit 0: apple\n",
            "  Fruit 1: banana\n",
            "  Fruit 2: cherry\n"
          ]
        }
      ]
    },
    {
      "cell_type": "code",
      "source": [
        "# LOOP CONTROL: BREAK AND CONTINUE\n",
        "print(\"\\n4. Loop control with break and continue:\")\n",
        "print(\"Finding odd numbers before 5...\")\n",
        "\n",
        "for num in range(10):  # 0 to 9\n",
        "    if num == 5:\n",
        "        print(f\"  Found {num}, breaking out of loop\")\n",
        "        break  # Exit loop completely when num equals 5\n",
        "\n",
        "    if num % 2 == 0:  # If number is even\n",
        "        print(f\"  Skipping {num} (even number)\")\n",
        "        continue  # Skip rest of loop body, go to next iteration\n",
        "\n",
        "    print(f\"  → Found odd number: {num}\")"
      ],
      "metadata": {
        "colab": {
          "base_uri": "https://localhost:8080/"
        },
        "id": "wwfhTHmhLLg8",
        "outputId": "7ac9011e-2fd8-44fb-88c3-2892f197687c"
      },
      "execution_count": null,
      "outputs": [
        {
          "output_type": "stream",
          "name": "stdout",
          "text": [
            "\n",
            "4. Loop control with break and continue:\n",
            "Finding odd numbers before 5...\n",
            "  Skipping 0 (even number)\n",
            "  → Found odd number: 1\n",
            "  Skipping 2 (even number)\n",
            "  → Found odd number: 3\n",
            "  Skipping 4 (even number)\n",
            "  Found 5, breaking out of loop\n"
          ]
        }
      ]
    },
    {
      "cell_type": "code",
      "source": [
        "# NESTED LOOPS\n",
        "print(\"\\n5. Nested loops (multiplication table):\")\n",
        "print(\"3x3 multiplication table:\")\n",
        "for i in range(1, 4):  # Outer loop: 1, 2, 3\n",
        "    for j in range(1, 4):  # Inner loop: 1, 2, 3\n",
        "        product = i * j\n",
        "        print(f\"  {i} x {j} = {product}\")\n",
        "    print()  # Empty line after each row"
      ],
      "metadata": {
        "colab": {
          "base_uri": "https://localhost:8080/"
        },
        "id": "bv1_EWIaLQsd",
        "outputId": "7ecfcc92-08b3-4326-89a9-3462ff56152e"
      },
      "execution_count": null,
      "outputs": [
        {
          "output_type": "stream",
          "name": "stdout",
          "text": [
            "\n",
            "5. Nested loops (multiplication table):\n",
            "3x3 multiplication table:\n",
            "  1 x 1 = 1\n",
            "  1 x 2 = 2\n",
            "  1 x 3 = 3\n",
            "\n",
            "  2 x 1 = 2\n",
            "  2 x 2 = 4\n",
            "  2 x 3 = 6\n",
            "\n",
            "  3 x 1 = 3\n",
            "  3 x 2 = 6\n",
            "  3 x 3 = 9\n",
            "\n"
          ]
        }
      ]
    },
    {
      "cell_type": "markdown",
      "source": [
        "## 7. Functions\n",
        "\n",
        "Functions are reusable blocks of code that perform specific tasks:\n",
        "\n",
        "**Function structure:**\n",
        "- **def**: Keyword to define a function\n",
        "- **Parameters**: Input values (optional)\n",
        "- **Return**: Output value (optional)\n",
        "- **Docstring**: Function description (optional but recommended)\n",
        "\n",
        "**Benefits:**\n",
        "- Code reusability\n",
        "- Better organization\n",
        "- Easier testing and debugging\n",
        "- Modular programming"
      ],
      "metadata": {
        "id": "ca_DX_CIID7a"
      }
    },
    {
      "cell_type": "code",
      "source": [
        "# =============================================================================\n",
        "# FUNCTIONS DEMONSTRATION\n",
        "# =============================================================================\n",
        "\n",
        "# BASIC FUNCTION DEFINITION AND CALLING\n",
        "print(\"1. Basic function definition:\")\n",
        "\n",
        "def greet(name):\n",
        "    \"\"\"\n",
        "    Function to greet a person.\n",
        "\n",
        "    Args:\n",
        "        name (str): The name of the person to greet\n",
        "\n",
        "    Returns:\n",
        "        str: A greeting message\n",
        "    \"\"\"\n",
        "    return f\"Hello, {name}! Welcome to Python programming.\"\n",
        "\n",
        "# Call the function and store the result\n",
        "message = greet(\"Alice\")\n",
        "print(f\"  {message}\")"
      ],
      "metadata": {
        "colab": {
          "base_uri": "https://localhost:8080/"
        },
        "id": "HtDvcGQxIO3T",
        "outputId": "bae4bc17-792c-453c-9dea-fa08297b97d3"
      },
      "execution_count": null,
      "outputs": [
        {
          "output_type": "stream",
          "name": "stdout",
          "text": [
            "1. Basic function definition:\n",
            "  Hello, Alice! Welcome to Python programming.\n"
          ]
        }
      ]
    },
    {
      "cell_type": "code",
      "source": [
        "# FUNCTION WITH MULTIPLE PARAMETERS\n",
        "print(\"\\n2. Function with multiple parameters:\")\n",
        "\n",
        "def calculate_area(length, width):\n",
        "    \"\"\"\n",
        "    Calculate the area of a rectangle.\n",
        "\n",
        "    Args:\n",
        "        length (float): Length of the rectangle\n",
        "        width (float): Width of the rectangle\n",
        "\n",
        "    Returns:\n",
        "        float: Area of the rectangle\n",
        "    \"\"\"\n",
        "    area = length * width\n",
        "    print(f\"  Calculating area: {length} x {width} = {area}\")\n",
        "    return area\n",
        "\n",
        "# Test the function\n",
        "result = calculate_area(5, 3)\n",
        "print(f\"  Result stored in variable: {result}\")"
      ],
      "metadata": {
        "colab": {
          "base_uri": "https://localhost:8080/"
        },
        "id": "I2Hu0AxgLYQ1",
        "outputId": "8d36368a-ab6b-4982-c194-f50382093e9a"
      },
      "execution_count": null,
      "outputs": [
        {
          "output_type": "stream",
          "name": "stdout",
          "text": [
            "\n",
            "2. Function with multiple parameters:\n",
            "  Calculating area: 5 x 3 = 15\n",
            "  Result stored in variable: 15\n"
          ]
        }
      ]
    },
    {
      "cell_type": "code",
      "source": [
        "# FUNCTION WITH DEFAULT PARAMETERS\n",
        "print(\"\\n3. Function with default parameters:\")\n",
        "\n",
        "def introduce(name, age=25, city=\"Unknown\"):\n",
        "    \"\"\"\n",
        "    Introduce a person with optional parameters.\n",
        "\n",
        "    Args:\n",
        "        name (str): Person's name (required)\n",
        "        age (int): Person's age (default: 25)\n",
        "        city (str): Person's city (default: \"Unknown\")\n",
        "\n",
        "    Returns:\n",
        "        str: Introduction message\n",
        "    \"\"\"\n",
        "    return f\"My name is {name}, I'm {age} years old, from {city}\"\n",
        "\n",
        "# Test with different parameter combinations\n",
        "print(f\"  {introduce('Bob')}\")  # Only required parameter\n",
        "print(f\"  {introduce('Carol', 30)}\")  # Name and age\n",
        "print(f\"  {introduce('David', 28, 'New York')}\")  # All parameters\n",
        "print(f\"  {introduce('Eve', city='Boston')}\")  # Keyword argument"
      ],
      "metadata": {
        "colab": {
          "base_uri": "https://localhost:8080/"
        },
        "id": "uj7WWCFTLac2",
        "outputId": "f8c6d335-19e0-4d6b-f91d-a8d7d85cbf5b"
      },
      "execution_count": null,
      "outputs": [
        {
          "output_type": "stream",
          "name": "stdout",
          "text": [
            "\n",
            "3. Function with default parameters:\n",
            "  My name is Bob, I'm 25 years old, from Unknown\n",
            "  My name is Carol, I'm 30 years old, from Unknown\n",
            "  My name is David, I'm 28 years old, from New York\n",
            "  My name is Eve, I'm 25 years old, from Boston\n"
          ]
        }
      ]
    },
    {
      "cell_type": "code",
      "source": [
        "# FUNCTION WITH VARIABLE ARGUMENTS\n",
        "print(\"\\n4. Function with variable arguments (*args, **kwargs):\")\n",
        "\n",
        "def calculate_total(*args, **kwargs):\n",
        "    \"\"\"\n",
        "    Calculate total of numbers with optional tax and discount.\n",
        "\n",
        "    Args:\n",
        "        *args: Variable number of numbers to sum\n",
        "        **kwargs: Optional tax_rate and discount\n",
        "\n",
        "    Returns:\n",
        "        float: Final total after tax and discount\n",
        "    \"\"\"\n",
        "    # Sum all the numbers\n",
        "    subtotal = sum(args)\n",
        "    print(f\"  Subtotal of {list(args)}: ${subtotal:.2f}\")\n",
        "\n",
        "    # Apply discount if provided\n",
        "    discount = kwargs.get('discount', 0)\n",
        "    if discount > 0:\n",
        "        subtotal = subtotal * (1 - discount)\n",
        "        print(f\"  After {discount*100}% discount: ${subtotal:.2f}\")\n",
        "\n",
        "    # Apply tax if provided\n",
        "    tax_rate = kwargs.get('tax_rate', 0)\n",
        "    if tax_rate > 0:\n",
        "        total = subtotal * (1 + tax_rate)\n",
        "        print(f\"  After {tax_rate*100}% tax: ${total:.2f}\")\n",
        "        return total\n",
        "\n",
        "    return subtotal\n",
        "\n",
        "# Test with different arguments\n",
        "total1 = calculate_total(10, 20, 30)\n",
        "print(f\"  Final total: ${total1:.2f}\")\n",
        "\n",
        "total2 = calculate_total(15, 25, 35, tax_rate=0.08, discount=0.1)\n",
        "print(f\"  Final total: ${total2:.2f}\")"
      ],
      "metadata": {
        "colab": {
          "base_uri": "https://localhost:8080/"
        },
        "id": "wuyxtC2nLl7z",
        "outputId": "ac55dc69-7a9a-4d1b-f181-611e748d370c"
      },
      "execution_count": null,
      "outputs": [
        {
          "output_type": "stream",
          "name": "stdout",
          "text": [
            "\n",
            "4. Function with variable arguments (*args, **kwargs):\n",
            "  Subtotal of [10, 20, 30]: $60.00\n",
            "  Final total: $60.00\n",
            "  Subtotal of [15, 25, 35]: $75.00\n",
            "  After 10.0% discount: $67.50\n",
            "  After 8.0% tax: $72.90\n",
            "  Final total: $72.90\n"
          ]
        }
      ]
    },
    {
      "cell_type": "markdown",
      "source": [
        "## 8. Short Practices\n",
        "Try these exercises to reinforce your understanding of Python fundamentals:\n",
        "\n",
        "1. **Calculate the sum from 1 to 100**\n",
        "   - Use either a `for` loop or a `while` loop\n",
        "   - Hint: Start with a variable `mysum = 0` and update it inside the loop\n",
        "   - Expected result: 5050\n",
        "\n",
        "2. **Transform a list based on conditions**\n",
        "   - Given a list, for each element:\n",
        "     - If the value is larger than 10, increase it by 1\n",
        "     - Otherwise, decrease it by 2\n",
        "   - Hint: Use a `for` loop and an `if` statement to check each value\n",
        "   - Example: `[10, 11, 9, 4]` → `[8, 12, 7, 2]`\n",
        "\n",
        "3. **Create a simple calculator function**\n",
        "   - Write a function that takes two numbers and an operation (+, -, *, /)\n",
        "   - Return the result of the operation\n",
        "   - Handle division by zero"
      ],
      "metadata": {
        "id": "RlhVowxNIFoo"
      }
    },
    {
      "cell_type": "code",
      "source": [
        "# =============================================================================\n",
        "# SOLUTIONS TO PRACTICE EXERCISES\n",
        "# =============================================================================\n",
        "\n",
        "print(\"EXERCISE 1: Calculate sum from 1 to 100\")\n",
        "print(\"=\"*50)\n",
        "\n",
        "# SOLUTION 1A: Using for loop\n",
        "# This is the most Pythonic approach\n",
        "mysum = 0\n",
        "for x in range(1, 101):  # range(1, 101) generates 1 to 100\n",
        "    mysum += x  # Add current number to running total\n",
        "\n",
        "print(f\"Sum using for loop: {mysum}\")\n",
        "\n",
        "# SOLUTION 1B: Using while loop\n",
        "# More verbose but demonstrates while loop usage\n",
        "mysum_while = 0\n",
        "i = 1\n",
        "while i <= 100:\n",
        "    mysum_while += i\n",
        "    i += 1  # Don't forget to increment!\n",
        "\n",
        "print(f\"Sum using while loop: {mysum_while}\")\n",
        "\n",
        "# MATHEMATICAL VERIFICATION\n",
        "# The sum of first n natural numbers is n(n+1)/2\n",
        "n = 100\n",
        "formula_result = n * (n + 1) // 2\n",
        "print(f\"Using mathematical formula n(n+1)/2: {formula_result}\")\n",
        "print(f\"All methods give same result: {mysum == mysum_while == formula_result}\")\n",
        "\n",
        "# ALTERNATIVE: Using built-in sum() function\n",
        "builtin_sum = sum(range(1, 101))\n",
        "print(f\"Using built-in sum(): {builtin_sum}\")"
      ],
      "metadata": {
        "colab": {
          "base_uri": "https://localhost:8080/"
        },
        "id": "0wMumcfWIPQi",
        "outputId": "cc4846b4-b95b-49b3-dce1-5d82fcdcfbe0"
      },
      "execution_count": null,
      "outputs": [
        {
          "output_type": "stream",
          "name": "stdout",
          "text": [
            "EXERCISE 1: Calculate sum from 1 to 100\n",
            "==================================================\n",
            "Sum using for loop: 5050\n",
            "Sum using while loop: 5050\n",
            "Using mathematical formula n(n+1)/2: 5050\n",
            "All methods give same result: True\n",
            "Using built-in sum(): 5050\n"
          ]
        }
      ]
    },
    {
      "cell_type": "code",
      "source": [
        "print(\"EXERCISE 2: Transform list based on conditions\")\n",
        "print(\"=\"*70)\n",
        "\n",
        "def transform_list(lst):\n",
        "    \"\"\"\n",
        "    Transform list based on conditions:\n",
        "    - If value > 10: add 1\n",
        "    - If value <= 10: subtract 2\n",
        "\n",
        "    Args:\n",
        "        lst (list): List of numbers to transform\n",
        "\n",
        "    Returns:\n",
        "        list: Transformed list\n",
        "    \"\"\"\n",
        "    result = []\n",
        "\n",
        "    print(\"Transformation process:\")\n",
        "    for i, val in enumerate(lst):\n",
        "        if val > 10:\n",
        "            new_val = val + 1\n",
        "            print(f\"  Index {i}: {val} > 10, so {val} + 1 = {new_val}\")\n",
        "        else:\n",
        "            new_val = val - 2\n",
        "            print(f\"  Index {i}: {val} <= 10, so {val} - 2 = {new_val}\")\n",
        "\n",
        "        result.append(new_val)\n",
        "\n",
        "    return result\n",
        "\n",
        "# Test the function with given example\n",
        "original_list = [10, 11, 9, 4]\n",
        "print(f\"\\nOriginal list: {original_list}\")\n",
        "transformed = transform_list(original_list)\n",
        "print(f\"Transformed list: {transformed}\")\n",
        "\n",
        "# ALTERNATIVE: Using list comprehension (more concise)\n",
        "transformed_compact = [x + 1 if x > 10 else x - 2 for x in original_list]\n",
        "print(f\"Using list comprehension: {transformed_compact}\")\n",
        "\n",
        "# Test with additional examples\n",
        "test_cases = [\n",
        "    [5, 15, 10, 20],\n",
        "    [1, 2, 3],\n",
        "    [11, 12, 13, 14]\n",
        "]\n",
        "\n",
        "print(\"\\nAdditional test cases:\")\n",
        "for i, test_list in enumerate(test_cases, 1):\n",
        "    result = transform_list(test_list)\n",
        "    print(f\"Test {i}: {test_list} → {result}\")\n",
        "    print()"
      ],
      "metadata": {
        "colab": {
          "base_uri": "https://localhost:8080/"
        },
        "id": "6M39UGQALuIy",
        "outputId": "eaa814ad-cfb3-4ac7-a1d1-dae0ede03347"
      },
      "execution_count": null,
      "outputs": [
        {
          "output_type": "stream",
          "name": "stdout",
          "text": [
            "EXERCISE 2: Transform list based on conditions\n",
            "======================================================================\n",
            "\n",
            "Original list: [10, 11, 9, 4]\n",
            "Transformation process:\n",
            "  Index 0: 10 <= 10, so 10 - 2 = 8\n",
            "  Index 1: 11 > 10, so 11 + 1 = 12\n",
            "  Index 2: 9 <= 10, so 9 - 2 = 7\n",
            "  Index 3: 4 <= 10, so 4 - 2 = 2\n",
            "Transformed list: [8, 12, 7, 2]\n",
            "Using list comprehension: [8, 12, 7, 2]\n",
            "\n",
            "Additional test cases:\n",
            "Transformation process:\n",
            "  Index 0: 5 <= 10, so 5 - 2 = 3\n",
            "  Index 1: 15 > 10, so 15 + 1 = 16\n",
            "  Index 2: 10 <= 10, so 10 - 2 = 8\n",
            "  Index 3: 20 > 10, so 20 + 1 = 21\n",
            "Test 1: [5, 15, 10, 20] → [3, 16, 8, 21]\n",
            "\n",
            "Transformation process:\n",
            "  Index 0: 1 <= 10, so 1 - 2 = -1\n",
            "  Index 1: 2 <= 10, so 2 - 2 = 0\n",
            "  Index 2: 3 <= 10, so 3 - 2 = 1\n",
            "Test 2: [1, 2, 3] → [-1, 0, 1]\n",
            "\n",
            "Transformation process:\n",
            "  Index 0: 11 > 10, so 11 + 1 = 12\n",
            "  Index 1: 12 > 10, so 12 + 1 = 13\n",
            "  Index 2: 13 > 10, so 13 + 1 = 14\n",
            "  Index 3: 14 > 10, so 14 + 1 = 15\n",
            "Test 3: [11, 12, 13, 14] → [12, 13, 14, 15]\n",
            "\n"
          ]
        }
      ]
    },
    {
      "cell_type": "code",
      "source": [],
      "metadata": {
        "id": "V6q9iGjsL1Lo"
      },
      "execution_count": null,
      "outputs": []
    }
  ]
}