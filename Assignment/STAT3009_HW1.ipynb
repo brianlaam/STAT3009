{
  "cells": [
    {
      "cell_type": "markdown",
      "metadata": {
        "id": "Q-HQBcIDzaa-"
      },
      "source": [
        "# CUHK-STAT3009: Homework 1 **(due Oct 9)**"
      ]
    },
    {
      "cell_type": "markdown",
      "metadata": {
        "id": "WuHmYEZUWptO"
      },
      "source": [
        "## **Q1: RS Metrics**"
      ]
    },
    {
      "cell_type": "markdown",
      "metadata": {
        "id": "QvfsHH4RWmAk"
      },
      "source": [
        "\n",
        "### Q1.1: Compute the Root Mean Squared Error (RMSE)\n",
        "\n",
        "The Root Mean Squared Error (RMSE) is a commonly used metric to evaluate the accuracy of predictions. It is defined as:\n",
        "\n",
        "$$\n",
        "\\text{RMSE} = \\sqrt{\\frac{1}{n} \\sum_{i=1}^{n} (y_i - \\hat{y}_i)^2}\n",
        "$$\n",
        "\n",
        "where $y_i$ is the true value and $\\hat{y}_i$ is the predicted value.\n",
        "\n",
        "Given the following arrays `truth` and `pred`, compute the RMSE:\n",
        "\n",
        "```python\n",
        "import numpy as np\n",
        "\n",
        "truth = np.array([3.0, -0.5, 2.0, 7.0])\n",
        "pred = np.array([2.5, 0.0, 2.0, 8.0])\n",
        "```\n",
        "\n",
        "Implement the solution to calculate the RMSE:"
      ]
    },
    {
      "cell_type": "code",
      "execution_count": 1,
      "metadata": {
        "id": "WQpUoAwyW6FV"
      },
      "outputs": [
        {
          "data": {
            "text/plain": [
              "0.6123724356957945"
            ]
          },
          "execution_count": 1,
          "metadata": {},
          "output_type": "execute_result"
        }
      ],
      "source": [
        "# Compute the RMSE between truth and pred\n",
        "from sklearn.metrics import root_mean_squared_error as RMSE\n",
        "import numpy as np\n",
        "\n",
        "truth = np.array([3.0, -0.5, 2.0, 7.0])\n",
        "pred = np.array([2.5, 0.0, 2.0, 8.0])\n",
        "\n",
        "RMSE(truth, pred)"
      ]
    },
    {
      "cell_type": "markdown",
      "metadata": {
        "id": "Qbq1iqrkW8hL"
      },
      "source": [
        "### Q1.2: Define and Test the Mean Absolute Error (MAE) Function\n",
        "\n",
        "The Mean Absolute Error (MAE) is another popular metric to evaluate the accuracy of predictions. It is defined as:\n",
        "\n",
        "$$\n",
        "\\text{MAE} = \\frac{1}{n} \\sum_{i=1}^{n} | y_i - \\hat{y}_i |\n",
        "$$\n",
        "\n",
        "where \\( y_i \\) is the true value and \\( \\hat{y}_i \\) is the predicted value.\n",
        "\n",
        "#### Tasks:\n",
        "1. Define a function `mae(true_ratings, pred_ratings)` that calculates the MAE given the true ratings and predicted ratings.\n",
        "2. Test your function using the provided `truth` and `pred` arrays, and print the MAE.\n",
        "\n",
        "Given arrays:\n",
        "\n",
        "```python\n",
        "import numpy as np\n",
        "\n",
        "truth = np.array([3.0, -0.5, 2.0, 7.0])\n",
        "pred = np.array([2.5, 0.0, 2.0, 8.0])\n",
        "```\n",
        "\n",
        "Define and test the `mae` function:"
      ]
    },
    {
      "cell_type": "code",
      "execution_count": 2,
      "metadata": {
        "id": "MS09aCyEWZL0"
      },
      "outputs": [
        {
          "data": {
            "text/plain": [
              "0.5"
            ]
          },
          "execution_count": 2,
          "metadata": {},
          "output_type": "execute_result"
        }
      ],
      "source": [
        "# Define the function for MAE\n",
        "def mae(true_ratings, pred_ratings):\n",
        "    return float(np.mean(np.abs(true_ratings - pred_ratings)))\n",
        "\n",
        "# Compute the MAE between truth and pred\n",
        "mae(truth, pred)"
      ]
    },
    {
      "cell_type": "markdown",
      "metadata": {
        "id": "p2Bg9HljeElN"
      },
      "source": [
        "## **Q2: Your First Custom sklearn-type RS**"
      ]
    },
    {
      "cell_type": "markdown",
      "metadata": {
        "id": "txg5sLBAXI46"
      },
      "source": [
        "**Task Description**\n",
        "\n",
        "In this task, you will implement a user-item average based recommender system using the Netflix dataset from the CUHK-STAT3009 GitHub repository.\n",
        "\n",
        "```python\n",
        "import numpy as np\n",
        "import pandas as pd\n",
        "\n",
        "# Load the Netflix dataset from the CUHK-STAT3009 GitHub repository\n",
        "# Repository link: https://github.com/statmlben/CUHK-STAT3009/tree/main/dataset/netflix\n",
        "\n",
        "train = pd.read_csv('https://raw.githubusercontent.com/statmlben/CUHK-STAT3009/main/dataset/netflix/train.csv')\n",
        "test = pd.read_csv('https://raw.githubusercontent.com/statmlben/CUHK-STAT3009/main/dataset/netflix/test.csv')\n",
        "\n",
        "# Convert DataFrame to NumPy arrays\n",
        "```\n",
        "\n",
        "**New Recommender System - User-Item Average**\n",
        "\n",
        "Create a custom class `UserItemAverageRS` that inherits from `sklearn.BaseEstimator`. Implement the `fit` method to compute the parameter, and the `predict` method to generate predictions based on the user-item average formula:\n",
        "\n",
        "$$\\widehat{r}_{ui} = \\frac{\\bar{r}_u + \\bar{r}_i}{2}$$\n",
        "\n",
        "where\n",
        "\n",
        "$$\\bar{r}_u = \\frac{1}{|\\mathcal{I}_u|} \\sum_{i \\in \\mathcal{I}_u} r_{ui}, \\quad \\bar{r}_i = \\frac{1}{|\\mathcal{U}_i|} \\sum_{u \\in \\mathcal{U}_i} r_{ui}$$\n",
        "\n",
        "**Evaluate the Recommender System**\n",
        "\n",
        "Fit the custom recommender system to the training data and generate predictions for the test data. Compute and report the Root Mean Squared Error (RMSE) for the predictions.\n",
        "\n",
        "**Note**: Make sure to follow the sklearn API guidelines for implementing custom estimators."
      ]
    },
    {
      "cell_type": "code",
      "execution_count": 3,
      "metadata": {},
      "outputs": [
        {
          "name": "stdout",
          "output_type": "stream",
          "text": [
            "Train shape: (51161, 4)\n",
            "Test shape: (51161, 4)\n",
            "Train columns: ['movie_id', 'user_id', 'rating', 'date']\n"
          ]
        }
      ],
      "source": [
        "# Import necessary libraries\n",
        "import numpy as np\n",
        "import pandas as pd\n",
        "from sklearn.base import BaseEstimator\n",
        "from sklearn.metrics import mean_squared_error\n",
        "\n",
        "# Load the Netflix dataset from the CUHK-STAT3009 GitHub repository\n",
        "train = pd.read_csv('https://raw.githubusercontent.com/statmlben/CUHK-STAT3009/main/dataset/netflix/train.csv')\n",
        "test = pd.read_csv('https://raw.githubusercontent.com/statmlben/CUHK-STAT3009/main/dataset/netflix/test.csv')\n",
        "\n",
        "# Display basic info\n",
        "print(\"Train shape:\", train.shape)\n",
        "print(\"Test shape:\", test.shape)\n",
        "print(\"Train columns:\", train.columns.tolist())"
      ]
    },
    {
      "cell_type": "code",
      "execution_count": 4,
      "metadata": {},
      "outputs": [],
      "source": [
        "# Class for the User-Item Average RS\n",
        "class UserItemAverageRS(BaseEstimator):    \n",
        "    def __init__(self):\n",
        "        self.user_avg_ = None\n",
        "        self.item_avg_ = None\n",
        "        self.global_avg_ = None\n",
        "    \n",
        "    def fit(self, X):\n",
        "        self.user_avg_ = X.groupby('user_id')['rating'].mean()\n",
        "        self.item_avg_ = X.groupby('movie_id')['rating'].mean()\n",
        "        self.global_avg_ = X['rating'].mean()\n",
        "        return self\n",
        "    \n",
        "    def predict(self, X):\n",
        "        predictions = []\n",
        "        for _, row in X.iterrows():\n",
        "            u = row['user_id']\n",
        "            i = row['movie_id']\n",
        "            r_u = self.user_avg_.get(u, self.global_avg_)\n",
        "            r_i = self.item_avg_.get(i, self.global_avg_)\n",
        "            pred = (r_u + r_i) / 2\n",
        "            predictions.append(pred)\n",
        "        return np.array(predictions)"
      ]
    },
    {
      "cell_type": "code",
      "execution_count": 5,
      "metadata": {},
      "outputs": [
        {
          "name": "stdout",
          "output_type": "stream",
          "text": [
            "Predictions shape: (51161,)\n",
            "Sample predictions: [3.95069953 3.21911197 3.33018868 3.34670054 3.7989899 ]\n"
          ]
        }
      ],
      "source": [
        "# Create an instance of the UserItemAverageRS and fit the model\n",
        "rs = UserItemAverageRS()\n",
        "rs.fit(train)\n",
        "\n",
        "# Make predictions\n",
        "y_pred = rs.predict(test)\n",
        "\n",
        "print(\"Predictions shape:\", y_pred.shape)\n",
        "print(\"Sample predictions:\", y_pred[:5])"
      ]
    },
    {
      "cell_type": "code",
      "execution_count": 6,
      "metadata": {},
      "outputs": [
        {
          "name": "stdout",
          "output_type": "stream",
          "text": [
            "Root Mean Squared Error (RMSE): 0.9816\n"
          ]
        }
      ],
      "source": [
        "# Compute RMSE\n",
        "rmse = RMSE(test['rating'], y_pred)\n",
        "print(f\"Root Mean Squared Error (RMSE): {rmse:.4f}\")"
      ]
    },
    {
      "cell_type": "markdown",
      "metadata": {
        "id": "nfhb-neEeJGI"
      },
      "source": [
        "## **Q3: GridSearch CV for Ridge Regression**"
      ]
    },
    {
      "cell_type": "markdown",
      "metadata": {
        "id": "Dofg2gK_Ynir"
      },
      "source": [
        "**Task Description**\n",
        "\n",
        "In this question, you will use the California Housing dataset to explore the use of GridSearch CV for hyperparameter tuning in *Ridge Regression* (similar to OLS but with penalty of the L2 norm of linear coefficients).\n",
        "\n",
        "**Ridge Regression Formula**\n",
        "\n",
        "Ridge regression is a linear regression technique that adds a regularization term to the cost function to reduce overfitting. The formula for ridge regression is:\n",
        "\n",
        "$$\\hat{y} = \\mathbf{w}^T \\mathbf{x} + b$$\n",
        "\n",
        "where:\n",
        "\n",
        "* $\\hat{y}$ is the predicted value\n",
        "* $\\mathbf{w}$ is the weight vector\n",
        "* $\\mathbf{x}$ is the feature vector\n",
        "* $b$ is the bias term\n",
        "\n",
        "The cost function for ridge regression is:\n",
        "\n",
        "$$J(\\mathbf{w}, b) = \\frac{1}{2} \\sum_{i=1}^{n} (y_i - \\hat{y}_i)^2 + \\frac{\\alpha}{2} \\|\\mathbf{w}\\|^2$$\n",
        "\n",
        "where:\n",
        "\n",
        "* $y_i$ is the actual value\n",
        "* $\\hat{y}_i$ is the predicted value\n",
        "* $n$ is the number of samples\n",
        "* $\\alpha$ is the regularization strength (hyperparameter)\n",
        "* $\\|\\mathbf{w}\\|^2$ is the L2 norm of the weight vector\n",
        "\n",
        "**Hyperparameter to Tune**\n",
        "\n",
        "The hyperparameter to tune in ridge regression is $\\alpha$, which controls the strength of the regularization. A larger value of $\\alpha$ will result in stronger regularization, which can help reduce overfitting but may also lead to underfitting. A smaller value of $\\alpha$ will result in weaker regularization, which can improve model performance on the training data but may lead to overfitting.\n",
        "\n",
        "The goal of hyperparameter tuning is to find the optimal value of $\\alpha$ that balances the trade-off between model complexity and goodness of fit.\n",
        "\n",
        "\n",
        "**Your task** is to find the optimal hyperparameters for Ridge Regression using `GridSearch` CV and evaluate its performance on the test set.\n",
        "\n",
        "Please use the following code to load the dataset.\n",
        "\n",
        "```python\n",
        "import numpy as np\n",
        "import pandas as pd\n",
        "from sklearn.linear_model import Ridge\n",
        "from sklearn.model_selection import GridSearchCV\n",
        "\n",
        "train = pd.read_csv('https://raw.githubusercontent.com/statmlben/CUHK-STAT3009/refs/heads/main/dataset/housing/train.csv')\n",
        "test = pd.read_csv('https://raw.githubusercontent.com/statmlben/CUHK-STAT3009/refs/heads/main/dataset/housing/test.csv')\n",
        "\n",
        "feat_col = ['MedInc', 'HouseAge',\n",
        "            'AveRooms', 'AveBedrms',\n",
        "            'Population', 'AveOccup',\n",
        "            'Latitude', 'Longitude']\n",
        "\n",
        "target = 'MedHouseVal'\n",
        "\n",
        "X_train, y_train = train[feat_col].values, train[target].values\n",
        "X_test, y_test = test[feat_col].values, test[target].values\n",
        "```\n"
      ]
    },
    {
      "cell_type": "code",
      "execution_count": 7,
      "metadata": {},
      "outputs": [
        {
          "name": "stdout",
          "output_type": "stream",
          "text": [
            "Training data shape: (13828, 8)\n",
            "Test data shape: (6812, 8)\n"
          ]
        }
      ],
      "source": [
        "# Load the necessary libraries\n",
        "import numpy as np\n",
        "import pandas as pd\n",
        "from sklearn.linear_model import Ridge\n",
        "from sklearn.model_selection import GridSearchCV\n",
        "from sklearn.metrics import mean_squared_error\n",
        "\n",
        "# Load the California Housing dataset\n",
        "train = pd.read_csv('https://raw.githubusercontent.com/statmlben/CUHK-STAT3009/refs/heads/main/dataset/housing/train.csv')\n",
        "test = pd.read_csv('https://raw.githubusercontent.com/statmlben/CUHK-STAT3009/refs/heads/main/dataset/housing/test.csv')\n",
        "\n",
        "# Define feature columns and target\n",
        "feat_col = ['MedInc', 'HouseAge', 'AveRooms', 'AveBedrms', 'Population', 'AveOccup', 'Latitude', 'Longitude']\n",
        "target = 'MedHouseVal'\n",
        "\n",
        "# Prepare training and test data\n",
        "X_train, y_train = train[feat_col].values, train[target].values\n",
        "X_test, y_test = test[feat_col].values, test[target].values\n",
        "\n",
        "# Display basic info\n",
        "print(\"Training data shape:\", X_train.shape)\n",
        "print(\"Test data shape:\", X_test.shape)"
      ]
    },
    {
      "cell_type": "code",
      "execution_count": 8,
      "metadata": {},
      "outputs": [
        {
          "name": "stdout",
          "output_type": "stream",
          "text": [
            "Fitting 5 folds for each of 4 candidates, totalling 20 fits\n",
            "Best alpha: 0.001\n"
          ]
        },
        {
          "name": "stderr",
          "output_type": "stream",
          "text": [
            "/Users/lamhoichun/Library/Python/3.9/lib/python/site-packages/sklearn/utils/extmath.py:203: RuntimeWarning: divide by zero encountered in matmul\n",
            "  ret = a @ b\n",
            "/Users/lamhoichun/Library/Python/3.9/lib/python/site-packages/sklearn/utils/extmath.py:203: RuntimeWarning: overflow encountered in matmul\n",
            "  ret = a @ b\n",
            "/Users/lamhoichun/Library/Python/3.9/lib/python/site-packages/sklearn/utils/extmath.py:203: RuntimeWarning: invalid value encountered in matmul\n",
            "  ret = a @ b\n",
            "/Users/lamhoichun/Library/Python/3.9/lib/python/site-packages/sklearn/linear_model/_base.py:279: RuntimeWarning: divide by zero encountered in matmul\n",
            "  return X @ coef_ + self.intercept_\n",
            "/Users/lamhoichun/Library/Python/3.9/lib/python/site-packages/sklearn/linear_model/_base.py:279: RuntimeWarning: overflow encountered in matmul\n",
            "  return X @ coef_ + self.intercept_\n",
            "/Users/lamhoichun/Library/Python/3.9/lib/python/site-packages/sklearn/linear_model/_base.py:279: RuntimeWarning: invalid value encountered in matmul\n",
            "  return X @ coef_ + self.intercept_\n",
            "/Users/lamhoichun/Library/Python/3.9/lib/python/site-packages/sklearn/utils/extmath.py:203: RuntimeWarning: divide by zero encountered in matmul\n",
            "  ret = a @ b\n",
            "/Users/lamhoichun/Library/Python/3.9/lib/python/site-packages/sklearn/utils/extmath.py:203: RuntimeWarning: overflow encountered in matmul\n",
            "  ret = a @ b\n",
            "/Users/lamhoichun/Library/Python/3.9/lib/python/site-packages/sklearn/utils/extmath.py:203: RuntimeWarning: invalid value encountered in matmul\n",
            "  ret = a @ b\n",
            "/Users/lamhoichun/Library/Python/3.9/lib/python/site-packages/sklearn/linear_model/_base.py:279: RuntimeWarning: divide by zero encountered in matmul\n",
            "  return X @ coef_ + self.intercept_\n",
            "/Users/lamhoichun/Library/Python/3.9/lib/python/site-packages/sklearn/linear_model/_base.py:279: RuntimeWarning: overflow encountered in matmul\n",
            "  return X @ coef_ + self.intercept_\n",
            "/Users/lamhoichun/Library/Python/3.9/lib/python/site-packages/sklearn/linear_model/_base.py:279: RuntimeWarning: invalid value encountered in matmul\n",
            "  return X @ coef_ + self.intercept_\n",
            "/Users/lamhoichun/Library/Python/3.9/lib/python/site-packages/sklearn/utils/extmath.py:203: RuntimeWarning: divide by zero encountered in matmul\n",
            "  ret = a @ b\n",
            "/Users/lamhoichun/Library/Python/3.9/lib/python/site-packages/sklearn/utils/extmath.py:203: RuntimeWarning: overflow encountered in matmul\n",
            "  ret = a @ b\n",
            "/Users/lamhoichun/Library/Python/3.9/lib/python/site-packages/sklearn/utils/extmath.py:203: RuntimeWarning: invalid value encountered in matmul\n",
            "  ret = a @ b\n",
            "/Users/lamhoichun/Library/Python/3.9/lib/python/site-packages/sklearn/linear_model/_base.py:279: RuntimeWarning: divide by zero encountered in matmul\n",
            "  return X @ coef_ + self.intercept_\n",
            "/Users/lamhoichun/Library/Python/3.9/lib/python/site-packages/sklearn/linear_model/_base.py:279: RuntimeWarning: overflow encountered in matmul\n",
            "  return X @ coef_ + self.intercept_\n",
            "/Users/lamhoichun/Library/Python/3.9/lib/python/site-packages/sklearn/linear_model/_base.py:279: RuntimeWarning: invalid value encountered in matmul\n",
            "  return X @ coef_ + self.intercept_\n",
            "/Users/lamhoichun/Library/Python/3.9/lib/python/site-packages/sklearn/utils/extmath.py:203: RuntimeWarning: divide by zero encountered in matmul\n",
            "  ret = a @ b\n",
            "/Users/lamhoichun/Library/Python/3.9/lib/python/site-packages/sklearn/utils/extmath.py:203: RuntimeWarning: overflow encountered in matmul\n",
            "  ret = a @ b\n",
            "/Users/lamhoichun/Library/Python/3.9/lib/python/site-packages/sklearn/utils/extmath.py:203: RuntimeWarning: invalid value encountered in matmul\n",
            "  ret = a @ b\n",
            "/Users/lamhoichun/Library/Python/3.9/lib/python/site-packages/sklearn/linear_model/_base.py:279: RuntimeWarning: divide by zero encountered in matmul\n",
            "  return X @ coef_ + self.intercept_\n",
            "/Users/lamhoichun/Library/Python/3.9/lib/python/site-packages/sklearn/linear_model/_base.py:279: RuntimeWarning: overflow encountered in matmul\n",
            "  return X @ coef_ + self.intercept_\n",
            "/Users/lamhoichun/Library/Python/3.9/lib/python/site-packages/sklearn/linear_model/_base.py:279: RuntimeWarning: invalid value encountered in matmul\n",
            "  return X @ coef_ + self.intercept_\n",
            "/Users/lamhoichun/Library/Python/3.9/lib/python/site-packages/sklearn/utils/extmath.py:203: RuntimeWarning: divide by zero encountered in matmul\n",
            "  ret = a @ b\n",
            "/Users/lamhoichun/Library/Python/3.9/lib/python/site-packages/sklearn/utils/extmath.py:203: RuntimeWarning: overflow encountered in matmul\n",
            "  ret = a @ b\n",
            "/Users/lamhoichun/Library/Python/3.9/lib/python/site-packages/sklearn/utils/extmath.py:203: RuntimeWarning: invalid value encountered in matmul\n",
            "  ret = a @ b\n",
            "/Users/lamhoichun/Library/Python/3.9/lib/python/site-packages/sklearn/linear_model/_base.py:279: RuntimeWarning: divide by zero encountered in matmul\n",
            "  return X @ coef_ + self.intercept_\n",
            "/Users/lamhoichun/Library/Python/3.9/lib/python/site-packages/sklearn/linear_model/_base.py:279: RuntimeWarning: overflow encountered in matmul\n",
            "  return X @ coef_ + self.intercept_\n",
            "/Users/lamhoichun/Library/Python/3.9/lib/python/site-packages/sklearn/linear_model/_base.py:279: RuntimeWarning: invalid value encountered in matmul\n",
            "  return X @ coef_ + self.intercept_\n",
            "/Users/lamhoichun/Library/Python/3.9/lib/python/site-packages/sklearn/utils/extmath.py:203: RuntimeWarning: divide by zero encountered in matmul\n",
            "  ret = a @ b\n",
            "/Users/lamhoichun/Library/Python/3.9/lib/python/site-packages/sklearn/utils/extmath.py:203: RuntimeWarning: overflow encountered in matmul\n",
            "  ret = a @ b\n",
            "/Users/lamhoichun/Library/Python/3.9/lib/python/site-packages/sklearn/utils/extmath.py:203: RuntimeWarning: invalid value encountered in matmul\n",
            "  ret = a @ b\n",
            "/Users/lamhoichun/Library/Python/3.9/lib/python/site-packages/sklearn/utils/extmath.py:203: RuntimeWarning: divide by zero encountered in matmul\n",
            "  ret = a @ b\n",
            "/Users/lamhoichun/Library/Python/3.9/lib/python/site-packages/sklearn/utils/extmath.py:203: RuntimeWarning: overflow encountered in matmul\n",
            "  ret = a @ b\n",
            "/Users/lamhoichun/Library/Python/3.9/lib/python/site-packages/sklearn/utils/extmath.py:203: RuntimeWarning: invalid value encountered in matmul\n",
            "  ret = a @ b\n",
            "/Users/lamhoichun/Library/Python/3.9/lib/python/site-packages/sklearn/linear_model/_base.py:279: RuntimeWarning: divide by zero encountered in matmul\n",
            "  return X @ coef_ + self.intercept_\n",
            "/Users/lamhoichun/Library/Python/3.9/lib/python/site-packages/sklearn/linear_model/_base.py:279: RuntimeWarning: overflow encountered in matmul\n",
            "  return X @ coef_ + self.intercept_\n",
            "/Users/lamhoichun/Library/Python/3.9/lib/python/site-packages/sklearn/linear_model/_base.py:279: RuntimeWarning: invalid value encountered in matmul\n",
            "  return X @ coef_ + self.intercept_\n",
            "/Users/lamhoichun/Library/Python/3.9/lib/python/site-packages/sklearn/linear_model/_base.py:279: RuntimeWarning: divide by zero encountered in matmul\n",
            "  return X @ coef_ + self.intercept_\n",
            "/Users/lamhoichun/Library/Python/3.9/lib/python/site-packages/sklearn/linear_model/_base.py:279: RuntimeWarning: overflow encountered in matmul\n",
            "  return X @ coef_ + self.intercept_\n",
            "/Users/lamhoichun/Library/Python/3.9/lib/python/site-packages/sklearn/linear_model/_base.py:279: RuntimeWarning: invalid value encountered in matmul\n",
            "  return X @ coef_ + self.intercept_\n",
            "/Users/lamhoichun/Library/Python/3.9/lib/python/site-packages/sklearn/utils/extmath.py:203: RuntimeWarning: divide by zero encountered in matmul\n",
            "  ret = a @ b\n",
            "/Users/lamhoichun/Library/Python/3.9/lib/python/site-packages/sklearn/utils/extmath.py:203: RuntimeWarning: overflow encountered in matmul\n",
            "  ret = a @ b\n",
            "/Users/lamhoichun/Library/Python/3.9/lib/python/site-packages/sklearn/utils/extmath.py:203: RuntimeWarning: invalid value encountered in matmul\n",
            "  ret = a @ b\n",
            "/Users/lamhoichun/Library/Python/3.9/lib/python/site-packages/sklearn/linear_model/_base.py:279: RuntimeWarning: divide by zero encountered in matmul\n",
            "  return X @ coef_ + self.intercept_\n",
            "/Users/lamhoichun/Library/Python/3.9/lib/python/site-packages/sklearn/linear_model/_base.py:279: RuntimeWarning: overflow encountered in matmul\n",
            "  return X @ coef_ + self.intercept_\n",
            "/Users/lamhoichun/Library/Python/3.9/lib/python/site-packages/sklearn/linear_model/_base.py:279: RuntimeWarning: invalid value encountered in matmul\n",
            "  return X @ coef_ + self.intercept_\n",
            "/Users/lamhoichun/Library/Python/3.9/lib/python/site-packages/sklearn/utils/extmath.py:203: RuntimeWarning: divide by zero encountered in matmul\n",
            "  ret = a @ b\n",
            "/Users/lamhoichun/Library/Python/3.9/lib/python/site-packages/sklearn/utils/extmath.py:203: RuntimeWarning: overflow encountered in matmul\n",
            "  ret = a @ b\n",
            "/Users/lamhoichun/Library/Python/3.9/lib/python/site-packages/sklearn/utils/extmath.py:203: RuntimeWarning: invalid value encountered in matmul\n",
            "  ret = a @ b\n",
            "/Users/lamhoichun/Library/Python/3.9/lib/python/site-packages/sklearn/linear_model/_base.py:279: RuntimeWarning: divide by zero encountered in matmul\n",
            "  return X @ coef_ + self.intercept_\n",
            "/Users/lamhoichun/Library/Python/3.9/lib/python/site-packages/sklearn/linear_model/_base.py:279: RuntimeWarning: overflow encountered in matmul\n",
            "  return X @ coef_ + self.intercept_\n",
            "/Users/lamhoichun/Library/Python/3.9/lib/python/site-packages/sklearn/linear_model/_base.py:279: RuntimeWarning: invalid value encountered in matmul\n",
            "  return X @ coef_ + self.intercept_\n",
            "/Users/lamhoichun/Library/Python/3.9/lib/python/site-packages/sklearn/utils/extmath.py:203: RuntimeWarning: divide by zero encountered in matmul\n",
            "  ret = a @ b\n",
            "/Users/lamhoichun/Library/Python/3.9/lib/python/site-packages/sklearn/utils/extmath.py:203: RuntimeWarning: overflow encountered in matmul\n",
            "  ret = a @ b\n",
            "/Users/lamhoichun/Library/Python/3.9/lib/python/site-packages/sklearn/utils/extmath.py:203: RuntimeWarning: invalid value encountered in matmul\n",
            "  ret = a @ b\n",
            "/Users/lamhoichun/Library/Python/3.9/lib/python/site-packages/sklearn/linear_model/_base.py:279: RuntimeWarning: divide by zero encountered in matmul\n",
            "  return X @ coef_ + self.intercept_\n",
            "/Users/lamhoichun/Library/Python/3.9/lib/python/site-packages/sklearn/linear_model/_base.py:279: RuntimeWarning: overflow encountered in matmul\n",
            "  return X @ coef_ + self.intercept_\n",
            "/Users/lamhoichun/Library/Python/3.9/lib/python/site-packages/sklearn/linear_model/_base.py:279: RuntimeWarning: invalid value encountered in matmul\n",
            "  return X @ coef_ + self.intercept_\n",
            "/Users/lamhoichun/Library/Python/3.9/lib/python/site-packages/sklearn/utils/extmath.py:203: RuntimeWarning: divide by zero encountered in matmul\n",
            "  ret = a @ b\n",
            "/Users/lamhoichun/Library/Python/3.9/lib/python/site-packages/sklearn/utils/extmath.py:203: RuntimeWarning: overflow encountered in matmul\n",
            "  ret = a @ b\n",
            "/Users/lamhoichun/Library/Python/3.9/lib/python/site-packages/sklearn/utils/extmath.py:203: RuntimeWarning: invalid value encountered in matmul\n",
            "  ret = a @ b\n",
            "/Users/lamhoichun/Library/Python/3.9/lib/python/site-packages/sklearn/linear_model/_base.py:279: RuntimeWarning: divide by zero encountered in matmul\n",
            "  return X @ coef_ + self.intercept_\n",
            "/Users/lamhoichun/Library/Python/3.9/lib/python/site-packages/sklearn/linear_model/_base.py:279: RuntimeWarning: overflow encountered in matmul\n",
            "  return X @ coef_ + self.intercept_\n",
            "/Users/lamhoichun/Library/Python/3.9/lib/python/site-packages/sklearn/linear_model/_base.py:279: RuntimeWarning: invalid value encountered in matmul\n",
            "  return X @ coef_ + self.intercept_\n",
            "/Users/lamhoichun/Library/Python/3.9/lib/python/site-packages/sklearn/utils/extmath.py:203: RuntimeWarning: divide by zero encountered in matmul\n",
            "  ret = a @ b\n",
            "/Users/lamhoichun/Library/Python/3.9/lib/python/site-packages/sklearn/utils/extmath.py:203: RuntimeWarning: overflow encountered in matmul\n",
            "  ret = a @ b\n",
            "/Users/lamhoichun/Library/Python/3.9/lib/python/site-packages/sklearn/utils/extmath.py:203: RuntimeWarning: invalid value encountered in matmul\n",
            "  ret = a @ b\n",
            "/Users/lamhoichun/Library/Python/3.9/lib/python/site-packages/sklearn/linear_model/_base.py:279: RuntimeWarning: divide by zero encountered in matmul\n",
            "  return X @ coef_ + self.intercept_\n",
            "/Users/lamhoichun/Library/Python/3.9/lib/python/site-packages/sklearn/linear_model/_base.py:279: RuntimeWarning: overflow encountered in matmul\n",
            "  return X @ coef_ + self.intercept_\n",
            "/Users/lamhoichun/Library/Python/3.9/lib/python/site-packages/sklearn/linear_model/_base.py:279: RuntimeWarning: invalid value encountered in matmul\n",
            "  return X @ coef_ + self.intercept_\n",
            "/Users/lamhoichun/Library/Python/3.9/lib/python/site-packages/sklearn/utils/extmath.py:203: RuntimeWarning: divide by zero encountered in matmul\n",
            "  ret = a @ b\n",
            "/Users/lamhoichun/Library/Python/3.9/lib/python/site-packages/sklearn/utils/extmath.py:203: RuntimeWarning: overflow encountered in matmul\n",
            "  ret = a @ b\n",
            "/Users/lamhoichun/Library/Python/3.9/lib/python/site-packages/sklearn/utils/extmath.py:203: RuntimeWarning: invalid value encountered in matmul\n",
            "  ret = a @ b\n",
            "/Users/lamhoichun/Library/Python/3.9/lib/python/site-packages/sklearn/linear_model/_base.py:279: RuntimeWarning: divide by zero encountered in matmul\n",
            "  return X @ coef_ + self.intercept_\n",
            "/Users/lamhoichun/Library/Python/3.9/lib/python/site-packages/sklearn/linear_model/_base.py:279: RuntimeWarning: overflow encountered in matmul\n",
            "  return X @ coef_ + self.intercept_\n",
            "/Users/lamhoichun/Library/Python/3.9/lib/python/site-packages/sklearn/linear_model/_base.py:279: RuntimeWarning: invalid value encountered in matmul\n",
            "  return X @ coef_ + self.intercept_\n",
            "/Users/lamhoichun/Library/Python/3.9/lib/python/site-packages/sklearn/utils/extmath.py:203: RuntimeWarning: divide by zero encountered in matmul\n",
            "  ret = a @ b\n",
            "/Users/lamhoichun/Library/Python/3.9/lib/python/site-packages/sklearn/utils/extmath.py:203: RuntimeWarning: overflow encountered in matmul\n",
            "  ret = a @ b\n",
            "/Users/lamhoichun/Library/Python/3.9/lib/python/site-packages/sklearn/utils/extmath.py:203: RuntimeWarning: invalid value encountered in matmul\n",
            "  ret = a @ b\n",
            "/Users/lamhoichun/Library/Python/3.9/lib/python/site-packages/sklearn/utils/extmath.py:203: RuntimeWarning: divide by zero encountered in matmul\n",
            "  ret = a @ b\n",
            "/Users/lamhoichun/Library/Python/3.9/lib/python/site-packages/sklearn/utils/extmath.py:203: RuntimeWarning: overflow encountered in matmul\n",
            "  ret = a @ b\n",
            "/Users/lamhoichun/Library/Python/3.9/lib/python/site-packages/sklearn/utils/extmath.py:203: RuntimeWarning: invalid value encountered in matmul\n",
            "  ret = a @ b\n",
            "/Users/lamhoichun/Library/Python/3.9/lib/python/site-packages/sklearn/linear_model/_base.py:279: RuntimeWarning: divide by zero encountered in matmul\n",
            "  return X @ coef_ + self.intercept_\n",
            "/Users/lamhoichun/Library/Python/3.9/lib/python/site-packages/sklearn/linear_model/_base.py:279: RuntimeWarning: overflow encountered in matmul\n",
            "  return X @ coef_ + self.intercept_\n",
            "/Users/lamhoichun/Library/Python/3.9/lib/python/site-packages/sklearn/linear_model/_base.py:279: RuntimeWarning: invalid value encountered in matmul\n",
            "  return X @ coef_ + self.intercept_\n",
            "/Users/lamhoichun/Library/Python/3.9/lib/python/site-packages/sklearn/linear_model/_base.py:279: RuntimeWarning: divide by zero encountered in matmul\n",
            "  return X @ coef_ + self.intercept_\n",
            "/Users/lamhoichun/Library/Python/3.9/lib/python/site-packages/sklearn/linear_model/_base.py:279: RuntimeWarning: overflow encountered in matmul\n",
            "  return X @ coef_ + self.intercept_\n",
            "/Users/lamhoichun/Library/Python/3.9/lib/python/site-packages/sklearn/linear_model/_base.py:279: RuntimeWarning: invalid value encountered in matmul\n",
            "  return X @ coef_ + self.intercept_\n",
            "/Users/lamhoichun/Library/Python/3.9/lib/python/site-packages/sklearn/utils/extmath.py:203: RuntimeWarning: divide by zero encountered in matmul\n",
            "  ret = a @ b\n",
            "/Users/lamhoichun/Library/Python/3.9/lib/python/site-packages/sklearn/utils/extmath.py:203: RuntimeWarning: overflow encountered in matmul\n",
            "  ret = a @ b\n",
            "/Users/lamhoichun/Library/Python/3.9/lib/python/site-packages/sklearn/utils/extmath.py:203: RuntimeWarning: invalid value encountered in matmul\n",
            "  ret = a @ b\n",
            "/Users/lamhoichun/Library/Python/3.9/lib/python/site-packages/sklearn/linear_model/_base.py:279: RuntimeWarning: divide by zero encountered in matmul\n",
            "  return X @ coef_ + self.intercept_\n",
            "/Users/lamhoichun/Library/Python/3.9/lib/python/site-packages/sklearn/linear_model/_base.py:279: RuntimeWarning: overflow encountered in matmul\n",
            "  return X @ coef_ + self.intercept_\n",
            "/Users/lamhoichun/Library/Python/3.9/lib/python/site-packages/sklearn/linear_model/_base.py:279: RuntimeWarning: invalid value encountered in matmul\n",
            "  return X @ coef_ + self.intercept_\n",
            "/Users/lamhoichun/Library/Python/3.9/lib/python/site-packages/sklearn/utils/extmath.py:203: RuntimeWarning: divide by zero encountered in matmul\n",
            "  ret = a @ b\n",
            "/Users/lamhoichun/Library/Python/3.9/lib/python/site-packages/sklearn/utils/extmath.py:203: RuntimeWarning: overflow encountered in matmul\n",
            "  ret = a @ b\n",
            "/Users/lamhoichun/Library/Python/3.9/lib/python/site-packages/sklearn/utils/extmath.py:203: RuntimeWarning: invalid value encountered in matmul\n",
            "  ret = a @ b\n",
            "/Users/lamhoichun/Library/Python/3.9/lib/python/site-packages/sklearn/linear_model/_base.py:279: RuntimeWarning: divide by zero encountered in matmul\n",
            "  return X @ coef_ + self.intercept_\n",
            "/Users/lamhoichun/Library/Python/3.9/lib/python/site-packages/sklearn/linear_model/_base.py:279: RuntimeWarning: overflow encountered in matmul\n",
            "  return X @ coef_ + self.intercept_\n",
            "/Users/lamhoichun/Library/Python/3.9/lib/python/site-packages/sklearn/linear_model/_base.py:279: RuntimeWarning: invalid value encountered in matmul\n",
            "  return X @ coef_ + self.intercept_\n",
            "/Users/lamhoichun/Library/Python/3.9/lib/python/site-packages/sklearn/utils/extmath.py:203: RuntimeWarning: divide by zero encountered in matmul\n",
            "  ret = a @ b\n",
            "/Users/lamhoichun/Library/Python/3.9/lib/python/site-packages/sklearn/utils/extmath.py:203: RuntimeWarning: overflow encountered in matmul\n",
            "  ret = a @ b\n",
            "/Users/lamhoichun/Library/Python/3.9/lib/python/site-packages/sklearn/utils/extmath.py:203: RuntimeWarning: invalid value encountered in matmul\n",
            "  ret = a @ b\n",
            "/Users/lamhoichun/Library/Python/3.9/lib/python/site-packages/sklearn/linear_model/_base.py:279: RuntimeWarning: divide by zero encountered in matmul\n",
            "  return X @ coef_ + self.intercept_\n",
            "/Users/lamhoichun/Library/Python/3.9/lib/python/site-packages/sklearn/linear_model/_base.py:279: RuntimeWarning: overflow encountered in matmul\n",
            "  return X @ coef_ + self.intercept_\n",
            "/Users/lamhoichun/Library/Python/3.9/lib/python/site-packages/sklearn/linear_model/_base.py:279: RuntimeWarning: invalid value encountered in matmul\n",
            "  return X @ coef_ + self.intercept_\n",
            "/Users/lamhoichun/Library/Python/3.9/lib/python/site-packages/sklearn/utils/extmath.py:203: RuntimeWarning: divide by zero encountered in matmul\n",
            "  ret = a @ b\n",
            "/Users/lamhoichun/Library/Python/3.9/lib/python/site-packages/sklearn/utils/extmath.py:203: RuntimeWarning: overflow encountered in matmul\n",
            "  ret = a @ b\n",
            "/Users/lamhoichun/Library/Python/3.9/lib/python/site-packages/sklearn/utils/extmath.py:203: RuntimeWarning: invalid value encountered in matmul\n",
            "  ret = a @ b\n",
            "/Users/lamhoichun/Library/Python/3.9/lib/python/site-packages/sklearn/utils/extmath.py:203: RuntimeWarning: divide by zero encountered in matmul\n",
            "  ret = a @ b\n",
            "/Users/lamhoichun/Library/Python/3.9/lib/python/site-packages/sklearn/utils/extmath.py:203: RuntimeWarning: overflow encountered in matmul\n",
            "  ret = a @ b\n",
            "/Users/lamhoichun/Library/Python/3.9/lib/python/site-packages/sklearn/utils/extmath.py:203: RuntimeWarning: invalid value encountered in matmul\n",
            "  ret = a @ b\n",
            "/Users/lamhoichun/Library/Python/3.9/lib/python/site-packages/sklearn/linear_model/_base.py:279: RuntimeWarning: divide by zero encountered in matmul\n",
            "  return X @ coef_ + self.intercept_\n",
            "/Users/lamhoichun/Library/Python/3.9/lib/python/site-packages/sklearn/linear_model/_base.py:279: RuntimeWarning: overflow encountered in matmul\n",
            "  return X @ coef_ + self.intercept_\n",
            "/Users/lamhoichun/Library/Python/3.9/lib/python/site-packages/sklearn/linear_model/_base.py:279: RuntimeWarning: invalid value encountered in matmul\n",
            "  return X @ coef_ + self.intercept_\n",
            "/Users/lamhoichun/Library/Python/3.9/lib/python/site-packages/sklearn/linear_model/_base.py:279: RuntimeWarning: divide by zero encountered in matmul\n",
            "  return X @ coef_ + self.intercept_\n",
            "/Users/lamhoichun/Library/Python/3.9/lib/python/site-packages/sklearn/linear_model/_base.py:279: RuntimeWarning: overflow encountered in matmul\n",
            "  return X @ coef_ + self.intercept_\n",
            "/Users/lamhoichun/Library/Python/3.9/lib/python/site-packages/sklearn/linear_model/_base.py:279: RuntimeWarning: invalid value encountered in matmul\n",
            "  return X @ coef_ + self.intercept_\n",
            "/Users/lamhoichun/Library/Python/3.9/lib/python/site-packages/sklearn/utils/extmath.py:203: RuntimeWarning: divide by zero encountered in matmul\n",
            "  ret = a @ b\n",
            "/Users/lamhoichun/Library/Python/3.9/lib/python/site-packages/sklearn/utils/extmath.py:203: RuntimeWarning: overflow encountered in matmul\n",
            "  ret = a @ b\n",
            "/Users/lamhoichun/Library/Python/3.9/lib/python/site-packages/sklearn/utils/extmath.py:203: RuntimeWarning: invalid value encountered in matmul\n",
            "  ret = a @ b\n"
          ]
        }
      ],
      "source": [
        "# Define Ridge Regression model\n",
        "ridge = Ridge()\n",
        "\n",
        "# Define hyperparameter grid for alpha\n",
        "param_grid = {'alpha': [0.001, 0.01, 0.1, 1.0]}\n",
        "\n",
        "# Set up GridSearchCV\n",
        "gs_ridge = GridSearchCV(\n",
        "    estimator=ridge,\n",
        "    param_grid=param_grid,\n",
        "    scoring='neg_mean_squared_error',\n",
        "    cv=5,\n",
        "    n_jobs=-1,\n",
        "    verbose=1\n",
        ")\n",
        "\n",
        "# Fit GridSearchCV to training data\n",
        "gs_ridge.fit(X_train, y_train)\n",
        "\n",
        "# Print best parameters and score\n",
        "print(\"Best alpha:\", gs_ridge.best_params_['alpha'])"
      ]
    },
    {
      "cell_type": "code",
      "execution_count": 9,
      "metadata": {},
      "outputs": [
        {
          "name": "stdout",
          "output_type": "stream",
          "text": [
            "Test set RMSE: 0.7328\n"
          ]
        },
        {
          "name": "stderr",
          "output_type": "stream",
          "text": [
            "/Users/lamhoichun/Library/Python/3.9/lib/python/site-packages/sklearn/linear_model/_base.py:279: RuntimeWarning: divide by zero encountered in matmul\n",
            "  return X @ coef_ + self.intercept_\n",
            "/Users/lamhoichun/Library/Python/3.9/lib/python/site-packages/sklearn/linear_model/_base.py:279: RuntimeWarning: overflow encountered in matmul\n",
            "  return X @ coef_ + self.intercept_\n",
            "/Users/lamhoichun/Library/Python/3.9/lib/python/site-packages/sklearn/linear_model/_base.py:279: RuntimeWarning: invalid value encountered in matmul\n",
            "  return X @ coef_ + self.intercept_\n"
          ]
        }
      ],
      "source": [
        "# Get the best model\n",
        "best_ridge = gs_ridge.best_estimator_\n",
        "\n",
        "# Predict on test set\n",
        "y_pred = best_ridge.predict(X_test)\n",
        "\n",
        "# Compute RMSE on test set\n",
        "test_rmse = RMSE(y_test, y_pred)\n",
        "print(f\"Test set RMSE: {test_rmse:.4f}\")"
      ]
    },
    {
      "cell_type": "markdown",
      "metadata": {
        "id": "vjjRgLhzeRNP"
      },
      "source": [
        "## **Q4 (Bonus): Generlized Sequential RS**"
      ]
    },
    {
      "cell_type": "markdown",
      "metadata": {
        "id": "orOtdvOmacxn"
      },
      "source": [
        "**Task Description:**\n",
        "\n",
        "Design and implement a general `sklearn.BaseEstimator` type class `seqRS` that supports sequential fitting and prediction based on a list of recommender system (RS) methods. Test the class by using `UserMeanRS` and `ItemMeanRS` with custom hps, and report the RMSE for the prediction.\n",
        "\n",
        "**Motivation:**\n",
        "\n",
        "As demonstrated in the lecture, we can first fit a `UserMeanRS` model, then fit an `ItemMeanRS` model on the residuals, and so on. This approach can be generalized to a sequence of RS methods.\n",
        "\n",
        "**Requirements:**\n",
        "\n",
        "* The `seqRS` class should take a list of RS methods (`RS_list`) as an argument. (Each RS has `fit` and `predict` methods)\n",
        "* The `fit` method should sequentially fit each RS method in the list to the training data.\n",
        "* The `predict` method should generate predictions for the test data based on the fitted RS models.\n",
        "\n",
        "**Example Usage:**\n",
        "```python\n",
        "test_seqRS = seqRS(RS_list=[UserMeanRS(n_users, min_data=5), ItemMeanRS(n_items, min_data=3)])\n",
        "\n",
        "test_seqRS.fit(X_train, y_train)\n",
        "y_pred = test_seqRS.predict(X_test)\n",
        "```\n",
        "**Goal:** Implement the `seqRS` class to support this sequential fitting and prediction workflow.\n",
        "\n",
        "**Note:** Using following python code to load data:\n",
        "\n",
        "```python\n",
        "import numpy as np\n",
        "import pandas as pd\n",
        "\n",
        "train = pd.read_csv('https://raw.githubusercontent.com/statmlben/CUHK-STAT3009/main/dataset/netflix/train.csv')\n",
        "test = pd.read_csv('https://raw.githubusercontent.com/statmlben/CUHK-STAT3009/main/dataset/netflix/test.csv')\n",
        "\n",
        "## RS data casting with ML format\n",
        "X_train = train[['user_id', 'movie_id']].values\n",
        "y_train = train['rating'].values\n",
        "\n",
        "X_test = test[['user_id', 'movie_id']].values\n",
        "y_test = test['rating'].values\n",
        "```\n",
        "\n",
        "The baseline methods are defined as:\n",
        "\n",
        "```python\n",
        "import numpy as np\n",
        "from sklearn.base import BaseEstimator, RegressorMixin\n",
        "\n",
        "class UserMeanRS(BaseEstimator, RegressorMixin):\n",
        "    def __init__(self, n_users, min_data=3):\n",
        "        self.n_users = n_users\n",
        "        self.global_mean_ = 0\n",
        "        self.min_data = min_data\n",
        "        self.user_means_ = np.zeros(n_users)\n",
        "\n",
        "    def fit(self, X, y):\n",
        "        self.global_mean_ = np.mean(y)\n",
        "        for user in range(self.n_users):\n",
        "            user_indices = np.where(X[:, 0] == user)[0]\n",
        "            if len(user_indices) <= self.min_data:\n",
        "                self.user_means_[user] = self.global_mean_\n",
        "            else:\n",
        "                self.user_means_[user] = np.mean(y[user_indices])\n",
        "        return self\n",
        "\n",
        "    def predict(self, X):\n",
        "        user_indices = X[:, 0]\n",
        "        return self.user_means_[user_indices]\n",
        "\n",
        "class ItemMeanRS(BaseEstimator, RegressorMixin):\n",
        "    def __init__(self, n_items, min_data=3):\n",
        "        self.n_items = n_items\n",
        "        self.global_mean_ = 0\n",
        "        self.min_data = min_data\n",
        "        self.item_means_ = np.zeros(n_items)\n",
        "\n",
        "    def fit(self, X, y):\n",
        "        self.global_mean_ = np.mean(y)\n",
        "        for item in range(self.n_items):\n",
        "            item_indices = np.where(X[:, 1] == item)[0]\n",
        "            if len(item_indices) <= self.min_data:\n",
        "                self.item_means_[item] = self.global_mean_\n",
        "            else:\n",
        "                self.item_means_[item] = np.mean(y[item_indices])\n",
        "        return self\n",
        "\n",
        "    def predict(self, X):\n",
        "        item_indices = X[:, 1]\n",
        "        return self.item_means_[item_indices]\n",
        "```"
      ]
    },
    {
      "cell_type": "code",
      "execution_count": null,
      "metadata": {
        "id": "9xn0SSjhd3Jd"
      },
      "outputs": [
        {
          "name": "stdout",
          "output_type": "stream",
          "text": [
            "Training data shape: (51161, 2)\n",
            "Test data shape: (51161, 2)\n",
            "Number of users: 2000\n",
            "Number of items: 3568\n"
          ]
        }
      ],
      "source": [
        "# Import necessary libraries\n",
        "import numpy as np\n",
        "import pandas as pd\n",
        "from sklearn.base import BaseEstimator, RegressorMixin\n",
        "from sklearn.metrics import mean_squared_error\n",
        "\n",
        "# Load the Netflix dataset\n",
        "train = pd.read_csv('https://raw.githubusercontent.com/statmlben/CUHK-STAT3009/main/dataset/netflix/train.csv')\n",
        "test = pd.read_csv('https://raw.githubusercontent.com/statmlben/CUHK-STAT3009/main/dataset/netflix/test.csv')\n",
        "\n",
        "# Train-test split\n",
        "X_train = train[['user_id', 'movie_id']].values\n",
        "y_train = train['rating'].values\n",
        "X_test = test[['user_id', 'movie_id']].values\n",
        "y_test = test['rating'].values\n",
        "\n",
        "# Compute number of users and items\n",
        "n_users = len(set(train['user_id']).union(set(test['user_id'])))\n",
        "n_items = len(set(train['movie_id']).union(set(test['movie_id'])))\n",
        "\n",
        "print(\"Training data shape:\", X_train.shape)\n",
        "print(\"Test data shape:\", X_test.shape)\n",
        "print(\"Number of users:\", n_users)\n",
        "print(\"Number of items:\", n_items)"
      ]
    },
    {
      "cell_type": "code",
      "execution_count": 11,
      "metadata": {},
      "outputs": [],
      "source": [
        "# Class for the User-Item Average RS\n",
        "class UserMeanRS(BaseEstimator, RegressorMixin):\n",
        "    def __init__(self, n_users, min_data=3):\n",
        "        self.n_users = n_users\n",
        "        self.global_mean_ = 0\n",
        "        self.min_data = min_data\n",
        "        self.user_means_ = np.zeros(n_users)\n",
        "\n",
        "    def fit(self, X, y):\n",
        "        self.global_mean_ = np.mean(y)\n",
        "        for user in range(self.n_users):\n",
        "            user_indices = np.where(X[:, 0] == user)[0]\n",
        "            if len(user_indices) <= self.min_data:\n",
        "                self.user_means_[user] = self.global_mean_\n",
        "            else:\n",
        "                self.user_means_[user] = np.mean(y[user_indices])\n",
        "        return self\n",
        "\n",
        "    def predict(self, X):\n",
        "        user_indices = X[:, 0]\n",
        "        return self.user_means_[user_indices]"
      ]
    },
    {
      "cell_type": "code",
      "execution_count": 12,
      "metadata": {},
      "outputs": [],
      "source": [
        "# Class for the Item-Mean RS\n",
        "class ItemMeanRS(BaseEstimator, RegressorMixin):\n",
        "    def __init__(self, n_items, min_data=3):\n",
        "        self.n_items = n_items\n",
        "        self.global_mean_ = 0\n",
        "        self.min_data = min_data\n",
        "        self.item_means_ = np.zeros(n_items)\n",
        "\n",
        "    def fit(self, X, y):\n",
        "        self.global_mean_ = np.mean(y)\n",
        "        for item in range(self.n_items):\n",
        "            item_indices = np.where(X[:, 1] == item)[0]\n",
        "            if len(item_indices) <= self.min_data:\n",
        "                self.item_means_[item] = self.global_mean_\n",
        "            else:\n",
        "                self.item_means_[item] = np.mean(y[item_indices])\n",
        "        return self\n",
        "\n",
        "    def predict(self, X):\n",
        "        item_indices = X[:, 1]\n",
        "        return self.item_means_[item_indices]"
      ]
    },
    {
      "cell_type": "code",
      "execution_count": 13,
      "metadata": {},
      "outputs": [],
      "source": [
        "# Class for the Sequential RS\n",
        "class seqRS(BaseEstimator, RegressorMixin):\n",
        "    def __init__(self, RS_list):\n",
        "        self.RS_list = RS_list\n",
        "        self.fitted_models_ = []\n",
        "\n",
        "    def fit(self, X, y):\n",
        "        self.fitted_models_ = []\n",
        "        current_y = y.copy()\n",
        "        \n",
        "        for rs in self.RS_list:\n",
        "            # Fit the current RS model\n",
        "            rs.fit(X, current_y)\n",
        "            self.fitted_models_.append(rs)\n",
        "            # Compute residuals for the next model\n",
        "            current_y = current_y - rs.predict(X)\n",
        "        \n",
        "        return self\n",
        "\n",
        "    def predict(self, X):\n",
        "        predictions = np.zeros(X.shape[0])\n",
        "        for rs in self.fitted_models_:\n",
        "            predictions += rs.predict(X)\n",
        "        return predictions"
      ]
    },
    {
      "cell_type": "code",
      "execution_count": 14,
      "metadata": {},
      "outputs": [
        {
          "name": "stdout",
          "output_type": "stream",
          "text": [
            "Test set RMSE: 0.9611\n"
          ]
        }
      ],
      "source": [
        "# Create an instance of the Sequential RS\n",
        "test_seqRS = seqRS(RS_list=[\n",
        "    UserMeanRS(n_users=n_users, min_data=5),\n",
        "    ItemMeanRS(n_items=n_items, min_data=5)\n",
        "])\n",
        "\n",
        "# Fit the Sequential RS\n",
        "test_seqRS.fit(X_train, y_train)\n",
        "\n",
        "# Make predictions\n",
        "y_pred = test_seqRS.predict(X_test)\n",
        "\n",
        "# Compute RMSE\n",
        "rmse = RMSE(y_test, y_pred)\n",
        "print(f\"Test set RMSE: {rmse:.4f}\")"
      ]
    }
  ],
  "metadata": {
    "colab": {
      "collapsed_sections": [
        "WuHmYEZUWptO",
        "p2Bg9HljeElN",
        "nfhb-neEeJGI",
        "vjjRgLhzeRNP"
      ],
      "provenance": []
    },
    "kernelspec": {
      "display_name": "Python 3",
      "name": "python3"
    },
    "language_info": {
      "codemirror_mode": {
        "name": "ipython",
        "version": 3
      },
      "file_extension": ".py",
      "mimetype": "text/x-python",
      "name": "python",
      "nbconvert_exporter": "python",
      "pygments_lexer": "ipython3",
      "version": "3.9.6"
    }
  },
  "nbformat": 4,
  "nbformat_minor": 0
}
